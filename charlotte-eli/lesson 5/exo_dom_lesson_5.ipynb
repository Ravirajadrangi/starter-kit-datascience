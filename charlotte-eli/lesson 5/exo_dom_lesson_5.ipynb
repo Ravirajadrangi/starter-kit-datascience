{
 "cells": [
  {
   "cell_type": "code",
   "execution_count": 138,
   "metadata": {
    "collapsed": false
   },
   "outputs": [],
   "source": [
    "import pandas as pd\n",
    "import numpy as np\n",
    "import re\n",
    "import matplotlib.pyplot as plt\n",
    "from matplotlib.collections import LineCollection\n",
    "from matplotlib import cm\n",
    "import seaborn as sns\n",
    "from pandas.tools.plotting import radviz, scatter_matrix\n",
    "import collections\n",
    "%matplotlib inline\n",
    "# coding: latin-1"
   ]
  },
  {
   "cell_type": "code",
   "execution_count": 99,
   "metadata": {
    "collapsed": false
   },
   "outputs": [],
   "source": [
    "# https://www.data.gouv.fr/fr/datasets/honoraires-des-professionnels-de-sante-liberaux/\n",
    "path = \"Honoraires_totaux_des_professionnels_de_sante_par_departement_en_2013.xls\"\n",
    "\n",
    "data = pd.read_excel(path, sheetname=[1, 2, 3, 4, 5, 6])\n",
    "\n",
    "df = data[2]\n",
    "\n",
    "# enlever les nan\n",
    "df = df.replace('nc', np.nan).dropna()\n",
    "\n",
    "# extraire les codes numeriques\n",
    "df = df[df['DEPARTEMENT'].str.contains('- ')]\n",
    "df = df[df['SPECIALISTES'].str.contains('- ')]\n",
    "\n",
    "dep = pd.DataFrame([[x] + x.split('- ') for x in df['DEPARTEMENT']],\n",
    "                       columns=['DEPARTEMENT', 'num_dep', 'name_dep'])\n",
    "\n",
    "spec = pd.DataFrame([[x] + x.split('- ') for x in df['SPECIALISTES']],\n",
    "                        columns=['SPECIALISTES', 'num_spec', 'name_spec'])\n",
    "\n",
    "df = pd.concat([df, dep, spec], axis=1, join='inner')\n",
    "\n",
    "# ne garder que les lignes avec EFFECTIF > 0\n",
    "df = df[df['EFFECTIFS'] > 0]\n"
   ]
  },
  {
   "cell_type": "code",
   "execution_count": 100,
   "metadata": {
    "collapsed": false
   },
   "outputs": [
    {
     "data": {
      "text/plain": [
       "<matplotlib.axes._subplots.AxesSubplot at 0x11b546cd0>"
      ]
     },
     "execution_count": 100,
     "metadata": {},
     "output_type": "execute_result"
    },
    {
     "data": {
      "image/png": "[encoded data removed]",
      "text/plain": [
       "<matplotlib.figure.Figure at 0x11b550810>"
      ]
     },
     "metadata": {},
     "output_type": "display_data"
    }
   ],
   "source": [
    "dat = df[['num_spec', 'NOMBRE DE DEPASSEMENTS',\n",
    "              'DEPASSEMENT MOYEN (euros)', 'DEPASSEMENTS (euros)', 'EFFECTIFS']]\n",
    "corr_mat = dat.corr()\n",
    "\n",
    "plt.figure(figsize=(9,9))\n",
    "sns.heatmap(corr_mat, square=True, vmax=0.8)"
   ]
  },
  {
   "cell_type": "code",
   "execution_count": 217,
   "metadata": {
    "collapsed": false
   },
   "outputs": [
    {
     "name": "stdout",
     "output_type": "stream",
     "text": [
      "########################## DEPASSEMENT PAR SPECIALITE #####################################\n",
      "\n",
      "                                                 DEPASSEMENT MOYEN (euros)\n",
      "name_spec                                                                 \n",
      "Médecine nucléaire                                              371.000000\n",
      "Gynécologie obstétrique                                         166.500000\n",
      "Ophtalmologie                                                   157.500000\n",
      "Chirurgie orthopédique et traumatologie                         151.545455\n",
      "Radiodiagnostic et imagerie médicale                            114.285714\n",
      "Gynécologie médicale                                            107.600000\n",
      "Chirurgie urologique                                             91.500000\n",
      "Oncologie radiothérapique                                        82.000000\n",
      "Obstétrique                                                      74.257143\n",
      "Gynécologie obstétrique et gynécologie médicale                  66.916667\n",
      "Chirurgie vasculaire                                             62.000000\n",
      "Oncologie médicale                                               58.535714\n",
      "Hématologie                                                      53.918919\n",
      "Médecine interne                                                 51.076923\n",
      "Réanimation médicale                                             45.285714\n",
      "\n",
      "############################DEPASSEMENT PAR DEP ##################################\n",
      "\n",
      "         DEPASSEMENT MOYEN (euros)\n",
      "num_dep                           \n",
      "75                      111.250000\n",
      "69                      101.000000\n",
      "61                       92.000000\n",
      "63                       74.200000\n",
      "54                       73.375000\n",
      "19                       67.500000\n",
      "68                       66.000000\n",
      "76                       63.428571\n",
      "85                       62.750000\n",
      "974                      61.000000\n",
      "2B                       59.500000\n",
      "37                       59.000000\n",
      "80                       58.400000\n",
      "93                       57.750000\n",
      "22                       52.333333\n",
      "\n",
      "##################################################################################\n"
     ]
    }
   ],
   "source": [
    "\n",
    "print '########################## DEPASSEMENT PAR SPECIALITE #####################################'\n",
    "print ''\n",
    "grouped_by_spec = df[['name_spec', 'DEPASSEMENT MOYEN (euros)']].groupby(['name_spec']).mean()\n",
    "grouped_by_spec = grouped_by_spec.sort_values('DEPASSEMENT MOYEN (euros)',ascending=False)\n",
    "print grouped_by_spec.head(15)\n",
    "print ''\n",
    "print '############################DEPASSEMENT PAR DEP ##################################'\n",
    "print ''\n",
    "grouped_by_dep = df[['num_dep', 'DEPASSEMENT MOYEN (euros)']].groupby(['num_dep']).mean()\n",
    "grouped_by_dep = grouped_by_dep.sort_values('DEPASSEMENT MOYEN (euros)',ascending=False)\n",
    "print grouped_by_dep.head(15)\n",
    "print ''\n",
    "print '##################################################################################'\n"
   ]
  },
  {
   "cell_type": "code",
   "execution_count": 216,
   "metadata": {
    "collapsed": false
   },
   "outputs": [
    {
     "name": "stdout",
     "output_type": "stream",
     "text": [
      "###################### DENSITE PAR DEP ##################################################\n",
      "\n",
      "                    SPECIALITE  Ensemble des spécialités d'exercice\n",
      "96                  75 - Paris                                799.3\n",
      "26        06 - Alpes-Maritimes                                453.6\n",
      "33       13 - Bouches-du-Rhône                                446.5\n",
      "55                34 - Hérault                                439.4\n",
      "90                  69 - Rhône                                438.4\n",
      "52          31 - Haute-Garonne                                424.8\n",
      "54                33 - Gironde                                418.7\n",
      "25           05 - Hautes-Alpes                                407.3\n",
      "108          87 - Haute-Vienne                                406.9\n",
      "75     54 - Meurthe-et-Moselle                                405.5\n",
      "113        92 - Hauts-de-Seine                                405.5\n",
      "88               67 - Bas-Rhin                                393.6\n",
      "115          94 - Val-de-Marne                                380.1\n",
      "85   64 - Pyrénées-Atlantiques                                378.4\n",
      "42              21 - Côte-dOr                                378.3\n",
      "##################### DENSITE PAR SPECIALITE ############################################\n",
      "\n",
      "Recherche médicale                                   0.009901\n",
      "Génétique médicale                                   0.211881\n",
      "Chirurgie infantile                                  0.299010\n",
      "Réanimation médicale                                 0.390099\n",
      "Chirurgie thoracique et cardio-vasculaire            0.446535\n",
      "Hématologie                                          0.542574\n",
      "Neurochirurgie                                       0.554455\n",
      "Chirurgie vasculaire                                 0.726733\n",
      "Médecine nucléaire                                   0.771287\n",
      "Chirurgie plastique reconstructrice et esthétique    0.837624\n",
      "Oncologie option médicale                            0.979208\n",
      "Radiothérapie                                        1.092079\n",
      "Chirurgie viscérale et digestive                     1.349505\n",
      "Chirurgie maxillo-faciale et stomatologie            1.397030\n",
      "Chirurgie urologique                                 1.537624\n",
      "dtype: float64\n",
      "##################################################################################\n",
      "\n"
     ]
    }
   ],
   "source": [
    "#Fichier Densité\n",
    "\n",
    "#!/usr/bin/env python\n",
    "#-*- coding: utf-8 -*-\n",
    "\n",
    "path = \"densite2014.csv\"\n",
    "df_densite = pd.read_csv(path,encoding='latin-1', skiprows=[0, 1, 2, 3, 5])\n",
    "df_densite = df_densite[df_densite['SPECIALITE'].str.contains('- ')]\n",
    "\n",
    "noms = list(df_densite.columns.values)\n",
    "\n",
    "\n",
    "print '###################### DENSITE PAR DEP ##################################################'\n",
    "print ''\n",
    "df_densite_dep = df_densite[['SPECIALITE',noms[1]]].sort_values(noms[1],ascending=False)\n",
    "print df_densite_dep.head(15)\n",
    "print '##################### DENSITE PAR SPECIALITE ############################################'\n",
    "print ''\n",
    "df_densite_specialite = df_densite.mean()[2:]\n",
    "print df_densite_specialite.sort_values().head(15)\n",
    "print '##################################################################################'\n",
    "print ''"
   ]
  },
  {
   "cell_type": "code",
   "execution_count": null,
   "metadata": {
    "collapsed": false
   },
   "outputs": [],
   "source": []
  },
  {
   "cell_type": "code",
   "execution_count": null,
   "metadata": {
    "collapsed": true
   },
   "outputs": [],
   "source": []
  }
 ],
 "metadata": {
  "kernelspec": {
   "display_name": "Python 2",
   "language": "python",
   "name": "python2"
  },
  "language_info": {
   "codemirror_mode": {
    "name": "ipython",
    "version": 2
   },
   "file_extension": ".py",
   "mimetype": "text/x-python",
   "name": "python",
   "nbconvert_exporter": "python",
   "pygments_lexer": "ipython2",
   "version": "2.7.12"
  }
 },
 "nbformat": 4,
 "nbformat_minor": 0
}
