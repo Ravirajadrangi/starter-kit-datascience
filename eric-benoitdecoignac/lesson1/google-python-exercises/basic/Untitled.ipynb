{
 "cells": [
  {
   "cell_type": "code",
   "execution_count": 4,
   "metadata": {
    "collapsed": false
   },
   "outputs": [
    {
     "name": "stdout",
     "output_type": "stream",
     "text": [
      "do\n",
      "analyzing\n"
     ]
    }
   ],
   "source": [
    "def verbing(s):\n",
    "    # +++your code here+++\n",
    "    if len(s) >= 3:\n",
    "        return s + 'ing'\n",
    "    else:\n",
    "        return s\n",
    "\n",
    "word = \"do\"\n",
    "word2 = \"analyz\"\n",
    "print(verbing(word))\n",
    "print(verbing(word2))"
   ]
  },
  {
   "cell_type": "code",
   "execution_count": null,
   "metadata": {
    "collapsed": true
   },
   "outputs": [],
   "source": []
  }
 ],
 "metadata": {
  "kernelspec": {
   "display_name": "Python [Root]",
   "language": "python",
   "name": "Python [Root]"
  },
  "language_info": {
   "codemirror_mode": {
    "name": "ipython",
    "version": 3
   },
   "file_extension": ".py",
   "mimetype": "text/x-python",
   "name": "python",
   "nbconvert_exporter": "python",
   "pygments_lexer": "ipython3",
   "version": "3.5.2"
  }
 },
 "nbformat": 4,
 "nbformat_minor": 0
}
