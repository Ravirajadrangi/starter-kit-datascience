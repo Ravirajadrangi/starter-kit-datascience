{
 "cells": [
  {
   "cell_type": "code",
   "execution_count": 75,
   "metadata": {
    "collapsed": false
   },
   "outputs": [
    {
     "name": "stdout",
     "output_type": "stream",
     "text": [
      "-- 1\n",
      "what 3\n",
      "be 3\n",
      "used 1\n",
      "But 1\n",
      "not 3\n",
      "least 1\n",
      "We 2\n",
      "Football 1\n",
      "need 1\n",
      "we 4\n",
      "are 3\n",
      "should 1\n",
      "Coach 1\n",
      "to 2\n",
      "at 1\n",
      "*** End of counting ***\n"
     ]
    }
   ],
   "source": [
    "file ='small.txt'\n",
    "file2='alice.txt'\n",
    "\n",
    "def helper(filename):\n",
    "    \"\"\"\n",
    "    Reads and builds and returns a word/count\n",
    "    \"\"\"\n",
    "    dict_rep = {}\n",
    "    content = open(filename, 'r')\n",
    "    for line in content:\n",
    "        for word in line.split():\n",
    "            if word in set(dict_rep):\n",
    "                dict_rep[word] += 1\n",
    "            else:\n",
    "                dict_rep[word] = 1\n",
    "    return dict_rep\n",
    "\n",
    "\n",
    "def print_words(filename):\n",
    "    \"\"\"\n",
    "    Counts word occurrences and fits display\n",
    "    \"\"\"\n",
    "    for el in helper(filename):\n",
    "        print(el, helper(filename)[el])\n",
    "    return \"*** End of counting ***\"\n",
    "\n",
    "print(print_words(file))"
   ]
  },
  {
   "cell_type": "code",
   "execution_count": 76,
   "metadata": {
    "collapsed": false
   },
   "outputs": [
    {
     "name": "stdout",
     "output_type": "stream",
     "text": [
      "the 1507\n",
      "and 714\n",
      "to 703\n",
      "a 606\n",
      "of 490\n",
      "she 484\n",
      "said 416\n",
      "it 346\n",
      "in 345\n",
      "was 328\n",
      "I 261\n",
      "you 252\n",
      "as 237\n",
      "Alice 221\n",
      "that 213\n",
      "her 203\n",
      "at 197\n",
      "had 175\n",
      "with 167\n",
      "all 150\n",
      "*** End of counting ***\n"
     ]
    }
   ],
   "source": [
    "def get_count(word_count_tuple):\n",
    "    return word_count_tuple[1]\n",
    "\n",
    "\n",
    "def print_top(filename):\n",
    "    word_count = helper(filename)\n",
    "    items = sorted(word_count.items(), key=get_count, reverse=True)\n",
    "    # Print the first 20\n",
    "    for item in items[:20]:\n",
    "        print(item[0], item[1])\n",
    "    return \"*** End of counting ***\"\n",
    "          \n",
    "print(print_top(file2))"
   ]
  },
  {
   "cell_type": "code",
   "execution_count": null,
   "metadata": {
    "collapsed": false
   },
   "outputs": [],
   "source": []
  },
  {
   "cell_type": "code",
   "execution_count": null,
   "metadata": {
    "collapsed": true
   },
   "outputs": [],
   "source": []
  }
 ],
 "metadata": {
  "kernelspec": {
   "display_name": "Python [Root]",
   "language": "python",
   "name": "Python [Root]"
  },
  "language_info": {
   "codemirror_mode": {
    "name": "ipython",
    "version": 3
   },
   "file_extension": ".py",
   "mimetype": "text/x-python",
   "name": "python",
   "nbconvert_exporter": "python",
   "pygments_lexer": "ipython3",
   "version": "3.5.2"
  }
 },
 "nbformat": 4,
 "nbformat_minor": 0
}
