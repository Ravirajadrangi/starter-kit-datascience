{
 "cells": [
  {
   "cell_type": "code",
   "execution_count": 1,
   "metadata": {
    "collapsed": false
   },
   "outputs": [
    {
     "ename": "SyntaxError",
     "evalue": "EOL while scanning string literal (<ipython-input-1-710faa6953c7>, line 8)",
     "output_type": "error",
     "traceback": [
      "\u001b[1;36m  File \u001b[1;32m\"<ipython-input-1-710faa6953c7>\"\u001b[1;36m, line \u001b[1;32m8\u001b[0m\n\u001b[1;33m    number_of_views = soup.find(class_=\"watch-view-count\").text.replace(u'\\xa0, '').replace(vues, '')\u001b[0m\n\u001b[1;37m                                                                                                     ^\u001b[0m\n\u001b[1;31mSyntaxError\u001b[0m\u001b[1;31m:\u001b[0m EOL while scanning string literal\n"
     ]
    }
   ],
   "source": [
    "import requests\n",
    "from bs4 import BeautifulSoup\n",
    "\n",
    "result = requests.get('https://www.youtube.com/watch?v=NU7W7qe2R0A')\n",
    "\n",
    "soup = BeautifulSoup(result.text, 'html.parser')\n",
    "\n",
    "number_of_views = soup.find(class_=\"watch-view-count\").text.replace(u'\\xa0, '').replace(vues, '')\n",
    "\n",
    "number_of_views = int(number_of_views)\n",
    "\n",
    "print(number_of_views)"
   ]
  },
  {
   "cell_type": "code",
   "execution_count": null,
   "metadata": {
    "collapsed": true
   },
   "outputs": [],
   "source": []
  }
 ],
 "metadata": {
  "anaconda-cloud": {},
  "kernelspec": {
   "display_name": "Python [Root]",
   "language": "python",
   "name": "Python [Root]"
  },
  "language_info": {
   "codemirror_mode": {
    "name": "ipython",
    "version": 3
   },
   "file_extension": ".py",
   "mimetype": "text/x-python",
   "name": "python",
   "nbconvert_exporter": "python",
   "pygments_lexer": "ipython3",
   "version": "3.5.2"
  }
 },
 "nbformat": 4,
 "nbformat_minor": 0
}
