{
 "cells": [
  {
   "cell_type": "code",
   "execution_count": 10,
   "metadata": {
    "collapsed": false
   },
   "outputs": [
    {
     "ename": "TypeError",
     "evalue": "isinstance() arg 2 must be a type or tuple of types",
     "traceback": [
      "\u001b[1;31m---------------------------------------------------------------------------\u001b[0m",
      "\u001b[1;31mTypeError\u001b[0m                                 Traceback (most recent call last)",
      "\u001b[1;32m<ipython-input-10-dc7e4c0f7fb2>\u001b[0m in \u001b[0;36m<module>\u001b[1;34m()\u001b[0m\n\u001b[0;32m     15\u001b[0m \u001b[1;33m\u001b[0m\u001b[0m\n\u001b[0;32m     16\u001b[0m \u001b[0mstr1\u001b[0m \u001b[1;33m=\u001b[0m \u001b[1;34m\"Hello\"\u001b[0m\u001b[1;33m\u001b[0m\u001b[0m\n\u001b[1;32m---> 17\u001b[1;33m \u001b[0mprint\u001b[0m\u001b[1;33m(\u001b[0m\u001b[0mstring_times\u001b[0m\u001b[1;33m(\u001b[0m\u001b[0mstr1\u001b[0m\u001b[1;33m,\u001b[0m \u001b[1;36m3\u001b[0m\u001b[1;33m)\u001b[0m\u001b[1;33m)\u001b[0m\u001b[1;33m\u001b[0m\u001b[0m\n\u001b[0m",
      "\u001b[1;32m<ipython-input-10-dc7e4c0f7fb2>\u001b[0m in \u001b[0;36mstring_times\u001b[1;34m(string, n)\u001b[0m\n\u001b[0;32m      8\u001b[0m     \u001b[1;32mif\u001b[0m \u001b[1;32mnot\u001b[0m \u001b[0misinstance\u001b[0m\u001b[1;33m(\u001b[0m\u001b[0mn\u001b[0m\u001b[1;33m,\u001b[0m \u001b[0mint\u001b[0m\u001b[1;33m)\u001b[0m\u001b[1;33m:\u001b[0m\u001b[1;33m\u001b[0m\u001b[0m\n\u001b[0;32m      9\u001b[0m         \u001b[1;32mreturn\u001b[0m \u001b[1;34m'enter an integer argument'\u001b[0m\u001b[1;33m\u001b[0m\u001b[0m\n\u001b[1;32m---> 10\u001b[1;33m     \u001b[1;32mif\u001b[0m \u001b[1;32mnot\u001b[0m \u001b[0misinstance\u001b[0m\u001b[1;33m(\u001b[0m\u001b[0mstring\u001b[0m\u001b[1;33m,\u001b[0m \u001b[0mstr\u001b[0m\u001b[1;33m)\u001b[0m\u001b[1;33m:\u001b[0m\u001b[1;33m\u001b[0m\u001b[0m\n\u001b[0m\u001b[0;32m     11\u001b[0m         \u001b[1;32mreturn\u001b[0m \u001b[1;34m'enter a string argument'\u001b[0m\u001b[1;33m\u001b[0m\u001b[0m\n\u001b[0;32m     12\u001b[0m     \u001b[1;32mif\u001b[0m \u001b[1;32mnot\u001b[0m \u001b[0mn\u001b[0m \u001b[1;33m>\u001b[0m \u001b[1;36m0\u001b[0m\u001b[1;33m:\u001b[0m\u001b[1;33m\u001b[0m\u001b[0m\n",
      "\u001b[1;31mTypeError\u001b[0m: isinstance() arg 2 must be a type or tuple of types"
     ],
     "output_type": "error"
    }
   ],
   "source": [
    "import unittest\n",
    "\n",
    "\n",
    "# Given a string and a non-negative int n, return a larger string\n",
    "# that is n copies of the original string.\n",
    "\n",
    "def string_times(string, n):\n",
    "    if not isinstance(n, int):\n",
    "        return 'enter an integer argument'\n",
    "    if not isinstance(string, str):\n",
    "        return 'enter a string argument'\n",
    "    if not n > 0:\n",
    "        return 'enter a positive argument'\n",
    "    return string * n\n",
    "\n",
    "str1 = \"Hello\"\n",
    "print(string_times(str1, 3))"
   ]
  },
  {
   "cell_type": "code",
   "execution_count": 2,
   "metadata": {
    "collapsed": false
   },
   "outputs": [
    {
     "ename": "SyntaxError",
     "evalue": "invalid syntax (<ipython-input-2-ece3dde6e7a9>, line 39)",
     "traceback": [
      "\u001b[1;36m  File \u001b[1;32m\"<ipython-input-2-ece3dde6e7a9>\"\u001b[1;36m, line \u001b[1;32m39\u001b[0m\n\u001b[1;33m    for sub_str2\u001b[0m\n\u001b[1;37m                ^\u001b[0m\n\u001b[1;31mSyntaxError\u001b[0m\u001b[1;31m:\u001b[0m invalid syntax\n"
     ],
     "output_type": "error"
    }
   ],
   "source": [
    "# Given an array of ints, return True if one of the first 4 elements\n",
    "# in the array is a 9. The array length may be less than 4.\n",
    "def array_front9(nums):\n",
    "    for odd in nums[:4]:\n",
    "        if odd == 9:\n",
    "            return True\n",
    "        else:\n",
    "            return False\n",
    "\n",
    "nums = [1, 2, 3, 4, 9]\n",
    "nums2 = [9, 4, 5, 6, 7]\n",
    "print(array_front9(nums))\n",
    "print(array_front9(nums2))\n",
    "\n",
    "# Given a string, return the count of the number of times\n",
    "# that a substring length 2 appears  in the string and also as\n",
    "# the last 2 chars of the string, so \"hixxxhi\" yields 1 (we won't count the end substring).\n",
    "def last2(string):\n",
    "    for sub_str in string[::2]:\n",
    "        a = sub_str\n",
    "        for sub_str2\n",
    "    return"
   ]
  },
  {
   "cell_type": "code",
   "execution_count": 1,
   "metadata": {
    "collapsed": false
   },
   "outputs": [
    {
     "ename": "SyntaxError",
     "evalue": "invalid syntax (<ipython-input-1-1880583ecb66>, line 39)",
     "traceback": [
      "\u001b[1;36m  File \u001b[1;32m\"<ipython-input-1-1880583ecb66>\"\u001b[1;36m, line \u001b[1;32m39\u001b[0m\n\u001b[1;33m    for sub_str2\u001b[0m\n\u001b[1;37m                ^\u001b[0m\n\u001b[1;31mSyntaxError\u001b[0m\u001b[1;31m:\u001b[0m invalid syntax\n"
     ],
     "output_type": "error"
    }
   ],
   "source": [
    "#Write a program that maps a list of words into a list of\n",
    "#integers representing the lengths of the correponding words.\n",
    "def length_words(array):\n",
    "    # fonction anonyme (à la volée)\n",
    "    map(lambde x: len(x))\n",
    "    return\n",
    "\n",
    "#write fizbuzz programm\n",
    "def fizbuzz():\n",
    "  return\n",
    "\n",
    "#Write a function that takes a number and returns a list of its digits.\n",
    "def number2digits(number):\n",
    "  return\n",
    "\n",
    "#Write function that translates a text to Pig Latin and back.\n",
    "#English is translated to Pig Latin by taking the first letter of every word,\n",
    "#moving it to the end of the word and adding 'ay'\n",
    "def pigLatin(text):\n",
    "  return\n",
    "\n",
    "# Here's our \"unit tests\".\n",
    "class Lesson1Tests(unittest.TestCase):\n",
    "\n",
    "    def testArrayFront9(self):\n",
    "        self.assertEqual(array_front9([1, 2, 9, 3, 4]) , True)\n",
    "        self.assertEqual(array_front9([1, 2, 3, 4, 9]) , False)\n",
    "        self.assertEqual(array_front9([1, 2, 3, 4, 5]) , False)\n",
    "\n",
    "    def testStringTimes(self):\n",
    "        self.assertEqual(string_times('Hel', 2),'HelHel' )\n",
    "        self.assertEqual(string_times('Toto', 1),'Toto' )\n",
    "        self.assertEqual(string_times('P', 4),'PPPP' )\n",
    "\n",
    "    def testLast2(self):\n",
    "        self.assertEqual(last2('hixxhi') , 1)\n",
    "        self.assertEqual(last2('xaxxaxaxx') , 1)\n",
    "        self.assertEqual(last2('axxxaaxx') , 2)\n",
    "\n",
    "    def testLengthWord(self):\n",
    "        self.assertEqual(length_words(['hello','toto']) , [5,4])\n",
    "        self.assertEqual(length_words(['s','ss','59fk','flkj3']) , [1,2,4,5])\n",
    "\n",
    "    def testNumber2Digits(self):\n",
    "        self.assertEqual(number2digits(8849) , [8,8,4,9])\n",
    "        self.assertEqual(number2digits(4985098) , [4,9,8,5,0,9,8])\n",
    "\n",
    "    def testPigLatin(self):\n",
    "        self.assertEqual(pigLatin(\"The quick brown fox\") , \"Hetay uickqay rownbay oxfay\")\n",
    "\n",
    "\n",
    "\n",
    "def main():\n",
    "    unittest.main()\n",
    "\n",
    "if __name__ == '__main__':\n",
    "    main()"
   ]
  },
  {
   "cell_type": "code",
   "execution_count": null,
   "metadata": {
    "collapsed": true
   },
   "outputs": [],
   "source": []
  },
  {
   "cell_type": "code",
   "execution_count": null,
   "metadata": {
    "collapsed": true
   },
   "outputs": [],
   "source": []
  }
 ],
 "metadata": {
  "kernelspec": {
   "display_name": "Python [Root]",
   "language": "python",
   "name": "Python [Root]"
  },
  "language_info": {
   "codemirror_mode": {
    "name": "ipython",
    "version": 3.0
   },
   "file_extension": ".py",
   "mimetype": "text/x-python",
   "name": "python",
   "nbconvert_exporter": "python",
   "pygments_lexer": "ipython3",
   "version": "3.5.2"
  }
 },
 "nbformat": 4,
 "nbformat_minor": 0
}