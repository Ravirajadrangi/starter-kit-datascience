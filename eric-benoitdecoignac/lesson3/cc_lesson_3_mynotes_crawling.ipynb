{
 "cells": [
  {
   "cell_type": "markdown",
   "metadata": {},
   "source": [
    "# taux de remise dell vs acer sur cdiscount"
   ]
  },
  {
   "cell_type": "raw",
   "metadata": {
    "collapsed": false
   },
   "source": [
    "import requests\n",
    "from bs4 import BeautifulSoup\n",
    "\n",
    "url = 'http://www.cdiscount.com/search/10/'\n",
    " \n",
    "brands = ['acer', 'dell']\n",
    "discounts = { 'acer' : [], 'dell' : []}\n",
    "\n",
    "for brand in brands:\n",
    "    result = requests.get(url + brand + '.html#_his_')\n",
    "    soup = BeautifulSoup(result.text, 'html.parser')\n",
    "    "
   ]
  },
  {
   "cell_type": "code",
   "execution_count": 2,
   "metadata": {
    "collapsed": false
   },
   "outputs": [],
   "source": [
    "import requests\n",
    "from bs4 import BeautifulSoup\n",
    "url = 'http://www.cdiscount.com/search/10/dell/.html#_his_'\n",
    "result = requests.get(url)\n",
    "soup = BeautifulSoup(result.text, 'html.parser')"
   ]
  },
  {
   "cell_type": "code",
   "execution_count": 3,
   "metadata": {
    "collapsed": false
   },
   "outputs": [
    {
     "name": "stdout",
     "output_type": "stream",
     "text": [
      "182\n"
     ]
    }
   ],
   "source": [
    "discount = int(soup.find(class_=\"ecoBlk\").text.split('€')[0])\n",
    "print(discount)"
   ]
  },
  {
   "cell_type": "code",
   "execution_count": 1,
   "metadata": {
    "collapsed": false
   },
   "outputs": [],
   "source": [
    "# soup.find(\"div\", class_=\"prdtBloc\")\n"
   ]
  },
  {
   "cell_type": "code",
   "execution_count": 40,
   "metadata": {
    "collapsed": false
   },
   "outputs": [
    {
     "data": {
      "text/plain": [
       "<div class=\"ecoBlk\"><span>99€</span>d'économie</div>"
      ]
     },
     "execution_count": 40,
     "metadata": {},
     "output_type": "execute_result"
    }
   ],
   "source": [
    "# soup.prettify()\n",
    "soup.find(attrs={'class':'ecoBlk'})"
   ]
  },
  {
   "cell_type": "code",
   "execution_count": 43,
   "metadata": {
    "collapsed": false
   },
   "outputs": [
    {
     "name": "stdout",
     "output_type": "stream",
     "text": [
      "<Response [200]>\n"
     ]
    }
   ],
   "source": [
    "result = requests.get(url)\n",
    "print(result)"
   ]
  },
  {
   "cell_type": "code",
   "execution_count": 48,
   "metadata": {
    "collapsed": true
   },
   "outputs": [],
   "source": []
  },
  {
   "cell_type": "raw",
   "metadata": {},
   "source": [
    "href = changement de page\n",
    "requetes xhr : type de requête pour rafraîchissement de page\n",
    "query string parameters : type de requete qui poste de l'info\n",
    "postman (#chrome app=: client http request : poster de manière plus sympa qu'en python\n",
    "wireshark : outils d'ecoute de connexion / requetes\n",
    "en static on recherche les selecteurs css, en dynamique (javascript) on recherche dans les requetes"
   ]
  },
  {
   "cell_type": "raw",
   "metadata": {},
   "source": [
    "retour exo\n",
    "\n",
    "1/ reverse engineering url et construire une fonction pour la paramétriser\n",
    "params = [commune, dep, type, param, exercice]\n",
    "def urlconstruire(params=params)\n",
    "\n",
    "2/ construire le parser(lancer les requetes)\n",
    "    rem : iterer sur les communes\n",
    "\n",
    "2/ Récupérer valeurs sous son format, rechercher la table et classe concernée\n",
    "def getvalues(memes param)\n",
    "    result = []\n",
    "    for annee in range(2019, 2014):\n",
    "        result\n",
    "\n",
    "\n",
    "3/ traiter l'info (replace, etc), vérifier que c'est un entier, ..\n",
    "def \n",
    "    try\n",
    "        replace, etc\n",
    "    except ValueError:\n",
    "        \"pb de conversion de donnée\"\n",
    "\n"
   ]
  },
  {
   "cell_type": "raw",
   "metadata": {},
   "source": [
    "visualization d3.js\n"
   ]
  },
  {
   "cell_type": "raw",
   "metadata": {},
   "source": [
    "API (Application programming Interface) = webservice : générateur de code de requête !!\n",
    "\n",
    "API key needed to connect (liée à une appli que tu développes)\n",
    "API REST (concept restful: une url ne renvoit pas vers un résultat dépendant d'un état, = stateless). Egalement les méthode ont en général la même syntaxe\n",
    "\n",
    "Sur leurs sites, ils documentent les méthodes utilisables sur leur site\n",
    "\n",
    "json : type de format de données qui permet de transformer par protocole http un format nesté. jsoneditoronline.org pour lire facilement. Avantage par rapport à xml, c'est plus léger. Un objet json est directement mappé sur les objets des autres langages.\n",
    "\n",
    "rq: SDK équivalent API editeurs logiciels\n",
    "\n",
    "Récupérer infos sur vidéo youtube\n",
    "\n",
    "api youtube -> requete après creation compte\n",
    "\n",
    "api youtube python wrapper : signer les requetes\n",
    "-> explication par des exemples de comment récupérer les infos\n",
    "\n",
    "Si pas de wrapper : il faut insérer du code donné par l'api dans son script (authentification)\n",
    "\n",
    "API plus rapide que par scraping car seules les métadonnées intéressantes sont envoyées + les serveurs sont différents\n",
    "\n",
    "rq : bloomberg, j'ai collecté de la donnée difficilement, je te la vend structurée\n",
    "rq2 : plugin souvent s'appuie sur une API\n",
    "\n",
    "Signature de requête (ex: OAuth = protocole)\n",
    "-> protocole d'authentification oauth par token (script python) pour gérer requêtes en masse. Mais marche par jeton, donc pas illimité.\n",
    "\n",
    "++++++++\n",
    "Stocker info\n",
    "++++++++\n",
    "\n",
    "pandas\n",
    "rtfm\n",
    "pandas : series (vecteurs) dataframe (table) (= point d'entrée dans pandas)\n",
    "pandas basé sur numpy (calculs vectoriels)\n",
    "\n",
    "sections de base IO et datastructure\n",
    "df.ix[''] : renvoie la ligne\n",
    "drop : supprimer une ligne\n",
    "df.describe() donne info sur colonnes\n",
    "df.to_csv('')\n",
    "df.read_csv('')\n",
    "\n",
    "Questions : fonctionner par fichier ? Base de donnée (batch, etc) ?\n",
    "\n",
    "cours sur git\n",
    "\n",
    "\n",
    "\n",
    "\n"
   ]
  }
 ],
 "metadata": {
  "anaconda-cloud": {},
  "kernelspec": {
   "display_name": "Python [Root]",
   "language": "python",
   "name": "Python [Root]"
  },
  "language_info": {
   "codemirror_mode": {
    "name": "ipython",
    "version": 3
   },
   "file_extension": ".py",
   "mimetype": "text/x-python",
   "name": "python",
   "nbconvert_exporter": "python",
   "pygments_lexer": "ipython3",
   "version": "3.5.2"
  }
 },
 "nbformat": 4,
 "nbformat_minor": 1
}
