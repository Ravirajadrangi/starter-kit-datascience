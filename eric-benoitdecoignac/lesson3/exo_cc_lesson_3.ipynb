{
 "cells": [
  {
   "cell_type": "code",
   "execution_count": null,
   "metadata": {
    "collapsed": true
   },
   "outputs": [],
   "source": [
    "import requests\n",
    "from bs4 import BeautifulSoup\n",
    "import numpy as np\n",
    "\n",
    "MAX_PAGE = 1\n",
    "BRANDS = ['Dell', 'Acer']\n",
    "\n",
    "\n",
    "def soupify(BRAND, PAGE_NUMBER):\n",
    "    url = 'http://www.cdiscount.com/search/10/' + BRAND + '/.html?TechnicalForm.SiteMapNodeId=0&TechnicalForm.DepartmentId=10&TechnicalForm.ProductId=&hdnPageType=Search&TechnicalForm.SellerId=&TechnicalForm.PageType=SEARCH_AJAX&TechnicalForm.LazyLoading.ProductSheets=False&NavigationForm.CurrentSelectedNavigationPath=0&FacetForm.SelectedFacets.Index=0&FacetForm.SelectedFacets.Index=1&FacetForm.SelectedFacets.Index=2&FacetForm.SelectedFacets.Index=3&FacetForm.SelectedFacets.Index=4&FacetForm.SelectedFacets.Index=5&FacetForm.SelectedFacets.Index=6&FacetForm.SelectedFacets.Index=7&FacetForm.SelectedFacets.Index=8&FacetForm.SelectedFacets.Index=9&GeolocForm.ConfirmedGeolocAddress=&SortForm.SelectedNavigationPath=&ProductListTechnicalForm.Keyword=dell&page=' + str(PAGE_NUMBER) + '&_his_'\n",
    "    result = requests.get(url)\n",
    "    soup = BeautifulSoup(result.text, 'html.parser') \n",
    "    return soup        \n",
    "\n",
    "\n",
    "def extractPricesFromPage(BRAND, PAGE_NUMBER):\n",
    "    \n",
    "    soup = soupify(BRAND, PAGE_NUMBER)\n",
    "    START_PRICES = np.array([])\n",
    "    END_PRICES = np.array([])\n",
    "    \n",
    "    # Extract  start and end prices \n",
    "    \n",
    "    finderAllPrices = soup.find_all(class_='prdtBZPrice')\n",
    "    finderStartPrices = soup.find_all(class_=\"prdtPrSt\")\n",
    "    finderEndPrices = soup.find_all(class_=\"price\")\n",
    "    \n",
    "    k = 0   \n",
    "    for i in range(0, len(finderAllPrices) - 1):\n",
    "        \n",
    "        startPriceToAdd = float(finderStartPrices[k].text.split(',')[0]) + 0.01 * float(finderStartPrices[k].text.split(',')[1])\n",
    "        discountedPriceToAdd = float(finderEndPrices[i].text.split('€')[0]) + 0.01 * float(finderEndPrices[i].text.split('€')[1])   \n",
    "              \n",
    "        if 'prdtPrSt' in str(finderAllPrices[i]):\n",
    "                       \n",
    "            START_PRICES = np.append(START_PRICES, startPriceToAdd)\n",
    "            END_PRICES = np.append(END_PRICES, discountedPriceToAdd)\n",
    "\n",
    "            k += 1    \n",
    "            \n",
    "        else:\n",
    "            \n",
    "            START_PRICES = np.append(START_PRICES, discountedPriceToAdd)\n",
    "            END_PRICES = np.append(END_PRICES, discountedPriceToAdd)\n",
    "    \n",
    "    # Test if both arrays are same length\n",
    "    \n",
    "    if len(START_PRICES) == len(END_PRICES):        \n",
    "        return START_PRICES, END_PRICES\n",
    "    else:\n",
    "        return \"List start and end prices not same length\"\n",
    "\n",
    "    \n",
    "def discountRates(BRAND, MAX_PAGE): \n",
    "    \n",
    "    ALL_START_PRICES = np.array([])\n",
    "    ALL_END_PRICES = np.array([])\n",
    "\n",
    "    for PAGE_NUMBER in range(1, MAX_PAGE + 1):\n",
    "        NEW_START_PRICES, NEW_END_PRICES = extractPricesFromPage(BRAND, PAGE_NUMBER)\n",
    "        ALL_START_PRICES = np.append(ALL_START_PRICES, NEW_START_PRICES)\n",
    "        ALL_END_PRICES = np.append(ALL_END_PRICES, NEW_END_PRICES)\n",
    "      \n",
    "    return ((ALL_START_PRICES - ALL_END_PRICES) * 100 / ALL_START_PRICES).mean()"
   ]
  },
  {
   "cell_type": "code",
   "execution_count": null,
   "metadata": {
    "collapsed": false
   },
   "outputs": [],
   "source": [
    "\"\"\"\n",
    "Who from Dell or Acer have the best discount rate on Cdiscount.com ?\n",
    "\"\"\"\n",
    "\n",
    "bestDiscountRate = 0\n",
    "bestBrand = ''\n",
    "\n",
    "for brand in BRANDS:\n",
    "    if discountRates(brand, MAX_PAGE) > bestDiscountRate:\n",
    "        bestDiscountRate = discountRates(brand, MAX_PAGE)\n",
    "        bestDiscounter = brand    \n",
    "    print(\"discountRate_\" + brand, discountRates(brand, MAX_PAGE).round(2), \"%\")\n",
    "    \n",
    "print(\"Best dicounter is:\", brand)    "
   ]
  },
  {
   "cell_type": "code",
   "execution_count": null,
   "metadata": {
    "collapsed": true
   },
   "outputs": [],
   "source": []
  }
 ],
 "metadata": {
  "anaconda-cloud": {},
  "kernelspec": {
   "display_name": "Python [Root]",
   "language": "python",
   "name": "Python [Root]"
  },
  "language_info": {
   "codemirror_mode": {
    "name": "ipython",
    "version": 3
   },
   "file_extension": ".py",
   "mimetype": "text/x-python",
   "name": "python",
   "nbconvert_exporter": "python",
   "pygments_lexer": "ipython3",
   "version": "3.5.2"
  }
 },
 "nbformat": 4,
 "nbformat_minor": 1
}
