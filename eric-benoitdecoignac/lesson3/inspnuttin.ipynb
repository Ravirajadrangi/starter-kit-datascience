{
 "cells": [
  {
   "cell_type": "code",
   "execution_count": null,
   "metadata": {
    "collapsed": true
   },
   "outputs": [],
   "source": [
    "# -*- coding: utf-8 -*-\n",
    "\"\"\"\n",
    "Created on Mon Oct 10 19:12:09 2016\n",
    "@author: Antoine\n",
    "\"\"\"\n",
    "\n",
    "import requests\n",
    "import json\n",
    "import numpy as np\n",
    "import pandas as pd\n",
    "from bs4 import BeautifulSoup\n",
    "\n",
    "\n",
    "def getBestContributors():\n",
    "    req = requests.get('https://gist.github.com/paulmillr/2657075')\n",
    "    soup = BeautifulSoup(req.text, 'html.parser')\n",
    "    names = {}\n",
    "\n",
    "    for contributor in soup.find('tbody').find_all('tr'):  # .next_sibling\n",
    "        username = str(contributor.a).split('>')[1] \\\n",
    "                       .replace('</a', '') \\\n",
    "                       .strip()\n",
    "        names[username] = stargazers_avg(username)\n",
    "\n",
    "    return names\n",
    "\n",
    "\n",
    "def stargazers_avg(username):\n",
    "    my_token = ''\n",
    "    rq_headers = {'Authorization': 'token %s' % my_token}\n",
    "    api_url = 'https://api.github.com/users/' + username + '/repos'\n",
    "    r = requests.get(api_url, headers=rq_headers)\n",
    "    stars = []\n",
    "    if(r.ok):\n",
    "        all_repos = json.loads(r.text or r.content)\n",
    "        for repo in all_repos:\n",
    "            stars.append(repo['stargazers_count'])\n",
    "        return np.mean(stars)\n",
    "    else:\n",
    "        return -1\n",
    "\n",
    "\n",
    "contributors_sortedBy_stars = pd.Series(getBestContributors()) \\\n",
    "                              .sort_values(axis=0, ascending=False)"
   ]
  }
 ],
 "metadata": {
  "kernelspec": {
   "display_name": "Python [Root]",
   "language": "python",
   "name": "Python [Root]"
  },
  "language_info": {
   "codemirror_mode": {
    "name": "ipython",
    "version": 3
   },
   "file_extension": ".py",
   "mimetype": "text/x-python",
   "name": "python",
   "nbconvert_exporter": "python",
   "pygments_lexer": "ipython3",
   "version": "3.5.2"
  }
 },
 "nbformat": 4,
 "nbformat_minor": 1
}
