{
 "cells": [
  {
   "cell_type": "markdown",
   "metadata": {},
   "source": [
    "Remarque: plutôt que gros travail de projection, il peut être mieux de faire une table de correspondance (ex vielles regions, nouvelles regions)\n",
    "\n",
    "Remarque: pour toute for loop ou map, se demander s'il n'y a pas l'équivalent en fonction vectorielle (surtout sur les gros fichiers)\n",
    "\n",
    "Remarque: pour executer qu'une partie en sublime, selectionner et faire %paste dans le terminal\n",
    "\n",
    "Remarque: on peut faire un multi index et faire un merge sur un multi index parfois\n",
    "\n",
    "Remarque: thousands=',', \n",
    "\n",
    "Remarque: faire un data frame d'analyse au début puis renommer ceux sur lesquels on travaille et où on a indexé ce qui nous intéresse\n",
    "\n",
    "Remarque: esayloading quand crawle: enregistrer une fonction qui la première fois lance le crawler, la seconde va chercher le fichier qui a été enregistré de la requête"
   ]
  },
  {
   "cell_type": "code",
   "execution_count": null,
   "metadata": {
    "collapsed": true
   },
   "outputs": [],
   "source": [
    "test = pd.read_csv()"
   ]
  },
  {
   "cell_type": "code",
   "execution_count": 9,
   "metadata": {
    "collapsed": false
   },
   "outputs": [],
   "source": [
    "# coding: utf-8\n",
    "\n",
    "import numpy as np\n",
    "import pandas as pd\n",
    "import pdb\n",
    "from pandas import Series, DataFrame\n",
    "import re\n",
    "import string\n",
    "import time\n",
    "% matplotlib inline\n",
    "import matplotlib.pyplot as plt"
   ]
  },
  {
   "cell_type": "code",
   "execution_count": 2,
   "metadata": {
    "collapsed": true
   },
   "outputs": [],
   "source": [
    "path = '~/Documents/MS_BGD_Cours/Tempdata/'\n",
    "file = 'R201512.csv'\n",
    "file2 = 'estim-pop-reg-sexe-gca-2015.csv'\n",
    "file3 = 'rppsmedecins.csv'"
   ]
  },
  {
   "cell_type": "code",
   "execution_count": 3,
   "metadata": {
    "collapsed": false
   },
   "outputs": [],
   "source": [
    "oldRegions = str.lower('''Bourgogne\n",
    "Franche-Comté\n",
    "Haute-Normandie\n",
    "Basse-Normandie\n",
    "Nord-Pas-de-Calais\n",
    "Picardie\n",
    "Lorraine\n",
    "Alsace\n",
    "Champagne-Ardenne\n",
    "Aquitaine\n",
    "Poitou-Charentes\n",
    "Limousin\n",
    "Midi-Pyrénées\n",
    "Languedoc-Roussillon\n",
    "Rhône-Alpes\n",
    "Auvergne''').replace('é', 'e').replace('-', ' ').replace('ô', 'o').split('\\n')\n",
    "\n",
    "newRegions = str.lower('''Bourgogne-Franche-Comté\n",
    "Bourgogne-Franche-Comté\n",
    "Normandie\n",
    "Normandie\n",
    "Nord-Pas-de-Calais-Picardie\n",
    "Nord-Pas-de-Calais-Picardie\n",
    "Alsace-Champagne-Ardenne-Lorraine\n",
    "Alsace-Champagne-Ardenne-Lorraine\n",
    "Alsace-Champagne-Ardenne-Lorraine\n",
    "Aquitaine-Limousin-Poitou-Charentes\n",
    "Aquitaine-Limousin-Poitou-Charentes\n",
    "Aquitaine-Limousin-Poitou-Charentes\n",
    "Languedoc-Roussillon-Midi-Pyrénées\n",
    "Languedoc-Roussillon-Midi-Pyrénées\n",
    "Auvergne-Rhône-Alpes\n",
    "Auvergne-Rhône-Alpes''').replace('é', 'e').replace('-', ' ').replace('ô', 'o').split('\\n')"
   ]
  },
  {
   "cell_type": "code",
   "execution_count": 4,
   "metadata": {
    "collapsed": false,
    "scrolled": false
   },
   "outputs": [
    {
     "name": "stdout",
     "output_type": "stream",
     "text": [
      "0 min 0.05 s\n",
      "region                               date\n",
      "alsace champagne ardenne lorraine    2012   -22.0\n",
      "aquitaine limousin poitou charentes  2011     0.0\n",
      "                                     2012     0.0\n",
      "bourgogne franche comte              2011     0.0\n",
      "centre                               2012     0.0\n",
      "guadeloupe                           2012    14.7\n",
      "ile de france                        2011     0.0\n",
      "                                     2012    19.0\n",
      "languedoc roussillon midi pyrenees   2011     0.0\n",
      "martinique                           2011     0.0\n",
      "                                     2012     0.0\n",
      "nord pas de calais picardie          2011     0.0\n",
      "                                     2012     0.0\n",
      "normandie                            2011     0.0\n",
      "                                     2012     0.0\n",
      "pays de la loire                     2011     0.0\n",
      "                                     2012     3.0\n",
      "provence alpes cote d'azur           2012   -34.0\n",
      "Name: dep_hon, dtype: float64\n"
     ]
    }
   ],
   "source": [
    "######################## Loading extra fees by region and date #################\n",
    "start = time.time()\n",
    "try:\n",
    "    dfInit = pd.read_csv(path+file, sep=';', encoding='iso-8859-1', nrows=100, low_memory=False)\n",
    "    ################################# encoding = \"latin 1\" pour importer les accents\n",
    "    df = dfInit.copy()\n",
    "\n",
    "    # Select usefull columns, drop others\n",
    "    useful_cols_R = ['dep_mon', 'l_region', 'sns_date']\n",
    "    newCols = ['region', 'date', 'dep_hon']\n",
    "    # Reservoir: useful_cols = ['act_dnb', 'dep_mon', 'exe_spe', 'l_exe_spe', 'region', 'l_region', 'sns_date']\n",
    "    for col in df.columns:\n",
    "        if col not in useful_cols_R:\n",
    "            df = df.drop(col, axis=1)\n",
    "    df.columns = newCols\n",
    "    \n",
    "    \n",
    "    # operations for cleaning data\n",
    "    df['region'] = df['region'].str.lower()\n",
    "    df['dep_hon'] = df['dep_hon'].str.replace(r'(,)', '.')\n",
    "    df['region'] = df['region'].str.replace('([\\d]+-)', '')\n",
    "    df['dep_hon'] = df['dep_hon'].astype('float')\n",
    "    \n",
    "    # Dates handling\n",
    "    df['date'] = pd.to_datetime(df['date'], format='%Y%m', errors='ignore')\n",
    "    df.columns = newCols\n",
    "    df['date'] = df['date'].dt.year\n",
    "    \n",
    "    # Dropna\n",
    "    df = df.dropna()\n",
    "    \n",
    "    # Handling new regions\n",
    "    for i in range(len(oldRegions)):\n",
    "        old = oldRegions[i]\n",
    "        new = newRegions[i]\n",
    "        df = df.replace(old, new)\n",
    "    \n",
    "    # Useful presentation\n",
    "    dfview = df.groupby(['region', 'date'])['dep_hon'].sum()\n",
    "except:\n",
    "    print('An error occured while importing/ cleaning data frame: Health Coverage Expenses')\n",
    "end = time.time()\n",
    "\n",
    "print(\"{:.0f} min {:.2f} s\".format(((end - start) // 60), ((end - start) % 60)))\n",
    "print(dfview)"
   ]
  },
  {
   "cell_type": "code",
   "execution_count": 5,
   "metadata": {
    "collapsed": false
   },
   "outputs": [
    {
     "name": "stdout",
     "output_type": "stream",
     "text": [
      "0 min 0.02 s\n"
     ]
    }
   ],
   "source": [
    "######################## Loading doctor density by region and specialities /100k inhab. #################\n",
    "start = time.time()\n",
    "try:\n",
    "    dfInitD = pd.read_csv(path+file3, sep=',', encoding='iso-8859-1', skiprows=4, nrows=22, error_bad_lines=False)\n",
    "    dfD = dfInitD.copy()\n",
    "\n",
    "    dfD = dfD.drop(0, axis=0).drop(1, axis=0).drop(2, axis=0).drop(3, axis=0)\n",
    "    dfD = dfD.reset_index().drop('index', axis=1)\n",
    "\n",
    "    dfD.rename(columns = {'SPECIALITE':'region'}, inplace = True)\n",
    "    \n",
    "    dfD['region'] = dfD['region'].str.lower()\n",
    "    regexCleaning = ['(ô)', '(é)', '(î)', '(-)']\n",
    "    newValues = ['o', 'e', 'i', ' ']\n",
    "    for i in range(len(regexCleaning)):\n",
    "        dfD['region'] = dfD['region'].str.replace(regexCleaning[i], newValues[i])\n",
    "\n",
    "    dfD = pd.melt(dfD, id_vars=['region'], var_name='spe')\n",
    "    dfD.rename(columns = {'value':'densite_med'}, inplace = True)  \n",
    "    dfD['densite_med'].astype('float')\n",
    "except:\n",
    "    print('An error occured while importing/ cleaning data frame: Doctor density')\n",
    "end = time.time()\n",
    "\n",
    "print(\"{:.0f} min {:.2f} s\".format(((end - start) // 60), ((end - start) % 60)))"
   ]
  },
  {
   "cell_type": "code",
   "execution_count": 6,
   "metadata": {
    "collapsed": false
   },
   "outputs": [
    {
     "data": {
      "text/html": [
       "<div>\n",
       "<table border=\"1\" class=\"dataframe\">\n",
       "  <thead>\n",
       "    <tr style=\"text-align: right;\">\n",
       "      <th></th>\n",
       "      <th>region</th>\n",
       "      <th>spe</th>\n",
       "      <th>densite_med</th>\n",
       "    </tr>\n",
       "  </thead>\n",
       "  <tbody>\n",
       "    <tr>\n",
       "      <th>0</th>\n",
       "      <td>alsace champagne ardenne lorraine</td>\n",
       "      <td>Ensemble des spécialités d'exercice</td>\n",
       "      <td>319.9</td>\n",
       "    </tr>\n",
       "    <tr>\n",
       "      <th>1</th>\n",
       "      <td>aquitaine limousin poitou charentes</td>\n",
       "      <td>Ensemble des spécialités d'exercice</td>\n",
       "      <td>334.4</td>\n",
       "    </tr>\n",
       "    <tr>\n",
       "      <th>2</th>\n",
       "      <td>auvergne rhone alpes</td>\n",
       "      <td>Ensemble des spécialités d'exercice</td>\n",
       "      <td>336.9</td>\n",
       "    </tr>\n",
       "    <tr>\n",
       "      <th>3</th>\n",
       "      <td>bourgogne franche comte</td>\n",
       "      <td>Ensemble des spécialités d'exercice</td>\n",
       "      <td>294.6</td>\n",
       "    </tr>\n",
       "    <tr>\n",
       "      <th>4</th>\n",
       "      <td>bretagne</td>\n",
       "      <td>Ensemble des spécialités d'exercice</td>\n",
       "      <td>315.7</td>\n",
       "    </tr>\n",
       "  </tbody>\n",
       "</table>\n",
       "</div>"
      ],
      "text/plain": [
       "                                region                                  spe  \\\n",
       "0    alsace champagne ardenne lorraine  Ensemble des spécialités d'exercice   \n",
       "1  aquitaine limousin poitou charentes  Ensemble des spécialités d'exercice   \n",
       "2                 auvergne rhone alpes  Ensemble des spécialités d'exercice   \n",
       "3              bourgogne franche comte  Ensemble des spécialités d'exercice   \n",
       "4                             bretagne  Ensemble des spécialités d'exercice   \n",
       "\n",
       "   densite_med  \n",
       "0        319.9  \n",
       "1        334.4  \n",
       "2        336.9  \n",
       "3        294.6  \n",
       "4        315.7  "
      ]
     },
     "execution_count": 6,
     "metadata": {},
     "output_type": "execute_result"
    }
   ],
   "source": [
    "dfD.head()"
   ]
  },
  {
   "cell_type": "code",
   "execution_count": 7,
   "metadata": {
    "collapsed": false
   },
   "outputs": [
    {
     "data": {
      "text/html": [
       "<div>\n",
       "<table border=\"1\" class=\"dataframe\">\n",
       "  <thead>\n",
       "    <tr style=\"text-align: right;\">\n",
       "      <th></th>\n",
       "      <th></th>\n",
       "      <th>dep_hon</th>\n",
       "      <th>densite_med</th>\n",
       "    </tr>\n",
       "    <tr>\n",
       "      <th>region</th>\n",
       "      <th>spe</th>\n",
       "      <th></th>\n",
       "      <th></th>\n",
       "    </tr>\n",
       "  </thead>\n",
       "  <tbody>\n",
       "    <tr>\n",
       "      <th rowspan=\"5\" valign=\"top\">alsace champagne ardenne lorraine</th>\n",
       "      <th>Anatomie et cytologie pathologiques</th>\n",
       "      <td>-22.0</td>\n",
       "      <td>2.0</td>\n",
       "    </tr>\n",
       "    <tr>\n",
       "      <th>Anesthésie-réanimation</th>\n",
       "      <td>-22.0</td>\n",
       "      <td>16.8</td>\n",
       "    </tr>\n",
       "    <tr>\n",
       "      <th>Biologie médicale</th>\n",
       "      <td>-22.0</td>\n",
       "      <td>4.0</td>\n",
       "    </tr>\n",
       "    <tr>\n",
       "      <th>Cardiologie et maladies vasculaires</th>\n",
       "      <td>-22.0</td>\n",
       "      <td>10.5</td>\n",
       "    </tr>\n",
       "    <tr>\n",
       "      <th>Chirurgie générale</th>\n",
       "      <td>-22.0</td>\n",
       "      <td>6.0</td>\n",
       "    </tr>\n",
       "  </tbody>\n",
       "</table>\n",
       "</div>"
      ],
      "text/plain": [
       "                                                                       dep_hon  \\\n",
       "region                            spe                                            \n",
       "alsace champagne ardenne lorraine Anatomie et cytologie pathologiques    -22.0   \n",
       "                                  Anesthésie-réanimation                 -22.0   \n",
       "                                  Biologie médicale                      -22.0   \n",
       "                                  Cardiologie et maladies vasculaires    -22.0   \n",
       "                                  Chirurgie générale                     -22.0   \n",
       "\n",
       "                                                                       densite_med  \n",
       "region                            spe                                               \n",
       "alsace champagne ardenne lorraine Anatomie et cytologie pathologiques          2.0  \n",
       "                                  Anesthésie-réanimation                      16.8  \n",
       "                                  Biologie médicale                            4.0  \n",
       "                                  Cardiologie et maladies vasculaires         10.5  \n",
       "                                  Chirurgie générale                           6.0  "
      ]
     },
     "execution_count": 7,
     "metadata": {},
     "output_type": "execute_result"
    }
   ],
   "source": [
    "df1 = pd.merge(df, dfD, how='inner')\n",
    "dfview1 = df1.groupby(['region', 'spe']).agg({'densite_med': np.mean, 'dep_hon' : np.sum})\n",
    "dfview1.head()"
   ]
  },
  {
   "cell_type": "code",
   "execution_count": 42,
   "metadata": {
    "collapsed": false
   },
   "outputs": [
    {
     "ename": "ValueError",
     "evalue": "Input data must be DataFrame or Series",
     "output_type": "error",
     "traceback": [
      "\u001b[1;31m\u001b[0m",
      "\u001b[1;31mValueError\u001b[0mTraceback (most recent call last)",
      "\u001b[1;32m<ipython-input-42-9e62c562010d>\u001b[0m in \u001b[0;36m<module>\u001b[1;34m()\u001b[0m\n\u001b[1;32m----> 1\u001b[1;33m \u001b[0mdfview1\u001b[0m\u001b[1;33m.\u001b[0m\u001b[0mplot\u001b[0m\u001b[1;33m(\u001b[0m\u001b[0mkind\u001b[0m\u001b[1;33m=\u001b[0m\u001b[1;34m'density'\u001b[0m\u001b[1;33m,\u001b[0m \u001b[0mtable\u001b[0m\u001b[1;33m=\u001b[0m\u001b[0mDataFrame\u001b[0m\u001b[1;33m,\u001b[0m \u001b[0msubplots\u001b[0m\u001b[1;33m=\u001b[0m\u001b[1;32mTrue\u001b[0m\u001b[1;33m)\u001b[0m\u001b[1;33m\u001b[0m\u001b[0m\n\u001b[0m",
      "\u001b[1;32mC:\\Users\\fjacob\\Anaconda3\\lib\\site-packages\\pandas\\tools\\plotting.py\u001b[0m in \u001b[0;36m__call__\u001b[1;34m(self, x, y, kind, ax, subplots, sharex, sharey, layout, figsize, use_index, title, grid, legend, style, logx, logy, loglog, xticks, yticks, xlim, ylim, rot, fontsize, colormap, table, yerr, xerr, secondary_y, sort_columns, **kwds)\u001b[0m\n\u001b[0;32m   3771\u001b[0m                           \u001b[0mfontsize\u001b[0m\u001b[1;33m=\u001b[0m\u001b[0mfontsize\u001b[0m\u001b[1;33m,\u001b[0m \u001b[0mcolormap\u001b[0m\u001b[1;33m=\u001b[0m\u001b[0mcolormap\u001b[0m\u001b[1;33m,\u001b[0m \u001b[0mtable\u001b[0m\u001b[1;33m=\u001b[0m\u001b[0mtable\u001b[0m\u001b[1;33m,\u001b[0m\u001b[1;33m\u001b[0m\u001b[0m\n\u001b[0;32m   3772\u001b[0m                           \u001b[0myerr\u001b[0m\u001b[1;33m=\u001b[0m\u001b[0myerr\u001b[0m\u001b[1;33m,\u001b[0m \u001b[0mxerr\u001b[0m\u001b[1;33m=\u001b[0m\u001b[0mxerr\u001b[0m\u001b[1;33m,\u001b[0m \u001b[0msecondary_y\u001b[0m\u001b[1;33m=\u001b[0m\u001b[0msecondary_y\u001b[0m\u001b[1;33m,\u001b[0m\u001b[1;33m\u001b[0m\u001b[0m\n\u001b[1;32m-> 3773\u001b[1;33m                           sort_columns=sort_columns, **kwds)\n\u001b[0m\u001b[0;32m   3774\u001b[0m     \u001b[0m__call__\u001b[0m\u001b[1;33m.\u001b[0m\u001b[0m__doc__\u001b[0m \u001b[1;33m=\u001b[0m \u001b[0mplot_frame\u001b[0m\u001b[1;33m.\u001b[0m\u001b[0m__doc__\u001b[0m\u001b[1;33m\u001b[0m\u001b[0m\n\u001b[0;32m   3775\u001b[0m \u001b[1;33m\u001b[0m\u001b[0m\n",
      "\u001b[1;32mC:\\Users\\fjacob\\Anaconda3\\lib\\site-packages\\pandas\\tools\\plotting.py\u001b[0m in \u001b[0;36mplot_frame\u001b[1;34m(data, x, y, kind, ax, subplots, sharex, sharey, layout, figsize, use_index, title, grid, legend, style, logx, logy, loglog, xticks, yticks, xlim, ylim, rot, fontsize, colormap, table, yerr, xerr, secondary_y, sort_columns, **kwds)\u001b[0m\n\u001b[0;32m   2640\u001b[0m                  \u001b[0myerr\u001b[0m\u001b[1;33m=\u001b[0m\u001b[0myerr\u001b[0m\u001b[1;33m,\u001b[0m \u001b[0mxerr\u001b[0m\u001b[1;33m=\u001b[0m\u001b[0mxerr\u001b[0m\u001b[1;33m,\u001b[0m\u001b[1;33m\u001b[0m\u001b[0m\n\u001b[0;32m   2641\u001b[0m                  \u001b[0msecondary_y\u001b[0m\u001b[1;33m=\u001b[0m\u001b[0msecondary_y\u001b[0m\u001b[1;33m,\u001b[0m \u001b[0msort_columns\u001b[0m\u001b[1;33m=\u001b[0m\u001b[0msort_columns\u001b[0m\u001b[1;33m,\u001b[0m\u001b[1;33m\u001b[0m\u001b[0m\n\u001b[1;32m-> 2642\u001b[1;33m                  **kwds)\n\u001b[0m\u001b[0;32m   2643\u001b[0m \u001b[1;33m\u001b[0m\u001b[0m\n\u001b[0;32m   2644\u001b[0m \u001b[1;33m\u001b[0m\u001b[0m\n",
      "\u001b[1;32mC:\\Users\\fjacob\\Anaconda3\\lib\\site-packages\\pandas\\tools\\plotting.py\u001b[0m in \u001b[0;36m_plot\u001b[1;34m(data, x, y, subplots, ax, kind, **kwds)\u001b[0m\n\u001b[0;32m   2467\u001b[0m         \u001b[0mplot_obj\u001b[0m \u001b[1;33m=\u001b[0m \u001b[0mklass\u001b[0m\u001b[1;33m(\u001b[0m\u001b[0mdata\u001b[0m\u001b[1;33m,\u001b[0m \u001b[0msubplots\u001b[0m\u001b[1;33m=\u001b[0m\u001b[0msubplots\u001b[0m\u001b[1;33m,\u001b[0m \u001b[0max\u001b[0m\u001b[1;33m=\u001b[0m\u001b[0max\u001b[0m\u001b[1;33m,\u001b[0m \u001b[0mkind\u001b[0m\u001b[1;33m=\u001b[0m\u001b[0mkind\u001b[0m\u001b[1;33m,\u001b[0m \u001b[1;33m**\u001b[0m\u001b[0mkwds\u001b[0m\u001b[1;33m)\u001b[0m\u001b[1;33m\u001b[0m\u001b[0m\n\u001b[0;32m   2468\u001b[0m \u001b[1;33m\u001b[0m\u001b[0m\n\u001b[1;32m-> 2469\u001b[1;33m     \u001b[0mplot_obj\u001b[0m\u001b[1;33m.\u001b[0m\u001b[0mgenerate\u001b[0m\u001b[1;33m(\u001b[0m\u001b[1;33m)\u001b[0m\u001b[1;33m\u001b[0m\u001b[0m\n\u001b[0m\u001b[0;32m   2470\u001b[0m     \u001b[0mplot_obj\u001b[0m\u001b[1;33m.\u001b[0m\u001b[0mdraw\u001b[0m\u001b[1;33m(\u001b[0m\u001b[1;33m)\u001b[0m\u001b[1;33m\u001b[0m\u001b[0m\n\u001b[0;32m   2471\u001b[0m     \u001b[1;32mreturn\u001b[0m \u001b[0mplot_obj\u001b[0m\u001b[1;33m.\u001b[0m\u001b[0mresult\u001b[0m\u001b[1;33m\u001b[0m\u001b[0m\n",
      "\u001b[1;32mC:\\Users\\fjacob\\Anaconda3\\lib\\site-packages\\pandas\\tools\\plotting.py\u001b[0m in \u001b[0;36mgenerate\u001b[1;34m(self)\u001b[0m\n\u001b[0;32m   1042\u001b[0m         \u001b[0mself\u001b[0m\u001b[1;33m.\u001b[0m\u001b[0m_setup_subplots\u001b[0m\u001b[1;33m(\u001b[0m\u001b[1;33m)\u001b[0m\u001b[1;33m\u001b[0m\u001b[0m\n\u001b[0;32m   1043\u001b[0m         \u001b[0mself\u001b[0m\u001b[1;33m.\u001b[0m\u001b[0m_make_plot\u001b[0m\u001b[1;33m(\u001b[0m\u001b[1;33m)\u001b[0m\u001b[1;33m\u001b[0m\u001b[0m\n\u001b[1;32m-> 1044\u001b[1;33m         \u001b[0mself\u001b[0m\u001b[1;33m.\u001b[0m\u001b[0m_add_table\u001b[0m\u001b[1;33m(\u001b[0m\u001b[1;33m)\u001b[0m\u001b[1;33m\u001b[0m\u001b[0m\n\u001b[0m\u001b[0;32m   1045\u001b[0m         \u001b[0mself\u001b[0m\u001b[1;33m.\u001b[0m\u001b[0m_make_legend\u001b[0m\u001b[1;33m(\u001b[0m\u001b[1;33m)\u001b[0m\u001b[1;33m\u001b[0m\u001b[0m\n\u001b[0;32m   1046\u001b[0m         \u001b[0mself\u001b[0m\u001b[1;33m.\u001b[0m\u001b[0m_adorn_subplots\u001b[0m\u001b[1;33m(\u001b[0m\u001b[1;33m)\u001b[0m\u001b[1;33m\u001b[0m\u001b[0m\n",
      "\u001b[1;32mC:\\Users\\fjacob\\Anaconda3\\lib\\site-packages\\pandas\\tools\\plotting.py\u001b[0m in \u001b[0;36m_add_table\u001b[1;34m(self)\u001b[0m\n\u001b[0;32m   1163\u001b[0m             \u001b[0mdata\u001b[0m \u001b[1;33m=\u001b[0m \u001b[0mself\u001b[0m\u001b[1;33m.\u001b[0m\u001b[0mtable\u001b[0m\u001b[1;33m\u001b[0m\u001b[0m\n\u001b[0;32m   1164\u001b[0m         \u001b[0max\u001b[0m \u001b[1;33m=\u001b[0m \u001b[0mself\u001b[0m\u001b[1;33m.\u001b[0m\u001b[0m_get_ax\u001b[0m\u001b[1;33m(\u001b[0m\u001b[1;36m0\u001b[0m\u001b[1;33m)\u001b[0m\u001b[1;33m\u001b[0m\u001b[0m\n\u001b[1;32m-> 1165\u001b[1;33m         \u001b[0mtable\u001b[0m\u001b[1;33m(\u001b[0m\u001b[0max\u001b[0m\u001b[1;33m,\u001b[0m \u001b[0mdata\u001b[0m\u001b[1;33m)\u001b[0m\u001b[1;33m\u001b[0m\u001b[0m\n\u001b[0m\u001b[0;32m   1166\u001b[0m \u001b[1;33m\u001b[0m\u001b[0m\n\u001b[0;32m   1167\u001b[0m     \u001b[1;32mdef\u001b[0m \u001b[0m_post_plot_logic_common\u001b[0m\u001b[1;33m(\u001b[0m\u001b[0mself\u001b[0m\u001b[1;33m,\u001b[0m \u001b[0max\u001b[0m\u001b[1;33m,\u001b[0m \u001b[0mdata\u001b[0m\u001b[1;33m)\u001b[0m\u001b[1;33m:\u001b[0m\u001b[1;33m\u001b[0m\u001b[0m\n",
      "\u001b[1;32mC:\\Users\\fjacob\\Anaconda3\\lib\\site-packages\\pandas\\tools\\plotting.py\u001b[0m in \u001b[0;36mtable\u001b[1;34m(ax, data, rowLabels, colLabels, **kwargs)\u001b[0m\n\u001b[0;32m   3226\u001b[0m         \u001b[1;32mpass\u001b[0m\u001b[1;33m\u001b[0m\u001b[0m\n\u001b[0;32m   3227\u001b[0m     \u001b[1;32melse\u001b[0m\u001b[1;33m:\u001b[0m\u001b[1;33m\u001b[0m\u001b[0m\n\u001b[1;32m-> 3228\u001b[1;33m         \u001b[1;32mraise\u001b[0m \u001b[0mValueError\u001b[0m\u001b[1;33m(\u001b[0m\u001b[1;34m'Input data must be DataFrame or Series'\u001b[0m\u001b[1;33m)\u001b[0m\u001b[1;33m\u001b[0m\u001b[0m\n\u001b[0m\u001b[0;32m   3229\u001b[0m \u001b[1;33m\u001b[0m\u001b[0m\n\u001b[0;32m   3230\u001b[0m     \u001b[1;32mif\u001b[0m \u001b[0mrowLabels\u001b[0m \u001b[1;32mis\u001b[0m \u001b[1;32mNone\u001b[0m\u001b[1;33m:\u001b[0m\u001b[1;33m\u001b[0m\u001b[0m\n",
      "\u001b[1;31mValueError\u001b[0m: Input data must be DataFrame or Series"
     ]
    },
    {
     "data": {
      "image/png": "[encoded data removed]",
      "text/plain": [
       "<matplotlib.figure.Figure at 0xb319270>"
      ]
     },
     "metadata": {},
     "output_type": "display_data"
    }
   ],
   "source": [
    "dfview1.plot(kind='density', table=DataFrame, subplots=True)"
   ]
  },
  {
   "cell_type": "code",
   "execution_count": 214,
   "metadata": {
    "collapsed": false
   },
   "outputs": [
    {
     "ename": "ValueError",
     "evalue": "too many values to unpack (expected 2)",
     "output_type": "error",
     "traceback": [
      "\u001b[1;31m\u001b[0m",
      "\u001b[1;31mValueError\u001b[0mTraceback (most recent call last)",
      "\u001b[1;32m<ipython-input-214-53421e72df28>\u001b[0m in \u001b[0;36m<module>\u001b[1;34m()\u001b[0m\n\u001b[0;32m      3\u001b[0m \u001b[1;33m\u001b[0m\u001b[0m\n\u001b[0;32m      4\u001b[0m \u001b[1;31m#dfview1.plot(df1, 'dep_hon', 'densite_med')\u001b[0m\u001b[1;33m\u001b[0m\u001b[1;33m\u001b[0m\u001b[0m\n\u001b[1;32m----> 5\u001b[1;33m \u001b[1;32mfor\u001b[0m \u001b[0mkey\u001b[0m\u001b[1;33m,\u001b[0m \u001b[0mgrp\u001b[0m \u001b[1;32min\u001b[0m \u001b[0mdfview1\u001b[0m\u001b[1;33m:\u001b[0m\u001b[1;33m\u001b[0m\u001b[0m\n\u001b[0m\u001b[0;32m      6\u001b[0m     \u001b[0mplt\u001b[0m\u001b[1;33m.\u001b[0m\u001b[0mplot\u001b[0m\u001b[1;33m(\u001b[0m\u001b[0mgrp\u001b[0m\u001b[1;33m[\u001b[0m\u001b[1;34m'dep_hon'\u001b[0m\u001b[1;33m]\u001b[0m\u001b[1;33m,\u001b[0m \u001b[0mlabel\u001b[0m\u001b[1;33m=\u001b[0m\u001b[0mkey\u001b[0m\u001b[1;33m)\u001b[0m\u001b[1;33m\u001b[0m\u001b[0m\n\u001b[0;32m      7\u001b[0m     \u001b[0mgrp\u001b[0m\u001b[1;33m[\u001b[0m\u001b[1;34m'region'\u001b[0m\u001b[1;33m]\u001b[0m \u001b[1;33m=\u001b[0m \u001b[0mpd\u001b[0m\u001b[1;33m.\u001b[0m\u001b[0mrolling_mean\u001b[0m\u001b[1;33m(\u001b[0m\u001b[0mgrp\u001b[0m\u001b[1;33m[\u001b[0m\u001b[1;34m'dep_hon'\u001b[0m\u001b[1;33m]\u001b[0m\u001b[1;33m,\u001b[0m \u001b[0mwindow\u001b[0m\u001b[1;33m=\u001b[0m\u001b[1;36m5\u001b[0m\u001b[1;33m)\u001b[0m\u001b[1;33m\u001b[0m\u001b[0m\n",
      "\u001b[1;31mValueError\u001b[0m: too many values to unpack (expected 2)"
     ]
    }
   ],
   "source": [
    "#dfview1.plot(df1, 'dep_hon', 'densite_med')\n",
    "for key, grp in dfview1:\n",
    "    plt.plot(grp['dep_hon'], label=key)\n",
    "    grp['region'] = pd.rolling_mean(grp['dep_hon'], window=5)    \n",
    "    plt.plot(grp['region'], label='rolling ({k})'.format(k=key))\n",
    "plt.legend(loc='best')    \n",
    "plt.show()"
   ]
  },
  {
   "cell_type": "code",
   "execution_count": 164,
   "metadata": {
    "collapsed": false
   },
   "outputs": [
    {
     "name": "stdout",
     "output_type": "stream",
     "text": [
      "0.17715787887573242\n"
     ]
    },
    {
     "data": {
      "text/html": [
       "<div>\n",
       "<table border=\"1\" class=\"dataframe\">\n",
       "  <thead>\n",
       "    <tr style=\"text-align: right;\">\n",
       "      <th></th>\n",
       "      <th>region</th>\n",
       "      <th>agelim</th>\n",
       "      <th>agecount</th>\n",
       "    </tr>\n",
       "  </thead>\n",
       "  <tbody>\n",
       "    <tr>\n",
       "      <th>0</th>\n",
       "      <td>alsace champagne ardenne lorraine</td>\n",
       "      <td>19</td>\n",
       "      <td>1 314 940</td>\n",
       "    </tr>\n",
       "    <tr>\n",
       "      <th>1</th>\n",
       "      <td>aquitaine limousin poitou charentes</td>\n",
       "      <td>19</td>\n",
       "      <td>1 310 200</td>\n",
       "    </tr>\n",
       "    <tr>\n",
       "      <th>2</th>\n",
       "      <td>auvergne rhone alpes</td>\n",
       "      <td>19</td>\n",
       "      <td>1 946 672</td>\n",
       "    </tr>\n",
       "    <tr>\n",
       "      <th>3</th>\n",
       "      <td>bourgogne franche comte</td>\n",
       "      <td>19</td>\n",
       "      <td>658 303</td>\n",
       "    </tr>\n",
       "    <tr>\n",
       "      <th>4</th>\n",
       "      <td>bretagne</td>\n",
       "      <td>19</td>\n",
       "      <td>791 945</td>\n",
       "    </tr>\n",
       "  </tbody>\n",
       "</table>\n",
       "</div>"
      ],
      "text/plain": [
       "                                region agelim   agecount\n",
       "0    alsace champagne ardenne lorraine     19  1 314 940\n",
       "1  aquitaine limousin poitou charentes     19  1 310 200\n",
       "2                 auvergne rhone alpes     19  1 946 672\n",
       "3              bourgogne franche comte     19    658 303\n",
       "4                             bretagne     19    791 945"
      ]
     },
     "execution_count": 164,
     "metadata": {},
     "output_type": "execute_result"
    }
   ],
   "source": [
    "######################## Loading population by region and age range #################\n",
    "start = time.time()\n",
    "try:\n",
    "    dfInitPop = pd.read_csv(path+file2, sep=';', encoding='iso-8859-1', nrows=1000)\n",
    "    dfPop = dfInitPop.copy()  \n",
    "    \n",
    "    # Operations on columns\n",
    "    cols_to_delete = [name for name in dfPop.columns]\n",
    "    for col in dfPop.columns[6:]:\n",
    "        dfPop = dfPop.drop(col, axis=1)\n",
    "    \n",
    "    # Operation on rows\n",
    "    cols_pop = ['region'] + [re.findall(r'\\s(\\d+)', name)[0] for name in dfPop.ix[3][1:5]] + ['75']\n",
    "    dfPop = dfPop.drop(3, axis=0).drop(2, axis=0).drop(1, axis=0).drop(0, axis=0).drop(24, axis=0).drop(25, axis=0).drop(26, axis=0)\n",
    "    dfPop.columns = cols_pop\n",
    "    \n",
    "    # Operations continues\n",
    "    dfPop['region'] = dfPop['region'].str.lower()\n",
    "    regexCleaning = ['(ô)', '(é)', '(î)', '(-)']\n",
    "    newValues = ['o', 'e', 'i', ' ']\n",
    "    for i in range(len(regexCleaning)):\n",
    "        dfPop['region'] = dfPop['region'].str.replace(regexCleaning[i], newValues[i])\n",
    "    dfPop.reset_index().drop('index', axis=1)\n",
    "    dfPop = pd.melt(dfPop, id_vars=['region'], var_name='agelim')\n",
    "    dfPop.rename(columns = {'value':'agecount'}, inplace = True)\n",
    "except:\n",
    "    print('An error occured while importing/ cleaning data frame: Population Age QCuts')\n",
    "end = time.time()\n",
    "\n",
    "print(\"{:.0f} min {:.2f} s\".format(((end - start) // 60), ((end - start) % 60)))\n",
    "dfPop.head(5)"
   ]
  },
  {
   "cell_type": "code",
   "execution_count": 172,
   "metadata": {
    "collapsed": false
   },
   "outputs": [],
   "source": [
    "#set(dfD['spe'].values)"
   ]
  },
  {
   "cell_type": "code",
   "execution_count": 171,
   "metadata": {
    "collapsed": false
   },
   "outputs": [
    {
     "name": "stdout",
     "output_type": "stream",
     "text": [
      "2376\n"
     ]
    }
   ],
   "source": [
    "print(dfD.size)"
   ]
  },
  {
   "cell_type": "code",
   "execution_count": null,
   "metadata": {
    "collapsed": true
   },
   "outputs": [],
   "source": []
  }
 ],
 "metadata": {
  "kernelspec": {
   "display_name": "Python [Root]",
   "language": "python",
   "name": "Python [Root]"
  },
  "language_info": {
   "codemirror_mode": {
    "name": "ipython",
    "version": 3
   },
   "file_extension": ".py",
   "mimetype": "text/x-python",
   "name": "python",
   "nbconvert_exporter": "python",
   "pygments_lexer": "ipython3",
   "version": "3.5.2"
  }
 },
 "nbformat": 4,
 "nbformat_minor": 1
}
