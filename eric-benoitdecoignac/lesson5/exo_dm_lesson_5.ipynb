{
 "cells": [
  {
   "cell_type": "code",
   "execution_count": 1,
   "metadata": {
    "collapsed": false
   },
   "outputs": [],
   "source": [
    "# coding: utf-8\n",
    "\n",
    "import numpy as np\n",
    "import pandas as pd\n",
    "import pdb\n",
    "from pandas import Series, DataFrame\n",
    "import re\n",
    "import string\n",
    "import time"
   ]
  },
  {
   "cell_type": "code",
   "execution_count": 88,
   "metadata": {
    "collapsed": true
   },
   "outputs": [],
   "source": [
    "path = '~/Documents/MS_BGD_Cours/Tempdata/'\n",
    "file = 'R201512.csv'\n",
    "file2 = 'estim-pop-reg-sexe-gca-2015.csv'\n",
    "file3 = 'rppsmedecins.csv'"
   ]
  },
  {
   "cell_type": "code",
   "execution_count": 168,
   "metadata": {
    "collapsed": false
   },
   "outputs": [],
   "source": [
    "oldRegions = str.lower('''Bourgogne\n",
    "Franche-Comté\n",
    "Haute-Normandie\n",
    "Basse-Normandie\n",
    "Nord-Pas-de-Calais\n",
    "Picardie\n",
    "Lorraine\n",
    "Alsace\n",
    "Champagne-Ardenne\n",
    "Aquitaine\n",
    "Poitou-Charentes\n",
    "Limousin\n",
    "Midi-Pyrénées\n",
    "Languedoc-Roussillon\n",
    "Rhône-Alpes\n",
    "Auvergne''').replace('é', 'e').replace('-', ' ').replace('ô', 'o').split('\\n')\n",
    "\n",
    "newRegions = str.lower('''Bourgogne-Franche-Comté\n",
    "Bourgogne-Franche-Comté\n",
    "Normandie\n",
    "Normandie\n",
    "Nord-Pas-de-Calais-Picardie\n",
    "Nord-Pas-de-Calais-Picardie\n",
    "Alsace-Champagne-Ardenne-Lorraine\n",
    "Alsace-Champagne-Ardenne-Lorraine\n",
    "Alsace-Champagne-Ardenne-Lorraine\n",
    "Aquitaine-Limousin-Poitou-Charentes\n",
    "Aquitaine-Limousin-Poitou-Charentes\n",
    "Aquitaine-Limousin-Poitou-Charentes\n",
    "Languedoc-Roussillon-Midi-Pyrénées\n",
    "Languedoc-Roussillon-Midi-Pyrénées\n",
    "Auvergne-Rhône-Alpes\n",
    "Auvergne-Rhône-Alpes''').replace('é', 'e').replace('-', ' ').replace('ô', 'o').split('\\n')"
   ]
  },
  {
   "cell_type": "code",
   "execution_count": 183,
   "metadata": {
    "collapsed": false,
    "scrolled": false
   },
   "outputs": [
    {
     "name": "stdout",
     "output_type": "stream",
     "text": [
      "0 min 0.25 s\n",
      "region                               date\n",
      "alsace champagne ardenne lorraine    2012   -22.0\n",
      "aquitaine limousin poitou charentes  2011     0.0\n",
      "                                     2012     0.0\n",
      "bourgogne franche comte              2011     0.0\n",
      "centre                               2012     0.0\n",
      "guadeloupe                           2012    14.7\n",
      "ile de france                        2011     0.0\n",
      "                                     2012    19.0\n",
      "languedoc roussillon midi pyrenees   2011     0.0\n",
      "martinique                           2011     0.0\n",
      "                                     2012     0.0\n",
      "nord pas de calais picardie          2011     0.0\n",
      "                                     2012     0.0\n",
      "normandie                            2011     0.0\n",
      "                                     2012     0.0\n",
      "pays de la loire                     2011     0.0\n",
      "                                     2012     3.0\n",
      "provence alpes cote d'azur           2012   -34.0\n",
      "Name: dep_hon, dtype: float64\n"
     ]
    }
   ],
   "source": [
    "######################## Loading extra fees by region and date #################\n",
    "start = time.time()\n",
    "try:\n",
    "    dfInit = pd.read_csv(path+file, sep=';', encoding='iso-8859-1', nrows=100, low_memory=False)\n",
    "    df = dfInit.copy()\n",
    "\n",
    "    # Select usefull columns, drop others\n",
    "    useful_cols_R = ['dep_mon', 'l_region', 'sns_date']\n",
    "    newCols = ['region', 'date', 'dep_hon']\n",
    "    # Reservoir: useful_cols = ['act_dnb', 'dep_mon', 'exe_spe', 'l_exe_spe', 'region', 'l_region', 'sns_date']\n",
    "    for col in df.columns:\n",
    "        if col not in useful_cols_R:\n",
    "            df = df.drop(col, axis=1)\n",
    "    df.columns = newCols\n",
    "    \n",
    "    \n",
    "    # operations for cleaning data\n",
    "    df['region'] = df['region'].str.lower()\n",
    "    df['dep_hon'] = df['dep_hon'].str.replace(r'(,)', '.')\n",
    "    df['region'] = df['region'].str.replace('([\\d]+-)', '')\n",
    "    df['dep_hon'] = df['dep_hon'].astype('float')\n",
    "    \n",
    "    # Dates handling\n",
    "    df['date'] = pd.to_datetime(df['date'], format='%Y%m', errors='ignore')\n",
    "    df.columns = newCols\n",
    "    df['date'] = df['date'].dt.year\n",
    "    \n",
    "    # Dropna\n",
    "    df = df.dropna()\n",
    "    \n",
    "    # Handling new regions\n",
    "    for i in range(len(oldRegions)):\n",
    "        old = oldRegions[i]\n",
    "        new = newRegions[i]\n",
    "        df = df.replace(old, new)\n",
    "    \n",
    "    # Useful presentation\n",
    "    dfview = df.groupby(['region', 'date'])['dep_hon'].sum()\n",
    "except:\n",
    "    print('An error occured while importing/ cleaning data frame: Health Coverage Expenses')\n",
    "end = time.time()\n",
    "\n",
    "print(\"{:.0f} min {:.2f} s\".format(((end - start) // 60), ((end - start) % 60)))\n",
    "print(dfview)"
   ]
  },
  {
   "cell_type": "code",
   "execution_count": 205,
   "metadata": {
    "collapsed": false
   },
   "outputs": [
    {
     "name": "stdout",
     "output_type": "stream",
     "text": [
      "0 min 0.06 s\n"
     ]
    }
   ],
   "source": [
    "######################## Loading doctor density by region and specialities /100k inhab. #################\n",
    "start = time.time()\n",
    "try:\n",
    "    dfInitD = pd.read_csv(path+file3, sep=',', encoding='iso-8859-1', skiprows=4, nrows=22, error_bad_lines=False)\n",
    "    dfD = dfInitD.copy()\n",
    "\n",
    "    dfD = dfD.drop(0, axis=0).drop(1, axis=0).drop(2, axis=0).drop(3, axis=0)\n",
    "    dfD = dfD.reset_index().drop('index', axis=1)\n",
    "\n",
    "    dfD.rename(columns = {'SPECIALITE':'region'}, inplace = True)\n",
    "    \n",
    "    dfD['region'] = dfD['region'].str.lower()\n",
    "    regexCleaning = ['(ô)', '(é)', '(î)', '(-)']\n",
    "    newValues = ['o', 'e', 'i', ' ']\n",
    "    for i in range(len(regexCleaning)):\n",
    "        dfD['region'] = dfD['region'].str.replace(regexCleaning[i], newValues[i])\n",
    "\n",
    "    dfD = pd.melt(dfD, id_vars=['region'], var_name='spe')\n",
    "    dfD.rename(columns = {'value':'densite_med'}, inplace = True)  \n",
    "    dfD['densite_med'].astype('float')\n",
    "except:\n",
    "    print('An error occured while importing/ cleaning data frame: Doctor density')\n",
    "end = time.time()\n",
    "\n",
    "print(\"{:.0f} min {:.2f} s\".format(((end - start) // 60), ((end - start) % 60)))"
   ]
  },
  {
   "cell_type": "code",
   "execution_count": 206,
   "metadata": {
    "collapsed": false
   },
   "outputs": [
    {
     "data": {
      "text/html": [
       "<div>\n",
       "<table border=\"1\" class=\"dataframe\">\n",
       "  <thead>\n",
       "    <tr style=\"text-align: right;\">\n",
       "      <th></th>\n",
       "      <th>region</th>\n",
       "      <th>spe</th>\n",
       "      <th>densite_med</th>\n",
       "    </tr>\n",
       "  </thead>\n",
       "  <tbody>\n",
       "    <tr>\n",
       "      <th>0</th>\n",
       "      <td>alsace champagne ardenne lorraine</td>\n",
       "      <td>Ensemble des spécialités d'exercice</td>\n",
       "      <td>319.9</td>\n",
       "    </tr>\n",
       "    <tr>\n",
       "      <th>1</th>\n",
       "      <td>aquitaine limousin poitou charentes</td>\n",
       "      <td>Ensemble des spécialités d'exercice</td>\n",
       "      <td>334.4</td>\n",
       "    </tr>\n",
       "    <tr>\n",
       "      <th>2</th>\n",
       "      <td>auvergne rhone alpes</td>\n",
       "      <td>Ensemble des spécialités d'exercice</td>\n",
       "      <td>336.9</td>\n",
       "    </tr>\n",
       "    <tr>\n",
       "      <th>3</th>\n",
       "      <td>bourgogne franche comte</td>\n",
       "      <td>Ensemble des spécialités d'exercice</td>\n",
       "      <td>294.6</td>\n",
       "    </tr>\n",
       "    <tr>\n",
       "      <th>4</th>\n",
       "      <td>bretagne</td>\n",
       "      <td>Ensemble des spécialités d'exercice</td>\n",
       "      <td>315.7</td>\n",
       "    </tr>\n",
       "  </tbody>\n",
       "</table>\n",
       "</div>"
      ],
      "text/plain": [
       "                                region                                  spe  \\\n",
       "0    alsace champagne ardenne lorraine  Ensemble des spécialités d'exercice   \n",
       "1  aquitaine limousin poitou charentes  Ensemble des spécialités d'exercice   \n",
       "2                 auvergne rhone alpes  Ensemble des spécialités d'exercice   \n",
       "3              bourgogne franche comte  Ensemble des spécialités d'exercice   \n",
       "4                             bretagne  Ensemble des spécialités d'exercice   \n",
       "\n",
       "   densite_med  \n",
       "0        319.9  \n",
       "1        334.4  \n",
       "2        336.9  \n",
       "3        294.6  \n",
       "4        315.7  "
      ]
     },
     "execution_count": 206,
     "metadata": {},
     "output_type": "execute_result"
    }
   ],
   "source": [
    "dfD.head()"
   ]
  },
  {
   "cell_type": "code",
   "execution_count": 207,
   "metadata": {
    "collapsed": false
   },
   "outputs": [
    {
     "data": {
      "text/html": [
       "<div>\n",
       "<table border=\"1\" class=\"dataframe\">\n",
       "  <thead>\n",
       "    <tr style=\"text-align: right;\">\n",
       "      <th></th>\n",
       "      <th></th>\n",
       "      <th>densite_med</th>\n",
       "      <th>dep_hon</th>\n",
       "    </tr>\n",
       "    <tr>\n",
       "      <th>region</th>\n",
       "      <th>spe</th>\n",
       "      <th></th>\n",
       "      <th></th>\n",
       "    </tr>\n",
       "  </thead>\n",
       "  <tbody>\n",
       "    <tr>\n",
       "      <th rowspan=\"5\" valign=\"top\">alsace champagne ardenne lorraine</th>\n",
       "      <th>Anatomie et cytologie pathologiques</th>\n",
       "      <td>2.0</td>\n",
       "      <td>-22.0</td>\n",
       "    </tr>\n",
       "    <tr>\n",
       "      <th>Anesthésie-réanimation</th>\n",
       "      <td>16.8</td>\n",
       "      <td>-22.0</td>\n",
       "    </tr>\n",
       "    <tr>\n",
       "      <th>Biologie médicale</th>\n",
       "      <td>4.0</td>\n",
       "      <td>-22.0</td>\n",
       "    </tr>\n",
       "    <tr>\n",
       "      <th>Cardiologie et maladies vasculaires</th>\n",
       "      <td>10.5</td>\n",
       "      <td>-22.0</td>\n",
       "    </tr>\n",
       "    <tr>\n",
       "      <th>Chirurgie générale</th>\n",
       "      <td>6.0</td>\n",
       "      <td>-22.0</td>\n",
       "    </tr>\n",
       "  </tbody>\n",
       "</table>\n",
       "</div>"
      ],
      "text/plain": [
       "                                                                       densite_med  \\\n",
       "region                            spe                                                \n",
       "alsace champagne ardenne lorraine Anatomie et cytologie pathologiques          2.0   \n",
       "                                  Anesthésie-réanimation                      16.8   \n",
       "                                  Biologie médicale                            4.0   \n",
       "                                  Cardiologie et maladies vasculaires         10.5   \n",
       "                                  Chirurgie générale                           6.0   \n",
       "\n",
       "                                                                       dep_hon  \n",
       "region                            spe                                           \n",
       "alsace champagne ardenne lorraine Anatomie et cytologie pathologiques    -22.0  \n",
       "                                  Anesthésie-réanimation                 -22.0  \n",
       "                                  Biologie médicale                      -22.0  \n",
       "                                  Cardiologie et maladies vasculaires    -22.0  \n",
       "                                  Chirurgie générale                     -22.0  "
      ]
     },
     "execution_count": 207,
     "metadata": {},
     "output_type": "execute_result"
    }
   ],
   "source": [
    "df1 = pd.merge(df, dfD, how='inner')\n",
    "dfview1 = df1.groupby(['region', 'spe']).agg({'densite_med': np.mean, 'dep_hon' : np.sum})\n",
    "dfview1.head()"
   ]
  },
  {
   "cell_type": "code",
   "execution_count": 219,
   "metadata": {
    "collapsed": false
   },
   "outputs": [
    {
     "ename": "TypeError",
     "evalue": "__call__() got multiple values for argument 'kind'",
     "output_type": "error",
     "traceback": [
      "\u001b[1;31m\u001b[0m",
      "\u001b[1;31mTypeError\u001b[0mTraceback (most recent call last)",
      "\u001b[1;32m<ipython-input-219-7fcbdea9e3e1>\u001b[0m in \u001b[0;36m<module>\u001b[1;34m()\u001b[0m\n\u001b[0;32m      2\u001b[0m \u001b[1;32mimport\u001b[0m \u001b[0mmatplotlib\u001b[0m\u001b[1;33m.\u001b[0m\u001b[0mpyplot\u001b[0m \u001b[1;32mas\u001b[0m \u001b[0mplt\u001b[0m\u001b[1;33m\u001b[0m\u001b[0m\n\u001b[0;32m      3\u001b[0m \u001b[1;33m\u001b[0m\u001b[0m\n\u001b[1;32m----> 4\u001b[1;33m \u001b[0mdfview1\u001b[0m\u001b[1;33m.\u001b[0m\u001b[0mplot\u001b[0m\u001b[1;33m(\u001b[0m\u001b[0mdf1\u001b[0m\u001b[1;33m,\u001b[0m \u001b[1;34m'densite_med'\u001b[0m\u001b[1;33m,\u001b[0m \u001b[1;34m'dep_hon'\u001b[0m\u001b[1;33m,\u001b[0m \u001b[0mkind\u001b[0m\u001b[1;33m=\u001b[0m\u001b[1;34m'boxplot'\u001b[0m\u001b[1;33m)\u001b[0m\u001b[1;33m\u001b[0m\u001b[0m\n\u001b[0m",
      "\u001b[1;31mTypeError\u001b[0m: __call__() got multiple values for argument 'kind'"
     ]
    }
   ],
   "source": [
    "% matplotlib inline\n",
    "import matplotlib.pyplot as plt\n",
    "\n",
    "dfview1.plot(df1, 'densite_med', 'dep_hon', kind='boxplot')"
   ]
  },
  {
   "cell_type": "code",
   "execution_count": 214,
   "metadata": {
    "collapsed": false
   },
   "outputs": [
    {
     "ename": "ValueError",
     "evalue": "too many values to unpack (expected 2)",
     "output_type": "error",
     "traceback": [
      "\u001b[1;31m\u001b[0m",
      "\u001b[1;31mValueError\u001b[0mTraceback (most recent call last)",
      "\u001b[1;32m<ipython-input-214-53421e72df28>\u001b[0m in \u001b[0;36m<module>\u001b[1;34m()\u001b[0m\n\u001b[0;32m      3\u001b[0m \u001b[1;33m\u001b[0m\u001b[0m\n\u001b[0;32m      4\u001b[0m \u001b[1;31m#dfview1.plot(df1, 'dep_hon', 'densite_med')\u001b[0m\u001b[1;33m\u001b[0m\u001b[1;33m\u001b[0m\u001b[0m\n\u001b[1;32m----> 5\u001b[1;33m \u001b[1;32mfor\u001b[0m \u001b[0mkey\u001b[0m\u001b[1;33m,\u001b[0m \u001b[0mgrp\u001b[0m \u001b[1;32min\u001b[0m \u001b[0mdfview1\u001b[0m\u001b[1;33m:\u001b[0m\u001b[1;33m\u001b[0m\u001b[0m\n\u001b[0m\u001b[0;32m      6\u001b[0m     \u001b[0mplt\u001b[0m\u001b[1;33m.\u001b[0m\u001b[0mplot\u001b[0m\u001b[1;33m(\u001b[0m\u001b[0mgrp\u001b[0m\u001b[1;33m[\u001b[0m\u001b[1;34m'dep_hon'\u001b[0m\u001b[1;33m]\u001b[0m\u001b[1;33m,\u001b[0m \u001b[0mlabel\u001b[0m\u001b[1;33m=\u001b[0m\u001b[0mkey\u001b[0m\u001b[1;33m)\u001b[0m\u001b[1;33m\u001b[0m\u001b[0m\n\u001b[0;32m      7\u001b[0m     \u001b[0mgrp\u001b[0m\u001b[1;33m[\u001b[0m\u001b[1;34m'region'\u001b[0m\u001b[1;33m]\u001b[0m \u001b[1;33m=\u001b[0m \u001b[0mpd\u001b[0m\u001b[1;33m.\u001b[0m\u001b[0mrolling_mean\u001b[0m\u001b[1;33m(\u001b[0m\u001b[0mgrp\u001b[0m\u001b[1;33m[\u001b[0m\u001b[1;34m'dep_hon'\u001b[0m\u001b[1;33m]\u001b[0m\u001b[1;33m,\u001b[0m \u001b[0mwindow\u001b[0m\u001b[1;33m=\u001b[0m\u001b[1;36m5\u001b[0m\u001b[1;33m)\u001b[0m\u001b[1;33m\u001b[0m\u001b[0m\n",
      "\u001b[1;31mValueError\u001b[0m: too many values to unpack (expected 2)"
     ]
    }
   ],
   "source": [
    "#dfview1.plot(df1, 'dep_hon', 'densite_med')\n",
    "for key, grp in dfview1:\n",
    "    plt.plot(grp['dep_hon'], label=key)\n",
    "    grp['region'] = pd.rolling_mean(grp['dep_hon'], window=5)    \n",
    "    plt.plot(grp['region'], label='rolling ({k})'.format(k=key))\n",
    "plt.legend(loc='best')    \n",
    "plt.show()"
   ]
  },
  {
   "cell_type": "code",
   "execution_count": 164,
   "metadata": {
    "collapsed": false
   },
   "outputs": [
    {
     "name": "stdout",
     "output_type": "stream",
     "text": [
      "0.17715787887573242\n"
     ]
    },
    {
     "data": {
      "text/html": [
       "<div>\n",
       "<table border=\"1\" class=\"dataframe\">\n",
       "  <thead>\n",
       "    <tr style=\"text-align: right;\">\n",
       "      <th></th>\n",
       "      <th>region</th>\n",
       "      <th>agelim</th>\n",
       "      <th>agecount</th>\n",
       "    </tr>\n",
       "  </thead>\n",
       "  <tbody>\n",
       "    <tr>\n",
       "      <th>0</th>\n",
       "      <td>alsace champagne ardenne lorraine</td>\n",
       "      <td>19</td>\n",
       "      <td>1 314 940</td>\n",
       "    </tr>\n",
       "    <tr>\n",
       "      <th>1</th>\n",
       "      <td>aquitaine limousin poitou charentes</td>\n",
       "      <td>19</td>\n",
       "      <td>1 310 200</td>\n",
       "    </tr>\n",
       "    <tr>\n",
       "      <th>2</th>\n",
       "      <td>auvergne rhone alpes</td>\n",
       "      <td>19</td>\n",
       "      <td>1 946 672</td>\n",
       "    </tr>\n",
       "    <tr>\n",
       "      <th>3</th>\n",
       "      <td>bourgogne franche comte</td>\n",
       "      <td>19</td>\n",
       "      <td>658 303</td>\n",
       "    </tr>\n",
       "    <tr>\n",
       "      <th>4</th>\n",
       "      <td>bretagne</td>\n",
       "      <td>19</td>\n",
       "      <td>791 945</td>\n",
       "    </tr>\n",
       "  </tbody>\n",
       "</table>\n",
       "</div>"
      ],
      "text/plain": [
       "                                region agelim   agecount\n",
       "0    alsace champagne ardenne lorraine     19  1 314 940\n",
       "1  aquitaine limousin poitou charentes     19  1 310 200\n",
       "2                 auvergne rhone alpes     19  1 946 672\n",
       "3              bourgogne franche comte     19    658 303\n",
       "4                             bretagne     19    791 945"
      ]
     },
     "execution_count": 164,
     "metadata": {},
     "output_type": "execute_result"
    }
   ],
   "source": [
    "######################## Loading population by region and age range #################\n",
    "start = time.time()\n",
    "try:\n",
    "    dfInitPop = pd.read_csv(path+file2, sep=';', encoding='iso-8859-1', nrows=1000)\n",
    "    dfPop = dfInitPop.copy()  \n",
    "    \n",
    "    # Operations on columns\n",
    "    cols_to_delete = [name for name in dfPop.columns]\n",
    "    for col in dfPop.columns[6:]:\n",
    "        dfPop = dfPop.drop(col, axis=1)\n",
    "    \n",
    "    # Operation on rows\n",
    "    cols_pop = ['region'] + [re.findall(r'\\s(\\d+)', name)[0] for name in dfPop.ix[3][1:5]] + ['75']\n",
    "    dfPop = dfPop.drop(3, axis=0).drop(2, axis=0).drop(1, axis=0).drop(0, axis=0).drop(24, axis=0).drop(25, axis=0).drop(26, axis=0)\n",
    "    dfPop.columns = cols_pop\n",
    "    \n",
    "    # Operations continues\n",
    "    dfPop['region'] = dfPop['region'].str.lower()\n",
    "    regexCleaning = ['(ô)', '(é)', '(î)', '(-)']\n",
    "    newValues = ['o', 'e', 'i', ' ']\n",
    "    for i in range(len(regexCleaning)):\n",
    "        dfPop['region'] = dfPop['region'].str.replace(regexCleaning[i], newValues[i])\n",
    "    dfPop.reset_index().drop('index', axis=1)\n",
    "    dfPop = pd.melt(dfPop, id_vars=['region'], var_name='agelim')\n",
    "    dfPop.rename(columns = {'value':'agecount'}, inplace = True)\n",
    "except:\n",
    "    print('An error occured while importing/ cleaning data frame: Population Age QCuts')\n",
    "end = time.time()\n",
    "\n",
    "print(\"{:.0f} min {:.2f} s\".format(((end - start) // 60), ((end - start) % 60)))\n",
    "dfPop.head(5)"
   ]
  },
  {
   "cell_type": "code",
   "execution_count": 172,
   "metadata": {
    "collapsed": false
   },
   "outputs": [],
   "source": [
    "#set(dfD['spe'].values)"
   ]
  },
  {
   "cell_type": "code",
   "execution_count": 171,
   "metadata": {
    "collapsed": false
   },
   "outputs": [
    {
     "name": "stdout",
     "output_type": "stream",
     "text": [
      "2376\n"
     ]
    }
   ],
   "source": [
    "print(dfD.size)"
   ]
  },
  {
   "cell_type": "code",
   "execution_count": null,
   "metadata": {
    "collapsed": true
   },
   "outputs": [],
   "source": []
  }
 ],
 "metadata": {
  "kernelspec": {
   "display_name": "Python [Root]",
   "language": "python",
   "name": "Python [Root]"
  },
  "language_info": {
   "codemirror_mode": {
    "name": "ipython",
    "version": 3
   },
   "file_extension": ".py",
   "mimetype": "text/x-python",
   "name": "python",
   "nbconvert_exporter": "python",
   "pygments_lexer": "ipython3",
   "version": "3.5.2"
  }
 },
 "nbformat": 4,
 "nbformat_minor": 1
}
