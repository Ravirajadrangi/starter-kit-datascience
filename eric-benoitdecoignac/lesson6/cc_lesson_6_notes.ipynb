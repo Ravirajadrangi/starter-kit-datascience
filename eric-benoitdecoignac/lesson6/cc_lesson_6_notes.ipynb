{
 "cells": [
  {
   "cell_type": "markdown",
   "metadata": {},
   "source": [
    "1. Viz exploratoire \n",
    "vs. \n",
    "2. viz restitution\n",
    "\n",
    "1. Plotter : correlation, valeurs vides, distribution, etc.\n",
    "1. intégrer plots dans le workflow pour que ça n'aie pas de coût à la fin\n",
    "\n",
    "Matplotlib très puissant mais technique\n",
    "Autres outils: plotly (bien pout rvisualiser à la fin(2.)) Graphes dynamiques !!!!!!\n",
    "\n",
    "ipython notebook gallery\n",
    "\n",
    "Remarque, dans terminal il faut lancer ipython avec --matplotlib pour qu'il charge les librairies \n",
    "\n",
    "Serie.plot()\n",
    "afficher les quartiles : boîte à moustache\n",
    "types de plots: scatters, linecharts, scattermatrix (correlations relatives des variables, ouf!!), bar, barh, \n",
    "subplot/ add_subplot puis 122 par ex pour dire ou placer les figures\n"
   ]
  },
  {
   "cell_type": "code",
   "execution_count": null,
   "metadata": {
    "collapsed": true
   },
   "outputs": [],
   "source": []
  }
 ],
 "metadata": {
  "anaconda-cloud": {},
  "kernelspec": {
   "display_name": "Python [Root]",
   "language": "python",
   "name": "Python [Root]"
  },
  "language_info": {
   "codemirror_mode": {
    "name": "ipython",
    "version": 3
   },
   "file_extension": ".py",
   "mimetype": "text/x-python",
   "name": "python",
   "nbconvert_exporter": "python",
   "pygments_lexer": "ipython3",
   "version": "3.5.2"
  }
 },
 "nbformat": 4,
 "nbformat_minor": 1
}
