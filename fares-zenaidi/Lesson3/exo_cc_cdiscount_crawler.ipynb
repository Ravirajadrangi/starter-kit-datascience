{
 "cells": [
  {
   "cell_type": "code",
   "execution_count": 30,
   "metadata": {
    "collapsed": false
   },
   "outputs": [
    {
     "name": "stdout",
     "output_type": "stream",
     "text": [
      "*********************DELL*************************\n",
      "\t\tAverage discount: 21.5%\n",
      "\n",
      "*********************ACER*************************\n",
      "\t\tAverage discount: 24.99%\n"
     ]
    }
   ],
   "source": [
    "from bs4 import BeautifulSoup\n",
    "import requests\n",
    "import pandas as pd\n",
    "import numpy as np \n",
    "\n",
    "# Variable\n",
    "url = 'http://www.cdiscount.com/search/10/{}+ordinateur+portable.html?&page={}#_his_'\n",
    "types = ['DELL', 'ACER']\n",
    "old_price = []\n",
    "new_price = []\n",
    "brand =  []\n",
    "discount = []\n",
    "dic = {'brand': brand, 'old_price': old_price, 'new_price': new_price, 'discount': discount}\n",
    "average_discount = {'dell': 0, 'acer': 0}\n",
    "nb_pages = 2\n",
    "\n",
    "for t in types:\n",
    "    for page in range(1, nb_pages):\n",
    "         response = requests.get(url.format(t, str(page)))\n",
    "         soup = BeautifulSoup(response.text, 'html.parser')\n",
    "         devices = soup.select(\"#lpBloc > li\")\n",
    "         for device in devices:\n",
    "            if device.select(\".prdtPrSt\") != [] and device.select(\".prdtPrSt\")[0].text != '':\n",
    "                brand.append(t)\n",
    "                old_price.append(float(device.select(\".prdtPrSt\")[0].text.replace(',', '.')))\n",
    "                new_price.append(float(device.select(\".price\")[0].text.replace('€', '.').replace(' ', ''))) \n",
    "                discount.append(float(((old_price[-1] - new_price[-1]) / old_price[-1]) * 100))\n",
    "    \n",
    "df = pd.DataFrame(dic)\n",
    "df.to_csv('cdiscount_dell_acer.csv')\n",
    "print('*********************{}*************************'.format('DELL'))\n",
    "print('\\t\\tAverage discount: ' + str(round(np.mean(df[df['brand'] == 'DELL']['discount']), 2)) + '%')\n",
    "print()\n",
    "print('*********************{}*************************'.format('ACER'))\n",
    "print('\\t\\tAverage discount: ' + str(round(np.mean(df[df['brand'] == 'ACER']['discount']), 2)) + '%')"
   ]
  },
  {
   "cell_type": "code",
   "execution_count": null,
   "metadata": {
    "collapsed": true
   },
   "outputs": [],
   "source": []
  },
  {
   "cell_type": "code",
   "execution_count": null,
   "metadata": {
    "collapsed": true
   },
   "outputs": [],
   "source": []
  }
 ],
 "metadata": {
  "anaconda-cloud": {},
  "kernelspec": {
   "display_name": "Python [conda root]",
   "language": "python",
   "name": "conda-root-py"
  },
  "language_info": {
   "codemirror_mode": {
    "name": "ipython",
    "version": 3
   },
   "file_extension": ".py",
   "mimetype": "text/x-python",
   "name": "python",
   "nbconvert_exporter": "python",
   "pygments_lexer": "ipython3",
   "version": "3.5.2"
  }
 },
 "nbformat": 4,
 "nbformat_minor": 1
}
