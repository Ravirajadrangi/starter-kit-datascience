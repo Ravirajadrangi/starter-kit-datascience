{
 "cells": [
  {
   "cell_type": "code",
   "execution_count": null,
   "metadata": {
    "collapsed": true
   },
   "outputs": [],
   "source": [
    "import urllib.request as req\n",
    "from bs4 import BeautifulSoup\n",
    "import operator\n",
    "\n",
    "# Position des cellules \"Euros par habitant\" qui nous intéressent\n",
    "position_abcd = {\n",
    "    \"A\": 1,\n",
    "    \"B\": 20,\n",
    "    \"C\": 53,\n",
    "    \"D\": 77\n",
    "}\n",
    "\n",
    "\n",
    "def get_soup(year):\n",
    "    url = \"http://alize2.finances.gouv.fr/communes/eneuro/detail.php?icom=118&dep=014&type=BPS&param=5&exercice=\" + str(\n",
    "            year)\n",
    "    html = req.urlopen(url).read()\n",
    "    soup = BeautifulSoup(html, \"html.parser\")\n",
    "    return soup\n",
    "\n",
    "\n",
    "def get_values_abcd(soup):\n",
    "    values_abcd = {}\n",
    "\n",
    "    for key, value in position_abcd.items():\n",
    "        values_abcd[\"Euros par habitant pour \" + key] = soup.select(\"tr.bleu > td.montantpetit\")[value].text.replace(\n",
    "            u'\\xa0', '')\n",
    "        values_abcd[\"Moyenne de la strate pour \" + key] = soup.select(\"tr.bleu > td.montantpetit\")[\n",
    "            value + 1].text.replace(\n",
    "                u'\\xa0', '')\n",
    "\n",
    "    return sorted(values_abcd.items(), key=operator.itemgetter(0))\n",
    "\n",
    "\n",
    "def display_result(period):\n",
    "    for year in range(period[0], period[1] + 1):\n",
    "        print(\"\\nVoici les résultat de l'année : \" + str(year))\n",
    "        print(\"-------------------------------------\")\n",
    "        results = get_values_abcd(get_soup(year))\n",
    "        for result in results:\n",
    "            print(result[0] + \" : \" + result[1])\n",
    "\n",
    "\n",
    "def main():\n",
    "    display_result([2009, 2013])\n",
    "\n",
    "\n",
    "if __name__ == '__main__':\n",
    "    main()"
   ]
  }
 ],
 "metadata": {
  "kernelspec": {
   "display_name": "Python [conda root]",
   "language": "python",
   "name": "conda-root-py"
  },
  "language_info": {
   "codemirror_mode": {
    "name": "ipython",
    "version": 2
   },
   "file_extension": ".py",
   "mimetype": "text/x-python",
   "name": "python",
   "nbconvert_exporter": "python",
   "pygments_lexer": "ipython2",
   "version": "2.7.12"
  }
 },
 "nbformat": 4,
 "nbformat_minor": 1
}
