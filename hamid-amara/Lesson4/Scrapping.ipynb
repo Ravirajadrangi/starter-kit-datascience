{
 "cells": [
  {
   "cell_type": "code",
   "execution_count": null,
   "metadata": {
    "collapsed": true
   },
   "outputs": [],
   "source": [
    "import requests\n",
    "from bs4 import BeautifulSoup\n",
    "\n",
    "url = \"\"\n",
    "\n",
    "r = requests.get(url)\n",
    "\n",
    "soup = BeautifulSoup(r.content)\n",
    "\n",
    "links = soup.find_all(\"a\")\n",
    "\n",
    "for link in links:\n",
    "    if \"http\" in links:\n",
    "        print (\"<a href='%s'>%s</a>\"%(link.get(\"href\"), link.text))\n",
    "\n",
    "g_data = soup.find_all(\"div\",{\"class\":\"info\"})\n",
    "\n",
    "for item in g_data:\n",
    "    #print item.contents # Separate the child element form the parent class (list of list)\n",
    "    #print item.contents[0].text\n",
    "    print item.contents[0].find_all({\"a\", \"class\":\"business-name\"})[0].text\n",
    "    print item.contents[1].find_all(\"li\",{\"class\": \"adr\"})[1].text\n",
    "    \n"
   ]
  }
 ],
 "metadata": {
  "kernelspec": {
   "display_name": "Python [conda root]",
   "language": "python",
   "name": "conda-root-py"
  },
  "language_info": {
   "codemirror_mode": {
    "name": "ipython",
    "version": 2
   },
   "file_extension": ".py",
   "mimetype": "text/x-python",
   "name": "python",
   "nbconvert_exporter": "python",
   "pygments_lexer": "ipython2",
   "version": "2.7.12"
  }
 },
 "nbformat": 4,
 "nbformat_minor": 1
}
