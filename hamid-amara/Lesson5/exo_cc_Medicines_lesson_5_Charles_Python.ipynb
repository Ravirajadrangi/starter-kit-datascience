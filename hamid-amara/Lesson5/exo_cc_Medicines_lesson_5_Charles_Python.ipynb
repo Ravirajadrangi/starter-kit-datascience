{
 "cells": [
  {
   "cell_type": "code",
   "execution_count": null,
   "metadata": {
    "collapsed": true
   },
   "outputs": [],
   "source": [
    "# MEDICAMENTS\n",
    "# Levothyroxine\n",
    "import requests\n",
    "from bs4 import BeautifulSoup\n",
    "import pandas as pd\n",
    "import re\n",
    "import unicodedata\n",
    "import os\n",
    "\n",
    "\n",
    "URL = \"http://base-donnees-publique.medicaments.gouv.fr/index.php\"\n",
    "DROGNAME = \"Levothyroxine\"\n",
    "PATH = os.path.dirname(os.path.realpath(__file__))\n",
    "\n",
    "\n",
    "def extractData(drog):\n",
    "    pattern = r'(\\w+)\\s(\\w+)\\s(\\d{2,})\\s.+,\\s(.+\\s.+)\\t'\n",
    "    regex_name = re.compile(pattern)\n",
    "    return regex_name.findall(drog)[0]\n",
    "\n",
    "\n",
    "def getDrog(drog):\n",
    "    return extractData(drog.text)\n",
    "\n",
    "\n",
    "def getDrogsList(url, drog):\n",
    "    payload = {'page': 1, 'affliste': 0, 'affNumero': 0, 'isAlphabet': 0,\n",
    "               'inClauseSubst': 0, 'nomSubstances': None, 'typeRecherche': 0,\n",
    "               'choixRecherche': 'medicament', 'paginationUsed': 0,\n",
    "               'txtCaracteres': drog, 'radLibelle': 1,\n",
    "               'txtCaracteresSub': None, 'radLibelleSub': 4}\n",
    "    res = requests.post(url, data=payload)\n",
    "    print(url)\n",
    "    return BeautifulSoup(res.text, \"html.parser\").find(\n",
    "        class_=\"result\").find_all(class_=\"standart\")\n",
    "\n",
    "drog_list = map(getDrog, getDrogsList(URL, DROGNAME))\n",
    "df = pd.DataFrame.from_records(drog_list,\n",
    "                               columns=['name', 'factory', 'quantity', 'type'])\n",
    "df.to_csv(PATH + \"/\" + DROGNAME + \".csv\")"
   ]
  }
 ],
 "metadata": {
  "kernelspec": {
   "display_name": "Python [conda root]",
   "language": "python",
   "name": "conda-root-py"
  },
  "language_info": {
   "codemirror_mode": {
    "name": "ipython",
    "version": 2
   },
   "file_extension": ".py",
   "mimetype": "text/x-python",
   "name": "python",
   "nbconvert_exporter": "python",
   "pygments_lexer": "ipython2",
   "version": "2.7.12"
  }
 },
 "nbformat": 4,
 "nbformat_minor": 1
}
