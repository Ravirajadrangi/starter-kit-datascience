{
 "cells": [
  {
   "cell_type": "code",
   "execution_count": null,
   "metadata": {
    "collapsed": true
   },
   "outputs": [],
   "source": [
    "import requests\n",
    "from bs4 import BeautifulSoup\n",
    "\n",
    "site = 'http://www.cdiscount.com/search/10/ordinateur+<brand>.html'\n",
    "\n",
    "Params = {\n",
    "    'page': 1\n",
    "}\n",
    "\n",
    "# Affiche la page de résultats de la recherche pour la marque et le numéro de page spécifiés;\n",
    "# retourne le contenu de la page trouvée\n",
    "def recherche_page(brand, page):\n",
    "    url = site.replace('<brand>', brand)\n",
    "    Params['page'] = page\n",
    "    return requests.get(url, Params)\n",
    "\n",
    "\n",
    "# Récupère la liste des prix de vente au détail recommandés et des prix réduits pour les ordinateurs de la marque.\n",
    "\n",
    "def liste(brand, discounts_only=False, page=1):\n",
    "    data = recherche_page(brand, page)\n",
    "    results = []\n",
    "    parser = BeautifulSoup(data.text, 'html.parser')\n",
    "    for node in parser.find_all(class_=\"prdtBZPrice\"):\n",
    "        price_node = node.find(class_=\"prdtPrice\")\n",
    "        if price_node:\n",
    "            price_node = price_node.find(class_=\"price\")\n",
    "            try:\n",
    "                discounted_price = extract_price(price_node)\n",
    "                discount_node = node.find(class_=\"prdtPrSt\")\n",
    "                recommended_price = discounted_price\n",
    "                try:\n",
    "                    if discount_node:\n",
    "                        recommended_price = extract_price(discount_node)\n",
    "                    elif discounts_only:\n",
    "                        continue\n",
    "                except ValueError:\n",
    "                    pass\n",
    "                results.append([discounted_price, recommended_price])\n",
    "            except ValueError:\n",
    "                pass\n",
    "    return results\n",
    "\n",
    "# Extrait les prix\n",
    "def extract_price(node):\n",
    "    return float(node.text.replace(u'\\xa0', '').replace(u' ', '').replace(u'€', '.').replace(u',', u'.'))\n",
    "\n",
    "# Récupère la liste des prix recommandés et des prix réduits pour les ordinateurs de la marque spécifiée.\n",
    "def cdiscount(brand, discounts_only=False, pages=10):\n",
    "    results = []\n",
    "    for page in range(1, pages + 1):\n",
    "        results.extend(liste(brand, discounts_only=discounts_only, page=page))\n",
    "    return results\n",
    "\n",
    "def test(pages):\n",
    "    reduct_dell = cdiscount('dell', discounts_only=True, pages=pages)\n",
    "    reduct_acer = cdiscount('acer', discounts_only=True, pages=pages)\n",
    "    moyenne_discounts_dell = 1 - sum(map(lambda v: v[0], discounts_dell)) / sum(map(lambda v: v[1], reduct_dell))\n",
    "    moyenne_discounts_acer = 1 - (sum(map(lambda v: v[0], discounts_acer)) / sum(map(lambda v: v[1], reduct_acer)))\n",
    "    print(\"Average discounts for Dell from the %d first pages: %f\" % (pages, moyenne_discounts_dell))\n",
    "    print(\"Average discounts for Acer from the %d first pages: %f\" % (pages, moyenne_discounts_acer))\n",
    "\n",
    "test(3)\n",
    "\n"
   ]
  }
 ],
 "metadata": {
  "kernelspec": {
   "display_name": "Python [Root]",
   "language": "python",
   "name": "Python [Root]"
  },
  "language_info": {
   "codemirror_mode": {
    "name": "ipython",
    "version": 3
   },
   "file_extension": ".py",
   "mimetype": "text/x-python",
   "name": "python",
   "nbconvert_exporter": "python",
   "pygments_lexer": "ipython3",
   "version": "3.5.2"
  }
 },
 "nbformat": 4,
 "nbformat_minor": 0
}
