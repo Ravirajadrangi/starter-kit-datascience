{
 "cells": [
  {
   "cell_type": "code",
   "execution_count": null,
   "metadata": {
    "collapsed": true
   },
   "outputs": [],
   "source": [
    "from bs4 import BeautifulSoup\n",
    "from pprint import pprint\n",
    "import re, requests\n",
    "\n",
    "url = 'http://base-donnees-publique.medicaments.gouv.fr/index.php'\n",
    "post_data = {\n",
    "    'choixRecherche':'medicament',\n",
    "    'txtCaracteres':'IBUPROFENE',\n",
    "    'action': 'show'\n",
    "}\n",
    "\n",
    "ids = []\n",
    "for i in range(1, 5):\n",
    "    post_data['page'] = i\n",
    "    resp = requests.post(url, data=post_data).text\n",
    "    soup = BeautifulSoup(resp, 'html.parser')\n",
    "    print(soup.text)\n",
    "    reg_id = re.compile('ibuprofene ([\\w ]+) (\\d+) ?([\\w%]+), ([\\w ]+)', re.IGNORECASE)\n",
    "    ids.extend(reg_id.findall(soup.text))\n",
    "pprint(ids)\n",
    "open('out.txt', 'w+').write('\\n'.join([str(k) for k in ids]))"
   ]
  }
 ],
 "metadata": {
  "kernelspec": {
   "display_name": "Python [Root]",
   "language": "python",
   "name": "Python [Root]"
  },
  "language_info": {
   "codemirror_mode": {
    "name": "ipython",
    "version": 3
   },
   "file_extension": ".py",
   "mimetype": "text/x-python",
   "name": "python",
   "nbconvert_exporter": "python",
   "pygments_lexer": "ipython3",
   "version": "3.5.2"
  }
 },
 "nbformat": 4,
 "nbformat_minor": 0
}
