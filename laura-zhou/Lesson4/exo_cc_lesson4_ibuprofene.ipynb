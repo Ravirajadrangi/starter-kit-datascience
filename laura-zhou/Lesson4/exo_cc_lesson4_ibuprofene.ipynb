{
 "cells": [
  {
   "cell_type": "code",
   "execution_count": 89,
   "metadata": {
    "collapsed": false,
    "scrolled": true
   },
   "outputs": [
    {
     "name": "stdout",
     "output_type": "stream",
     "text": [
      "<Response [200]>\n"
     ]
    }
   ],
   "source": [
    "import urllib.request\n",
    "from bs4 import BeautifulSoup \n",
    "import requests\n",
    "import json \n",
    "import re\n",
    "import pandas as pd\n",
    "\n",
    "##info\n",
    "##http://stackoverflow.com/questions/11322430/python-how-to-send-post-request\n",
    "\n",
    "#adress => en-tete de la requete > referer > @\n",
    "url = \"http://base-donnees-publique.medicaments.gouv.fr/index.php\"  \n",
    "\n",
    "#get the parameters after input>> reseau > parametre > copy the dictionnary\n",
    "data_post ={'page':\"1\", 'affliste' :\"0\", 'affNumero' :\"0\",'affNumero' :\"0\",'isAlphabet' :\"0\",'inClauseSubst' :\"0\",'nomSubstances' :\"\",'typeRecherche' :\"0\",'choixRecherche' :\"medicament\",'paginationUsed' :\"0\",'txtCaracteres' :\"ibuprofene\",'btnMedic.x' :\"0\",'btnMedic.y' :\"0\",'radLibelle' :\"2\",'txtCaracteresSub' :\"\",'radLibelleSub' :\"4\"}\n",
    "\n",
    "r = requests.post(url, data_post )\n",
    "print(r)\n",
    "\n",
    "#make soup soup = BeautifulSoup(r,\"html.parser\")\n",
    "#res=soup.find_all(\"td\", class_=\"alignleft\") test=  soup.find_all('caption')\n",
    "\n",
    "#<td class=\"alignleft\" \n",
    "  \n",
    "#nb_medicament =\n",
    "#molecule,nom du medoc, unite de dosage, forme secable, laboratoire.. dans un dataframe"
   ]
  },
  {
   "cell_type": "code",
   "execution_count": 6,
   "metadata": {
    "collapsed": false
   },
   "outputs": [
    {
     "name": "stdout",
     "output_type": "stream",
     "text": [
      "200 OK\n"
     ]
    }
   ],
   "source": [
    "print(r.status_code, r.reason)"
   ]
  },
  {
   "cell_type": "code",
   "execution_count": 48,
   "metadata": {
    "collapsed": false
   },
   "outputs": [
    {
     "data": {
      "text/plain": [
       "[<a class=\"standart\" href=\"extrait.php?specid=61349237\" title=\"Cliquez pour accéder à la fiche info et à la liste des documents de référence du médicament :  IBUPROFENE ACTAVIS 400 mg, comprimé pelliculé\">IBUPROFENE ACTAVIS 400 mg, comprimé pelliculé\t\t\t\t</a>,\n",
       " <a class=\"standart\" href=\"extrait.php?specid=61478851\" title=\"Cliquez pour accéder à la fiche info et à la liste des documents de référence du médicament :  IBUPROFENE ALMUS 200 mg, comprimé pelliculé\">IBUPROFENE ALMUS 200 mg, comprimé pelliculé\t\t\t\t</a>,\n",
       " <a class=\"standart\" href=\"extrait.php?specid=62611169\" title=\"Cliquez pour accéder à la fiche info et à la liste des documents de référence du médicament :  IBUPROFENE ALMUS 400 mg, comprimé pelliculé\">IBUPROFENE ALMUS 400 mg, comprimé pelliculé\t\t\t\t</a>,\n",
       " <a class=\"standart\" href=\"extrait.php?specid=61249824\" title=\"Cliquez pour accéder à la fiche info et à la liste des documents de référence du médicament :  IBUPROFENE ARROW 200 mg, comprimé enrobé\">IBUPROFENE ARROW 200 mg, comprimé enrobé\t\t\t\t</a>,\n",
       " <a class=\"standart\" href=\"extrait.php?specid=67539962\" title=\"Cliquez pour accéder à la fiche info et à la liste des documents de référence du médicament :  IBUPROFENE ARROW 400 mg, comprimé pelliculé\">IBUPROFENE ARROW 400 mg, comprimé pelliculé\t\t\t\t</a>,\n",
       " <a class=\"standart\" href=\"extrait.php?specid=63691015\" title=\"Cliquez pour accéder à la fiche info et à la liste des documents de référence du médicament :  IBUPROFENE ARROW 5 %, gel\">IBUPROFENE ARROW 5 %, gel\t\t\t\t</a>,\n",
       " <a class=\"standart\" href=\"extrait.php?specid=61848560\" title=\"Cliquez pour accéder à la fiche info et à la liste des documents de référence du médicament :  IBUPROFENE ARROW CONSEIL 400 mg, comprimé pelliculé\">IBUPROFENE ARROW CONSEIL 400 mg, comprimé pelliculé\t\t\t\t</a>,\n",
       " <a class=\"standart\" href=\"extrait.php?specid=68337369\" title=\"Cliquez pour accéder à la fiche info et à la liste des documents de référence du médicament :  IBUPROFENE BIOGARAN 200 mg, comprimé pelliculé\">IBUPROFENE BIOGARAN 200 mg, comprimé pelliculé\t\t\t\t</a>,\n",
       " <a class=\"standart\" href=\"extrait.php?specid=61000075\" title=\"Cliquez pour accéder à la fiche info et à la liste des documents de référence du médicament :  IBUPROFENE BIOGARAN 400 mg, comprimé pelliculé\">IBUPROFENE BIOGARAN 400 mg, comprimé pelliculé\t\t\t\t</a>,\n",
       " <a class=\"standart\" href=\"extrait.php?specid=61788736\" title=\"Cliquez pour accéder à la fiche info et à la liste des documents de référence du médicament :  IBUPROFENE BIOGARAN CONSEIL 200 mg, comprimé pelliculé\">IBUPROFENE BIOGARAN CONSEIL 200 mg, comprimé pelliculé\t\t\t\t</a>,\n",
       " <a class=\"standart\" href=\"extrait.php?specid=60073914\" title=\"Cliquez pour accéder à la fiche info et à la liste des documents de référence du médicament :  IBUPROFENE BIOGARAN CONSEIL 400 mg, comprimé pelliculé\">IBUPROFENE BIOGARAN CONSEIL 400 mg, comprimé pelliculé\t\t\t\t</a>,\n",
       " <a class=\"standart\" href=\"extrait.php?specid=60569860\" title=\"Cliquez pour accéder à la fiche info et à la liste des documents de référence du médicament :  IBUPROFENE CHEMINEAU 5%, solution pour application cutanée\">IBUPROFENE CHEMINEAU 5%, solution pour application cutanée\t\t\t\t</a>,\n",
       " <a class=\"standart\" href=\"extrait.php?specid=64000632\" title=\"Cliquez pour accéder à la fiche info et à la liste des documents de référence du médicament :  IBUPROFENE CHEMINEAU 5%, solution pour application cutanée en flacon pressurisé\">IBUPROFENE CHEMINEAU 5%, solution pour application cutanée en flacon pressurisé\t\t\t\t</a>,\n",
       " <a class=\"standart\" href=\"extrait.php?specid=66605797\" title=\"Cliquez pour accéder à la fiche info et à la liste des documents de référence du médicament :  IBUPROFENE CRISTERS 200 mg, comprimé enrobé\">IBUPROFENE CRISTERS 200 mg, comprimé enrobé\t\t\t\t</a>,\n",
       " <a class=\"standart\" href=\"extrait.php?specid=61394816\" title=\"Cliquez pour accéder à la fiche info et à la liste des documents de référence du médicament :  IBUPROFENE CRISTERS 200 mg, comprimé pelliculé\">IBUPROFENE CRISTERS 200 mg, comprimé pelliculé\t\t\t\t</a>,\n",
       " <a class=\"standart\" href=\"extrait.php?specid=61893438\" title=\"Cliquez pour accéder à la fiche info et à la liste des documents de référence du médicament :  IBUPROFENE CRISTERS 400 mg, comprimé pelliculé\">IBUPROFENE CRISTERS 400 mg, comprimé pelliculé\t\t\t\t</a>,\n",
       " <a class=\"standart\" href=\"extrait.php?specid=61415420\" title=\"Cliquez pour accéder à la fiche info et à la liste des documents de référence du médicament :  IBUPROFENE DU SAINT BERNARD 5 %, gel pour application locale\">IBUPROFENE DU SAINT BERNARD 5 %, gel pour application locale\t\t\t\t</a>,\n",
       " <a class=\"standart\" href=\"extrait.php?specid=67913552\" title=\"Cliquez pour accéder à la fiche info et à la liste des documents de référence du médicament :  IBUPROFENE EG 200 mg, comprimé pelliculé\">IBUPROFENE EG 200 mg, comprimé pelliculé\t\t\t\t</a>,\n",
       " <a class=\"standart\" href=\"extrait.php?specid=60550988\" title=\"Cliquez pour accéder à la fiche info et à la liste des documents de référence du médicament :  IBUPROFENE EG 400 mg, comprimé pelliculé\">IBUPROFENE EG 400 mg, comprimé pelliculé\t\t\t\t</a>,\n",
       " <a class=\"standart\" href=\"extrait.php?specid=68774041\" title=\"Cliquez pour accéder à la fiche info et à la liste des documents de référence du médicament :  IBUPROFENE EVOLUGEN 400 mg, comprimé pelliculé\">IBUPROFENE EVOLUGEN 400 mg, comprimé pelliculé\t\t\t\t</a>,\n",
       " <a class=\"standart\" href=\"javascript:nextpage(2,'');\" onmouseover=\"self.status='';return true\" title=\"Page 2\">2</a>,\n",
       " <a class=\"standart\" href=\"javascript:nextpage(3,'');\" onmouseover=\"self.status='';return true\" title=\"Page 3\">3</a>]"
      ]
     },
     "execution_count": 48,
     "metadata": {},
     "output_type": "execute_result"
    }
   ],
   "source": [
    "r.text #donne la nouvelle page avec la nouvelle url mais en moche\n",
    "type(r.text ) #str\n",
    "res=BeautifulSoup(r.text, \"lxml\") #tansform into beautiful\n",
    "res_medoc =res.find_all(\"a\",class_=\"standart\") #les nom des medoc mais il reste  page 2 et page 3\n",
    "res_medoc[0]#get one line of the drugs\n",
    "str(res_medoc[0]) #cast to str\n",
    "len(res_medoc)# size  \n",
    "res_medoc"
   ]
  },
  {
   "cell_type": "code",
   "execution_count": 41,
   "metadata": {
    "collapsed": false
   },
   "outputs": [],
   "source": [
    "medoc=re.search('IBUPROFENE ([A-Z ]+) (\\d+) ?([\\w%]+),([ \\w]+)', str(res_medoc[1]))"
   ]
  },
  {
   "cell_type": "code",
   "execution_count": 85,
   "metadata": {
    "collapsed": false
   },
   "outputs": [
    {
     "name": "stdout",
     "output_type": "stream",
     "text": [
      "IBUPROFENE ACTAVIS 400 mg, comprimé pelliculé\n",
      "IBUPROFENE ALMUS 200 mg, comprimé pelliculé\n",
      "IBUPROFENE ALMUS 400 mg, comprimé pelliculé\n",
      "IBUPROFENE ARROW 200 mg, comprimé enrobé\n",
      "IBUPROFENE ARROW 400 mg, comprimé pelliculé\n",
      "IBUPROFENE ARROW 5 %, gel\n",
      "IBUPROFENE ARROW CONSEIL 400 mg, comprimé pelliculé\n",
      "IBUPROFENE BIOGARAN 200 mg, comprimé pelliculé\n",
      "IBUPROFENE BIOGARAN 400 mg, comprimé pelliculé\n",
      "IBUPROFENE BIOGARAN CONSEIL 200 mg, comprimé pelliculé\n",
      "IBUPROFENE BIOGARAN CONSEIL 400 mg, comprimé pelliculé\n",
      "IBUPROFENE CHEMINEAU 5%, solution pour application cutanée\n",
      "IBUPROFENE CHEMINEAU 5%, solution pour application cutanée en flacon pressurisé\n",
      "IBUPROFENE CRISTERS 200 mg, comprimé enrobé\n",
      "IBUPROFENE CRISTERS 200 mg, comprimé pelliculé\n",
      "IBUPROFENE CRISTERS 400 mg, comprimé pelliculé\n",
      "IBUPROFENE DU SAINT BERNARD 5 %, gel pour application locale\n",
      "IBUPROFENE EG 200 mg, comprimé pelliculé\n",
      "IBUPROFENE EG 400 mg, comprimé pelliculé\n",
      "IBUPROFENE EVOLUGEN 400 mg, comprimé pelliculé\n"
     ]
    }
   ],
   "source": [
    "for i in range(20):\n",
    "    print(re.search('IBUPROFENE ([A-Z ]+) (\\d+) ?([\\w%]+),([ \\w]+)', str(res_medoc[i])).group(0)) "
   ]
  },
  {
   "cell_type": "code",
   "execution_count": 115,
   "metadata": {
    "collapsed": false
   },
   "outputs": [],
   "source": [
    "L=[]\n",
    "# d = {'col1': ts1, 'col2': ts2}\n",
    "for i in range(20):\n",
    "    tmp=re.search('IBUPROFENE ([A-Z ]+) (\\d+) ?([\\w%]+),([ \\w]+)', str(res_medoc[i])).group(0)\n",
    "    len = tmp.find(\" \")\n",
    "    mol=tmp[:len]\n",
    "    nom =re.search( ' ([A-Z ]+)',tmp).group(0)\n",
    "    qte=re.search( '(\\d+) ?([\\w%]+)',tmp).group(0)\n",
    "    type=re.search( ',([ \\w]+)',tmp).group(0)[1:]\n",
    "    l = {'nom molecule': mol, 'nom': nom,\"quantité\":qte,\"type\":type}\n",
    "    L.append(l)"
   ]
  },
  {
   "cell_type": "code",
   "execution_count": 116,
   "metadata": {
    "collapsed": false
   },
   "outputs": [
    {
     "data": {
      "text/html": [
       "<div>\n",
       "<table border=\"1\" class=\"dataframe\">\n",
       "  <thead>\n",
       "    <tr style=\"text-align: right;\">\n",
       "      <th></th>\n",
       "      <th>nom</th>\n",
       "      <th>nom molecule</th>\n",
       "      <th>quantité</th>\n",
       "      <th>type</th>\n",
       "    </tr>\n",
       "  </thead>\n",
       "  <tbody>\n",
       "    <tr>\n",
       "      <th>0</th>\n",
       "      <td>ACTAVIS</td>\n",
       "      <td>IBUPROFENE</td>\n",
       "      <td>400 mg</td>\n",
       "      <td>comprimé pelliculé</td>\n",
       "    </tr>\n",
       "    <tr>\n",
       "      <th>1</th>\n",
       "      <td>ALMUS</td>\n",
       "      <td>IBUPROFENE</td>\n",
       "      <td>200 mg</td>\n",
       "      <td>comprimé pelliculé</td>\n",
       "    </tr>\n",
       "    <tr>\n",
       "      <th>2</th>\n",
       "      <td>ALMUS</td>\n",
       "      <td>IBUPROFENE</td>\n",
       "      <td>400 mg</td>\n",
       "      <td>comprimé pelliculé</td>\n",
       "    </tr>\n",
       "    <tr>\n",
       "      <th>3</th>\n",
       "      <td>ARROW</td>\n",
       "      <td>IBUPROFENE</td>\n",
       "      <td>200 mg</td>\n",
       "      <td>comprimé enrobé</td>\n",
       "    </tr>\n",
       "    <tr>\n",
       "      <th>4</th>\n",
       "      <td>ARROW</td>\n",
       "      <td>IBUPROFENE</td>\n",
       "      <td>400 mg</td>\n",
       "      <td>comprimé pelliculé</td>\n",
       "    </tr>\n",
       "    <tr>\n",
       "      <th>5</th>\n",
       "      <td>ARROW</td>\n",
       "      <td>IBUPROFENE</td>\n",
       "      <td>5 %</td>\n",
       "      <td>gel</td>\n",
       "    </tr>\n",
       "    <tr>\n",
       "      <th>6</th>\n",
       "      <td>ARROW CONSEIL</td>\n",
       "      <td>IBUPROFENE</td>\n",
       "      <td>400 mg</td>\n",
       "      <td>comprimé pelliculé</td>\n",
       "    </tr>\n",
       "    <tr>\n",
       "      <th>7</th>\n",
       "      <td>BIOGARAN</td>\n",
       "      <td>IBUPROFENE</td>\n",
       "      <td>200 mg</td>\n",
       "      <td>comprimé pelliculé</td>\n",
       "    </tr>\n",
       "    <tr>\n",
       "      <th>8</th>\n",
       "      <td>BIOGARAN</td>\n",
       "      <td>IBUPROFENE</td>\n",
       "      <td>400 mg</td>\n",
       "      <td>comprimé pelliculé</td>\n",
       "    </tr>\n",
       "    <tr>\n",
       "      <th>9</th>\n",
       "      <td>BIOGARAN CONSEIL</td>\n",
       "      <td>IBUPROFENE</td>\n",
       "      <td>200 mg</td>\n",
       "      <td>comprimé pelliculé</td>\n",
       "    </tr>\n",
       "    <tr>\n",
       "      <th>10</th>\n",
       "      <td>BIOGARAN CONSEIL</td>\n",
       "      <td>IBUPROFENE</td>\n",
       "      <td>400 mg</td>\n",
       "      <td>comprimé pelliculé</td>\n",
       "    </tr>\n",
       "    <tr>\n",
       "      <th>11</th>\n",
       "      <td>CHEMINEAU</td>\n",
       "      <td>IBUPROFENE</td>\n",
       "      <td>5%</td>\n",
       "      <td>solution pour application cutanée</td>\n",
       "    </tr>\n",
       "    <tr>\n",
       "      <th>12</th>\n",
       "      <td>CHEMINEAU</td>\n",
       "      <td>IBUPROFENE</td>\n",
       "      <td>5%</td>\n",
       "      <td>solution pour application cutanée en flacon p...</td>\n",
       "    </tr>\n",
       "    <tr>\n",
       "      <th>13</th>\n",
       "      <td>CRISTERS</td>\n",
       "      <td>IBUPROFENE</td>\n",
       "      <td>200 mg</td>\n",
       "      <td>comprimé enrobé</td>\n",
       "    </tr>\n",
       "    <tr>\n",
       "      <th>14</th>\n",
       "      <td>CRISTERS</td>\n",
       "      <td>IBUPROFENE</td>\n",
       "      <td>200 mg</td>\n",
       "      <td>comprimé pelliculé</td>\n",
       "    </tr>\n",
       "    <tr>\n",
       "      <th>15</th>\n",
       "      <td>CRISTERS</td>\n",
       "      <td>IBUPROFENE</td>\n",
       "      <td>400 mg</td>\n",
       "      <td>comprimé pelliculé</td>\n",
       "    </tr>\n",
       "    <tr>\n",
       "      <th>16</th>\n",
       "      <td>DU SAINT BERNARD</td>\n",
       "      <td>IBUPROFENE</td>\n",
       "      <td>5 %</td>\n",
       "      <td>gel pour application locale</td>\n",
       "    </tr>\n",
       "    <tr>\n",
       "      <th>17</th>\n",
       "      <td>EG</td>\n",
       "      <td>IBUPROFENE</td>\n",
       "      <td>200 mg</td>\n",
       "      <td>comprimé pelliculé</td>\n",
       "    </tr>\n",
       "    <tr>\n",
       "      <th>18</th>\n",
       "      <td>EG</td>\n",
       "      <td>IBUPROFENE</td>\n",
       "      <td>400 mg</td>\n",
       "      <td>comprimé pelliculé</td>\n",
       "    </tr>\n",
       "    <tr>\n",
       "      <th>19</th>\n",
       "      <td>EVOLUGEN</td>\n",
       "      <td>IBUPROFENE</td>\n",
       "      <td>400 mg</td>\n",
       "      <td>comprimé pelliculé</td>\n",
       "    </tr>\n",
       "  </tbody>\n",
       "</table>\n",
       "</div>"
      ],
      "text/plain": [
       "                   nom nom molecule quantité  \\\n",
       "0             ACTAVIS    IBUPROFENE   400 mg   \n",
       "1               ALMUS    IBUPROFENE   200 mg   \n",
       "2               ALMUS    IBUPROFENE   400 mg   \n",
       "3               ARROW    IBUPROFENE   200 mg   \n",
       "4               ARROW    IBUPROFENE   400 mg   \n",
       "5               ARROW    IBUPROFENE      5 %   \n",
       "6       ARROW CONSEIL    IBUPROFENE   400 mg   \n",
       "7            BIOGARAN    IBUPROFENE   200 mg   \n",
       "8            BIOGARAN    IBUPROFENE   400 mg   \n",
       "9    BIOGARAN CONSEIL    IBUPROFENE   200 mg   \n",
       "10   BIOGARAN CONSEIL    IBUPROFENE   400 mg   \n",
       "11          CHEMINEAU    IBUPROFENE       5%   \n",
       "12          CHEMINEAU    IBUPROFENE       5%   \n",
       "13           CRISTERS    IBUPROFENE   200 mg   \n",
       "14           CRISTERS    IBUPROFENE   200 mg   \n",
       "15           CRISTERS    IBUPROFENE   400 mg   \n",
       "16   DU SAINT BERNARD    IBUPROFENE      5 %   \n",
       "17                 EG    IBUPROFENE   200 mg   \n",
       "18                 EG    IBUPROFENE   400 mg   \n",
       "19           EVOLUGEN    IBUPROFENE   400 mg   \n",
       "\n",
       "                                                 type  \n",
       "0                                  comprimé pelliculé  \n",
       "1                                  comprimé pelliculé  \n",
       "2                                  comprimé pelliculé  \n",
       "3                                     comprimé enrobé  \n",
       "4                                  comprimé pelliculé  \n",
       "5                                                 gel  \n",
       "6                                  comprimé pelliculé  \n",
       "7                                  comprimé pelliculé  \n",
       "8                                  comprimé pelliculé  \n",
       "9                                  comprimé pelliculé  \n",
       "10                                 comprimé pelliculé  \n",
       "11                  solution pour application cutanée  \n",
       "12   solution pour application cutanée en flacon p...  \n",
       "13                                    comprimé enrobé  \n",
       "14                                 comprimé pelliculé  \n",
       "15                                 comprimé pelliculé  \n",
       "16                        gel pour application locale  \n",
       "17                                 comprimé pelliculé  \n",
       "18                                 comprimé pelliculé  \n",
       "19                                 comprimé pelliculé  "
      ]
     },
     "execution_count": 116,
     "metadata": {},
     "output_type": "execute_result"
    }
   ],
   "source": [
    "df=pd.DataFrame(L)\n",
    "df"
   ]
  },
  {
   "cell_type": "code",
   "execution_count": 59,
   "metadata": {
    "collapsed": false
   },
   "outputs": [
    {
     "data": {
      "text/plain": [
       "str"
      ]
     },
     "execution_count": 59,
     "metadata": {},
     "output_type": "execute_result"
    }
   ],
   "source": [
    "#re.search( '(\\d+)',tmp.group(0))\n",
    "type(tmp.group(0))"
   ]
  },
  {
   "cell_type": "code",
   "execution_count": 114,
   "metadata": {
    "collapsed": false
   },
   "outputs": [
    {
     "data": {
      "text/plain": [
       "<_sre.SRE_Match object; span=(14, 20), match='200 mg'>"
      ]
     },
     "execution_count": 114,
     "metadata": {},
     "output_type": "execute_result"
    }
   ],
   "source": [
    "re.search( '(\\d+) ?([\\w%]+)','IBUPROFENE EG 200 mg, comprimé pelliculé')"
   ]
  },
  {
   "cell_type": "code",
   "execution_count": 102,
   "metadata": {
    "collapsed": false
   },
   "outputs": [
    {
     "data": {
      "text/plain": [
       "<_sre.SRE_Match object; span=(10, 21), match=' CHEMINEAU '>"
      ]
     },
     "execution_count": 102,
     "metadata": {},
     "output_type": "execute_result"
    }
   ],
   "source": [
    "re.search( ' ([A-Z ]+)','IBUPROFENE CHEMINEAU 5%, solution pour application cutanée')"
   ]
  },
  {
   "cell_type": "code",
   "execution_count": 103,
   "metadata": {
    "collapsed": false
   },
   "outputs": [
    {
     "data": {
      "text/plain": [
       "<_sre.SRE_Match object; span=(23, 58), match=', solution pour application cutanée'>"
      ]
     },
     "execution_count": 103,
     "metadata": {},
     "output_type": "execute_result"
    }
   ],
   "source": [
    "re.search( ',([ \\w]+)','IBUPROFENE CHEMINEAU 5%, solution pour application cutanée')"
   ]
  },
  {
   "cell_type": "code",
   "execution_count": 65,
   "metadata": {
    "collapsed": false
   },
   "outputs": [
    {
     "data": {
      "text/plain": [
       "10"
      ]
     },
     "execution_count": 65,
     "metadata": {},
     "output_type": "execute_result"
    }
   ],
   "source": [
    "tmp.group(0).find(\" \")"
   ]
  },
  {
   "cell_type": "code",
   "execution_count": 66,
   "metadata": {
    "collapsed": false
   },
   "outputs": [
    {
     "data": {
      "text/plain": [
       "'IBUPROFENE'"
      ]
     },
     "execution_count": 66,
     "metadata": {},
     "output_type": "execute_result"
    }
   ],
   "source": [
    "tmp.group(0)[:10]"
   ]
  }
 ],
 "metadata": {
  "anaconda-cloud": {},
  "kernelspec": {
   "display_name": "Python [Root]",
   "language": "python",
   "name": "Python [Root]"
  },
  "language_info": {
   "codemirror_mode": {
    "name": "ipython",
    "version": 3
   },
   "file_extension": ".py",
   "mimetype": "text/x-python",
   "name": "python",
   "nbconvert_exporter": "python",
   "pygments_lexer": "ipython3",
   "version": "3.5.2"
  }
 },
 "nbformat": 4,
 "nbformat_minor": 0
}
