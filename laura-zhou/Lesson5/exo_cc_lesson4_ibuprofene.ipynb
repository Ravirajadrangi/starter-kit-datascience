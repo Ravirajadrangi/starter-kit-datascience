{
 "cells": [
  {
   "cell_type": "code",
   "execution_count": 209,
   "metadata": {
    "collapsed": false,
    "scrolled": true
   },
   "outputs": [
    {
     "name": "stdout",
     "output_type": "stream",
     "text": [
      "<Response [200]>\n"
     ]
    }
   ],
   "source": [
    "import urllib.request\n",
    "from bs4 import BeautifulSoup \n",
    "import requests\n",
    "import json \n",
    "import re\n",
    "import pandas as pd\n",
    "\n",
    "##info\n",
    "##http://stackoverflow.com/questions/11322430/python-how-to-send-post-request\n",
    "\n",
    "#adress => en-tete de la requete > referer > @\n",
    "url = \"http://base-donnees-publique.medicaments.gouv.fr/index.php\"  \n",
    "\n",
    "# get the inspect element in the search bar \n",
    "# recharge\n",
    "# look for \"ibuprofène\"\n",
    "# you will see a POST request\n",
    "# parameters after input>> reseau > parametre > copy the dictionnary\n",
    "data_post1 ={'page':\"1\", 'affliste' :\"0\", 'affNumero' :\"0\",'affNumero' :\"0\",'isAlphabet' :\"0\",'inClauseSubst' :\"0\",'nomSubstances' :\"\",'typeRecherche' :\"0\",'choixRecherche' :\"medicament\",'paginationUsed' :\"0\",'txtCaracteres' :\"ibuprofene\",'btnMedic.x' :\"0\",'btnMedic.y' :\"0\",'radLibelle' :\"2\",'txtCaracteresSub' :\"\",'radLibelleSub' :\"4\"}\n",
    "# on peut prendre que les valeurs non nulles\n",
    "data_post3={'page':\"3\",'choixRecherche' :\"medicament\", 'txtCaracteres' :\"ibuprofene\",'radLibelle' :\"2\",'radLibelleSub' :\"4\"}\n",
    "data_post2={'page':\"2\",'choixRecherche' :\"medicament\", 'txtCaracteres' :\"ibuprofene\",'radLibelle' :\"2\",'radLibelleSub' :\"4\"}\n",
    "\n",
    "r = requests.post(url, data_post1 )\n",
    "print(r)\n",
    "\n",
    "#make soup soup = BeautifulSoup(r,\"html.parser\")\n",
    "#res=soup.find_all(\"td\", class_=\"alignleft\") test=  soup.find_all('caption')\n",
    "\n",
    "#<td class=\"alignleft\" \n",
    "  \n",
    "#nb_medicament =\n",
    "#molecule,nom du medoc, unite de dosage, forme secable, laboratoire.. dans un dataframe "
   ]
  },
  {
   "cell_type": "code",
   "execution_count": 220,
   "metadata": {
    "collapsed": false
   },
   "outputs": [
    {
     "name": "stdout",
     "output_type": "stream",
     "text": [
      "200 OK\n"
     ]
    }
   ],
   "source": [
    "print(r.status_code, r.reason)"
   ]
  },
  {
   "cell_type": "code",
   "execution_count": 213,
   "metadata": {
    "collapsed": false
   },
   "outputs": [
    {
     "data": {
      "text/plain": [
       "'<a class=\"standart\" href=\"extrait.php?specid=61349237\" title=\"Cliquez pour accéder à la fiche info et à la liste des documents de référence du médicament :  IBUPROFENE ACTAVIS 400 mg, comprimé pelliculé\">IBUPROFENE ACTAVIS 400 mg, comprimé pelliculé\\t\\t\\t\\t</a>'"
      ]
     },
     "execution_count": 213,
     "metadata": {},
     "output_type": "execute_result"
    }
   ],
   "source": [
    "r.text #donne la nouvelle page avec la nouvelle url mais en moche\n",
    "# type(r.text ) #str\n",
    "res=BeautifulSoup(r.text, \"lxml\") #tansform into beautiful\n",
    "res_medoc =res.find_all(\"a\",class_=\"standart\") #les nom des medoc mais il reste  page 2 et page 3\n",
    "res_medoc[0]#get one line of the drugs\n",
    "str(res_medoc[0]) #cast to str\n",
    "# print(type(res_medoc) )# size  \n",
    "# res_medoc[5].text\n",
    "# res_medoc"
   ]
  },
  {
   "cell_type": "code",
   "execution_count": 214,
   "metadata": {
    "collapsed": false
   },
   "outputs": [
    {
     "name": "stdout",
     "output_type": "stream",
     "text": [
      "IBUPROFENE ACTAVIS 400 mg, comprimé pelliculé\t\t\t\t\n",
      "IBUPROFENE ALMUS 200 mg, comprimé pelliculé\t\t\t\t\n",
      "IBUPROFENE ALMUS 400 mg, comprimé pelliculé\t\t\t\t\n",
      "IBUPROFENE ARROW 200 mg, comprimé enrobé\t\t\t\t\n",
      "IBUPROFENE ARROW 400 mg, comprimé pelliculé\t\t\t\t\n",
      "IBUPROFENE ARROW 5 %, gel\t\t\t\t\n",
      "IBUPROFENE ARROW CONSEIL 400 mg, comprimé pelliculé\t\t\t\t\n",
      "IBUPROFENE BIOGARAN 200 mg, comprimé pelliculé\t\t\t\t\n",
      "IBUPROFENE BIOGARAN 400 mg, comprimé pelliculé\t\t\t\t\n",
      "IBUPROFENE BIOGARAN CONSEIL 200 mg, comprimé pelliculé\t\t\t\t\n",
      "IBUPROFENE BIOGARAN CONSEIL 400 mg, comprimé pelliculé\t\t\t\t\n",
      "IBUPROFENE CHEMINEAU 5%, solution pour application cutanée\t\t\t\t\n",
      "IBUPROFENE CHEMINEAU 5%, solution pour application cutanée en flacon pressurisé\t\t\t\t\n",
      "IBUPROFENE CRISTERS 200 mg, comprimé enrobé\t\t\t\t\n",
      "IBUPROFENE CRISTERS 200 mg, comprimé pelliculé\t\t\t\t\n",
      "IBUPROFENE CRISTERS 400 mg, comprimé pelliculé\t\t\t\t\n",
      "IBUPROFENE DU SAINT BERNARD 5 %, gel pour application locale\t\t\t\t\n",
      "IBUPROFENE EG 200 mg, comprimé pelliculé\t\t\t\t\n",
      "IBUPROFENE EG 400 mg, comprimé pelliculé\t\t\t\t\n",
      "IBUPROFENE EVOLUGEN 400 mg, comprimé pelliculé\t\t\t\t\n"
     ]
    }
   ],
   "source": [
    "for i in range(20):\n",
    "    try :\n",
    "        print(res_medoc[i].text)\n",
    "    except IndexError: \n",
    "        print(\"\")"
   ]
  },
  {
   "cell_type": "code",
   "execution_count": 215,
   "metadata": {
    "collapsed": false,
    "scrolled": true
   },
   "outputs": [
    {
     "data": {
      "text/plain": [
       "'IBUPROFENE ACTAVIS 400 mg, comprimé pelliculé'"
      ]
     },
     "execution_count": 215,
     "metadata": {},
     "output_type": "execute_result"
    }
   ],
   "source": [
    "medoc=re.search('IBUPROFENE ([A-Z ]+) (\\d+) ?([\\w%]+),([ \\w]+)', str(res_medoc[0]))\n",
    "medoc.group(0)"
   ]
  },
  {
   "cell_type": "code",
   "execution_count": 216,
   "metadata": {
    "collapsed": false
   },
   "outputs": [
    {
     "name": "stdout",
     "output_type": "stream",
     "text": [
      "IBUPROFENE ACTAVIS 400 mg, comprimé pelliculé\n",
      "IBUPROFENE ALMUS 200 mg, comprimé pelliculé\n",
      "IBUPROFENE ALMUS 400 mg, comprimé pelliculé\n",
      "IBUPROFENE ARROW 200 mg, comprimé enrobé\n",
      "IBUPROFENE ARROW 400 mg, comprimé pelliculé\n",
      "IBUPROFENE ARROW 5 %, gel\n",
      "IBUPROFENE ARROW CONSEIL 400 mg, comprimé pelliculé\n",
      "IBUPROFENE BIOGARAN 200 mg, comprimé pelliculé\n",
      "IBUPROFENE BIOGARAN 400 mg, comprimé pelliculé\n",
      "IBUPROFENE BIOGARAN CONSEIL 200 mg, comprimé pelliculé\n",
      "IBUPROFENE BIOGARAN CONSEIL 400 mg, comprimé pelliculé\n",
      "IBUPROFENE CHEMINEAU 5%, solution pour application cutanée\n",
      "IBUPROFENE CHEMINEAU 5%, solution pour application cutanée en flacon pressurisé\n",
      "IBUPROFENE CRISTERS 200 mg, comprimé enrobé\n",
      "IBUPROFENE CRISTERS 200 mg, comprimé pelliculé\n",
      "IBUPROFENE CRISTERS 400 mg, comprimé pelliculé\n",
      "IBUPROFENE DU SAINT BERNARD 5 %, gel pour application locale\n",
      "IBUPROFENE EG 200 mg, comprimé pelliculé\n",
      "IBUPROFENE EG 400 mg, comprimé pelliculé\n",
      "IBUPROFENE EVOLUGEN 400 mg, comprimé pelliculé\n"
     ]
    }
   ],
   "source": [
    "for i in range(20): \n",
    "    try :\n",
    "        final =re.search('IBUPROFENE ([A-Z ]+) (\\d+) ?([\\w%\\/]+),([ \\w]+)', res_medoc[i].text).group(0)  \n",
    "        print(final)\n",
    "    except IndexError: \n",
    "        print(\"\")"
   ]
  },
  {
   "cell_type": "code",
   "execution_count": 217,
   "metadata": {
    "collapsed": true
   },
   "outputs": [],
   "source": [
    "# page 1+ 3\n",
    "L=[]\n",
    "# d = {'col1': ts1, 'col2': ts2}\n",
    "for i in range(20):\n",
    "    tmp=re.search('IBUPROFENE ([A-Z ]+) (\\d+) ?([\\w%]+),([ \\w]+)', str(res_medoc[i])).group(0)\n",
    "    len = tmp.find(\" \")\n",
    "    mol=tmp[:len]\n",
    "    nom =re.search( ' ([A-Z ]+)',tmp).group(0)\n",
    "    qte=re.search( '(\\d+) ?([\\w%]+)',tmp).group(0)\n",
    "    type=re.search( ',([ \\w]+)',tmp).group(0)[1:]\n",
    "    l = {'nom molecule': mol, 'nom': nom,\"quantité\":qte,\"type\":type}\n",
    "    L.append(l)"
   ]
  },
  {
   "cell_type": "code",
   "execution_count": 143,
   "metadata": {
    "collapsed": false
   },
   "outputs": [],
   "source": [
    "# page 2\n",
    "L=[]\n",
    "# d = {'col1': ts1, 'col2': ts2}\n",
    "for i in range(20):\n",
    "    try:\n",
    "        tmp=re.search('IBUPROFENE ([A-Z ]+) (\\d+) ?([\\w%\\/]+).+,([ \\w]+)',res_medoc[i].text).group(0)\n",
    "        len = tmp.find(\" \")\n",
    "        mol=tmp[:len]\n",
    "        nom =re.search( ' ([A-Z ]+)',tmp).group(0)\n",
    "        qte=re.search( '(\\d+) ?([\\w%\\/]+).+',tmp).group(0)\n",
    "        type=re.search( ',([ \\w]+)',tmp).group(0)[1:]\n",
    "        l = {'nom molecule': mol, 'nom': nom,\"quantité\":qte,\"type\":type}\n",
    "    except AttributeError:\n",
    "        tmp=(re.search('IBUPROFENE ([A-Z ]+) (\\d+) ?([\\w%\\/]+) ([ \\w]+)', res_medoc[i].text).group(0) )\n",
    "        len = tmp.find(\" \")\n",
    "        mol=tmp[:len]\n",
    "        nom =re.search( ' ([A-Z ]+)',tmp).group(0)\n",
    "        qte=re.search( '(\\d+) ?([\\w%\\/]+)',tmp).group(0)\n",
    "        type=re.search( '([%]) ([ \\w]+)',tmp).group(0)[1:]\n",
    "        l = {'nom molecule': mol, 'nom': nom,\"quantité\":qte,\"type\":type}\n",
    "    L.append(l)"
   ]
  },
  {
   "cell_type": "code",
   "execution_count": 144,
   "metadata": {
    "collapsed": false
   },
   "outputs": [
    {
     "data": {
      "text/html": [
       "<div>\n",
       "<table border=\"1\" class=\"dataframe\">\n",
       "  <thead>\n",
       "    <tr style=\"text-align: right;\">\n",
       "      <th></th>\n",
       "      <th>nom</th>\n",
       "      <th>nom molecule</th>\n",
       "      <th>quantité</th>\n",
       "      <th>type</th>\n",
       "    </tr>\n",
       "  </thead>\n",
       "  <tbody>\n",
       "    <tr>\n",
       "      <th>0</th>\n",
       "      <td>ISOMED</td>\n",
       "      <td>IBUPROFENE</td>\n",
       "      <td>200 mg, comprimé enrobé</td>\n",
       "      <td>comprimé enrobé</td>\n",
       "    </tr>\n",
       "    <tr>\n",
       "      <th>1</th>\n",
       "      <td>MYLAN</td>\n",
       "      <td>IBUPROFENE</td>\n",
       "      <td>20 mg/ml ENFANTS ET NOURRISSONS sans sucre, su...</td>\n",
       "      <td>suspension buvable édulcorée au maltitol et à...</td>\n",
       "    </tr>\n",
       "    <tr>\n",
       "      <th>2</th>\n",
       "      <td>MYLAN</td>\n",
       "      <td>IBUPROFENE</td>\n",
       "      <td>200 mg, comprimé enrobé</td>\n",
       "      <td>comprimé enrobé</td>\n",
       "    </tr>\n",
       "    <tr>\n",
       "      <th>3</th>\n",
       "      <td>MYLAN</td>\n",
       "      <td>IBUPROFENE</td>\n",
       "      <td>400 mg, comprimé effervescent</td>\n",
       "      <td>comprimé effervescent</td>\n",
       "    </tr>\n",
       "    <tr>\n",
       "      <th>4</th>\n",
       "      <td>MYLAN</td>\n",
       "      <td>IBUPROFENE</td>\n",
       "      <td>400 mg, comprimé pelliculé</td>\n",
       "      <td>comprimé pelliculé</td>\n",
       "    </tr>\n",
       "    <tr>\n",
       "      <th>5</th>\n",
       "      <td>MYLAN</td>\n",
       "      <td>IBUPROFENE</td>\n",
       "      <td>5 %</td>\n",
       "      <td>Solution pour pulvérisation cutanée</td>\n",
       "    </tr>\n",
       "    <tr>\n",
       "      <th>6</th>\n",
       "      <td>MYLAN CONSEIL</td>\n",
       "      <td>IBUPROFENE</td>\n",
       "      <td>400 mg, comprimé pelliculé</td>\n",
       "      <td>comprimé pelliculé</td>\n",
       "    </tr>\n",
       "    <tr>\n",
       "      <th>7</th>\n",
       "      <td>NEPENTHES</td>\n",
       "      <td>IBUPROFENE</td>\n",
       "      <td>200 mg, comprimé pelliculé</td>\n",
       "      <td>comprimé pelliculé</td>\n",
       "    </tr>\n",
       "    <tr>\n",
       "      <th>8</th>\n",
       "      <td>NEPENTHES</td>\n",
       "      <td>IBUPROFENE</td>\n",
       "      <td>400 mg, comprimé pelliculé</td>\n",
       "      <td>comprimé pelliculé</td>\n",
       "    </tr>\n",
       "    <tr>\n",
       "      <th>9</th>\n",
       "      <td>PHR LAB</td>\n",
       "      <td>IBUPROFENE</td>\n",
       "      <td>400 mg, comprimé pelliculé</td>\n",
       "      <td>comprimé pelliculé</td>\n",
       "    </tr>\n",
       "    <tr>\n",
       "      <th>10</th>\n",
       "      <td>QUALIMED</td>\n",
       "      <td>IBUPROFENE</td>\n",
       "      <td>200 mg, comprimé enrobé</td>\n",
       "      <td>comprimé enrobé</td>\n",
       "    </tr>\n",
       "    <tr>\n",
       "      <th>11</th>\n",
       "      <td>RANBAXY MEDICATION OFFICINALE</td>\n",
       "      <td>IBUPROFENE</td>\n",
       "      <td>200 mg, comprimé pelliculé</td>\n",
       "      <td>comprimé pelliculé</td>\n",
       "    </tr>\n",
       "    <tr>\n",
       "      <th>12</th>\n",
       "      <td>RANBAXY MEDICATION OFFICINALE</td>\n",
       "      <td>IBUPROFENE</td>\n",
       "      <td>400 mg, comprimé pelliculé</td>\n",
       "      <td>comprimé pelliculé</td>\n",
       "    </tr>\n",
       "    <tr>\n",
       "      <th>13</th>\n",
       "      <td>RATIOPHARM</td>\n",
       "      <td>IBUPROFENE</td>\n",
       "      <td>200 mg, comprimé enrobé</td>\n",
       "      <td>comprimé enrobé</td>\n",
       "    </tr>\n",
       "    <tr>\n",
       "      <th>14</th>\n",
       "      <td>RATIOPHARM CONSEIL</td>\n",
       "      <td>IBUPROFENE</td>\n",
       "      <td>200 mg, comprimé enrobé</td>\n",
       "      <td>comprimé enrobé</td>\n",
       "    </tr>\n",
       "    <tr>\n",
       "      <th>15</th>\n",
       "      <td>RPG</td>\n",
       "      <td>IBUPROFENE</td>\n",
       "      <td>400 mg, comprimé pelliculé</td>\n",
       "      <td>comprimé pelliculé</td>\n",
       "    </tr>\n",
       "    <tr>\n",
       "      <th>16</th>\n",
       "      <td>SANDOZ</td>\n",
       "      <td>IBUPROFENE</td>\n",
       "      <td>200 mg, comprimé enrobé</td>\n",
       "      <td>comprimé enrobé</td>\n",
       "    </tr>\n",
       "    <tr>\n",
       "      <th>17</th>\n",
       "      <td>SANDOZ</td>\n",
       "      <td>IBUPROFENE</td>\n",
       "      <td>400 mg, comprimé enrobé</td>\n",
       "      <td>comprimé enrobé</td>\n",
       "    </tr>\n",
       "    <tr>\n",
       "      <th>18</th>\n",
       "      <td>SANDOZ</td>\n",
       "      <td>IBUPROFENE</td>\n",
       "      <td>400 mg, comprimé pelliculé</td>\n",
       "      <td>comprimé pelliculé</td>\n",
       "    </tr>\n",
       "    <tr>\n",
       "      <th>19</th>\n",
       "      <td>SANDOZ CONSEIL</td>\n",
       "      <td>IBUPROFENE</td>\n",
       "      <td>200 mg, comprimé enrobé</td>\n",
       "      <td>comprimé enrobé</td>\n",
       "    </tr>\n",
       "  </tbody>\n",
       "</table>\n",
       "</div>"
      ],
      "text/plain": [
       "                                nom nom molecule  \\\n",
       "0                           ISOMED    IBUPROFENE   \n",
       "1                            MYLAN    IBUPROFENE   \n",
       "2                            MYLAN    IBUPROFENE   \n",
       "3                            MYLAN    IBUPROFENE   \n",
       "4                            MYLAN    IBUPROFENE   \n",
       "5                            MYLAN    IBUPROFENE   \n",
       "6                    MYLAN CONSEIL    IBUPROFENE   \n",
       "7                        NEPENTHES    IBUPROFENE   \n",
       "8                        NEPENTHES    IBUPROFENE   \n",
       "9                          PHR LAB    IBUPROFENE   \n",
       "10                        QUALIMED    IBUPROFENE   \n",
       "11   RANBAXY MEDICATION OFFICINALE    IBUPROFENE   \n",
       "12   RANBAXY MEDICATION OFFICINALE    IBUPROFENE   \n",
       "13                      RATIOPHARM    IBUPROFENE   \n",
       "14              RATIOPHARM CONSEIL    IBUPROFENE   \n",
       "15                             RPG    IBUPROFENE   \n",
       "16                          SANDOZ    IBUPROFENE   \n",
       "17                          SANDOZ    IBUPROFENE   \n",
       "18                          SANDOZ    IBUPROFENE   \n",
       "19                  SANDOZ CONSEIL    IBUPROFENE   \n",
       "\n",
       "                                             quantité  \\\n",
       "0                             200 mg, comprimé enrobé   \n",
       "1   20 mg/ml ENFANTS ET NOURRISSONS sans sucre, su...   \n",
       "2                             200 mg, comprimé enrobé   \n",
       "3                       400 mg, comprimé effervescent   \n",
       "4                          400 mg, comprimé pelliculé   \n",
       "5                                                 5 %   \n",
       "6                          400 mg, comprimé pelliculé   \n",
       "7                          200 mg, comprimé pelliculé   \n",
       "8                          400 mg, comprimé pelliculé   \n",
       "9                          400 mg, comprimé pelliculé   \n",
       "10                            200 mg, comprimé enrobé   \n",
       "11                         200 mg, comprimé pelliculé   \n",
       "12                         400 mg, comprimé pelliculé   \n",
       "13                            200 mg, comprimé enrobé   \n",
       "14                            200 mg, comprimé enrobé   \n",
       "15                         400 mg, comprimé pelliculé   \n",
       "16                            200 mg, comprimé enrobé   \n",
       "17                            400 mg, comprimé enrobé   \n",
       "18                         400 mg, comprimé pelliculé   \n",
       "19                            200 mg, comprimé enrobé   \n",
       "\n",
       "                                                 type  \n",
       "0                                     comprimé enrobé  \n",
       "1    suspension buvable édulcorée au maltitol et à...  \n",
       "2                                     comprimé enrobé  \n",
       "3                               comprimé effervescent  \n",
       "4                                  comprimé pelliculé  \n",
       "5                 Solution pour pulvérisation cutanée  \n",
       "6                                  comprimé pelliculé  \n",
       "7                                  comprimé pelliculé  \n",
       "8                                  comprimé pelliculé  \n",
       "9                                  comprimé pelliculé  \n",
       "10                                    comprimé enrobé  \n",
       "11                                 comprimé pelliculé  \n",
       "12                                 comprimé pelliculé  \n",
       "13                                    comprimé enrobé  \n",
       "14                                    comprimé enrobé  \n",
       "15                                 comprimé pelliculé  \n",
       "16                                    comprimé enrobé  \n",
       "17                                    comprimé enrobé  \n",
       "18                                 comprimé pelliculé  \n",
       "19                                    comprimé enrobé  "
      ]
     },
     "execution_count": 144,
     "metadata": {},
     "output_type": "execute_result"
    }
   ],
   "source": [
    "df=pd.DataFrame(L)\n",
    "df"
   ]
  },
  {
   "cell_type": "code",
   "execution_count": 59,
   "metadata": {
    "collapsed": false
   },
   "outputs": [
    {
     "data": {
      "text/plain": [
       "str"
      ]
     },
     "execution_count": 59,
     "metadata": {},
     "output_type": "execute_result"
    }
   ],
   "source": [
    "#re.search( '(\\d+)',tmp.group(0))\n",
    "type(tmp.group(0))"
   ]
  },
  {
   "cell_type": "code",
   "execution_count": 114,
   "metadata": {
    "collapsed": false
   },
   "outputs": [
    {
     "data": {
      "text/plain": [
       "<_sre.SRE_Match object; span=(14, 20), match='200 mg'>"
      ]
     },
     "execution_count": 114,
     "metadata": {},
     "output_type": "execute_result"
    }
   ],
   "source": [
    "re.search( '(\\d+) ?([\\w%]+)','IBUPROFENE EG 200 mg, comprimé pelliculé')"
   ]
  },
  {
   "cell_type": "code",
   "execution_count": 102,
   "metadata": {
    "collapsed": false
   },
   "outputs": [
    {
     "data": {
      "text/plain": [
       "<_sre.SRE_Match object; span=(10, 21), match=' CHEMINEAU '>"
      ]
     },
     "execution_count": 102,
     "metadata": {},
     "output_type": "execute_result"
    }
   ],
   "source": [
    "re.search( ' ([A-Z ]+)','IBUPROFENE CHEMINEAU 5%, solution pour application cutanée')"
   ]
  },
  {
   "cell_type": "code",
   "execution_count": 103,
   "metadata": {
    "collapsed": false
   },
   "outputs": [
    {
     "data": {
      "text/plain": [
       "<_sre.SRE_Match object; span=(23, 58), match=', solution pour application cutanée'>"
      ]
     },
     "execution_count": 103,
     "metadata": {},
     "output_type": "execute_result"
    }
   ],
   "source": [
    "re.search( ',([ \\w]+)','IBUPROFENE CHEMINEAU 5%, solution pour application cutanée')"
   ]
  },
  {
   "cell_type": "code",
   "execution_count": 65,
   "metadata": {
    "collapsed": false
   },
   "outputs": [
    {
     "data": {
      "text/plain": [
       "10"
      ]
     },
     "execution_count": 65,
     "metadata": {},
     "output_type": "execute_result"
    }
   ],
   "source": [
    "tmp.group(0).find(\" \")"
   ]
  },
  {
   "cell_type": "code",
   "execution_count": 66,
   "metadata": {
    "collapsed": false
   },
   "outputs": [
    {
     "data": {
      "text/plain": [
       "'IBUPROFENE'"
      ]
     },
     "execution_count": 66,
     "metadata": {},
     "output_type": "execute_result"
    }
   ],
   "source": [
    "tmp.group(0)[:10]"
   ]
  },
  {
   "cell_type": "code",
   "execution_count": 19,
   "metadata": {
    "collapsed": false
   },
   "outputs": [
    {
     "name": "stdout",
     "output_type": "stream",
     "text": [
      "Page 1 / 3\n"
     ]
    }
   ],
   "source": [
    "last_page= res.find_all(\"div\", class_=\"navBarGauche\") [0].text.replace(\"\\xa0\",\"\")\n",
    "print(last_page)"
   ]
  },
  {
   "cell_type": "code",
   "execution_count": 20,
   "metadata": {
    "collapsed": false
   },
   "outputs": [
    {
     "data": {
      "text/plain": [
       "7"
      ]
     },
     "execution_count": 20,
     "metadata": {},
     "output_type": "execute_result"
    }
   ],
   "source": [
    "last_page.find('/')"
   ]
  },
  {
   "cell_type": "code",
   "execution_count": 40,
   "metadata": {
    "collapsed": false
   },
   "outputs": [],
   "source": [
    "num_last_page= int(last_page[last_page.find('/')+1:].strip())"
   ]
  },
  {
   "cell_type": "code",
   "execution_count": 41,
   "metadata": {
    "collapsed": true
   },
   "outputs": [],
   "source": [
    "list_dico=[]"
   ]
  },
  {
   "cell_type": "code",
   "execution_count": 218,
   "metadata": {
    "collapsed": true
   },
   "outputs": [],
   "source": [
    "def get_df(data_post):\n",
    "    r = requests.post(url, data_post )\n",
    "    res=BeautifulSoup(r.text, \"lxml\") #tansform into beautiful\n",
    "    res_medoc =res.find_all(\"a\",class_=\"standart\") #les nom des medoc mais il reste  page 2 et page 3\n",
    "    '''\n",
    "    res_medoc[0]#get one line of the drugs\n",
    "    str(res_medoc[0]) #cast to str\n",
    "    len(res_medoc)# size  \n",
    "    '''\n",
    "\n",
    "    L=[]\n",
    "    # d = {'col1': ts1, 'col2': ts2}\n",
    "    for i in range(20):\n",
    "        tmp=re.search('IBUPROFENE ([A-Z ]+) (\\d+) ?([\\w%]+),([ \\w]+)', str(res_medoc[i])).group(0)\n",
    "        len = tmp.find(\" \")\n",
    "        mol=tmp[:len]\n",
    "        nom =re.search( ' ([A-Z ]+)',tmp).group(0)\n",
    "        qte=re.search( '(\\d+) ?([\\w%]+)',tmp).group(0)\n",
    "        type=re.search( ',([ \\w]+)',tmp).group(0)[1:]\n",
    "        l = {'nom molecule': mol, 'nom': nom,\"quantité\":qte,\"type\":type}\n",
    "        L.append(l)\n",
    "\n",
    "    #pour page 1\n",
    "    df=pd.DataFrame(L)\n",
    "    return df"
   ]
  },
  {
   "cell_type": "code",
   "execution_count": 221,
   "metadata": {
    "collapsed": false
   },
   "outputs": [],
   "source": [
    "df1= get_df(data_post1)\n"
   ]
  },
  {
   "cell_type": "code",
   "execution_count": null,
   "metadata": {
    "collapsed": true
   },
   "outputs": [],
   "source": []
  }
 ],
 "metadata": {
  "anaconda-cloud": {},
  "kernelspec": {
   "display_name": "Python [conda root]",
   "language": "python",
   "name": "conda-root-py"
  },
  "language_info": {
   "codemirror_mode": {
    "name": "ipython",
    "version": 3
   },
   "file_extension": ".py",
   "mimetype": "text/x-python",
   "name": "python",
   "nbconvert_exporter": "python",
   "pygments_lexer": "ipython3",
   "version": "3.5.2"
  }
 },
 "nbformat": 4,
 "nbformat_minor": 0
}
