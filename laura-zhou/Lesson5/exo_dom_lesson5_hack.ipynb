{
 "cells": [
  {
   "cell_type": "code",
   "execution_count": 8,
   "metadata": {
    "collapsed": false
   },
   "outputs": [],
   "source": [
    "import requests\n",
    "import urllib\n",
    "from bs4 import BeautifulSoup \n",
    "import csv \n",
    "import pandas as pd\n",
    "import numpy as np\n",
    "import matplotlib.pyplot as plt\n",
    "\n",
    "'''def\n",
    "APE = Un professionnel de santé APE est un professionnel de santé de moins de 65 ans qui a exercé une activité libérale\n",
    "normale sur une année complète, dans un cadre conventionnel.\n",
    "\n",
    "'''\n",
    "%matplotlib inline"
   ]
  },
  {
   "cell_type": "code",
   "execution_count": 11,
   "metadata": {
    "collapsed": false
   },
   "outputs": [
    {
     "name": "stdout",
     "output_type": "stream",
     "text": [
      "The number of worksheets is 8\n",
      "Worksheet name(s): ['Lisez moi', 'Nomenclature des PS', 'Spécialistes', 'Généralistes et MEP', 'Dentistes et ODF', 'Sages-femmes', 'Auxiliaires médicaux', 'Laboratoires']\n",
      "Spécialistes 1538 11\n"
     ]
    }
   ],
   "source": [
    "#variable fixes for 2015 csv\n",
    "#fichier des spécialités par régions\n",
    "#http://www.data.drees.sante.gouv.fr/TableViewer/tableView.aspx\n",
    "NomFichier = 'hack/rpps-medecins-tab10_28468983352261.csv' \n",
    "\n",
    "\n",
    "#fichier des spécialités par département\n",
    "#http://www.data.drees.sante.gouv.fr/TableViewer/tableView.aspx\n",
    "NomFichier3 = 'hack/rpps-medecins-tab7_30397381964559.csv' \n",
    "\n",
    "'''\n",
    "import csv\n",
    "File = open(NomFichier,'r')\n",
    "Reader = csv.reader(File)\n",
    "Data = list(Reader) \n",
    "\n",
    "import xlrd\n",
    "workbook = xlrd.open_workbook('my_file_name.xls')\n",
    "worksheet = workbook.sheet_by_index(0)\n",
    "'''\n",
    "\n",
    "depassement='Honoraires_des_professionnels_de_sante_APE_par_region_en_2014.xls'\n",
    "import xlrd\n",
    "book = xlrd.open_workbook(depassement)\n",
    "print(\"The number of worksheets is {0}\".format(book.nsheets))\n",
    "print(\"Worksheet name(s): {0}\".format(book.sheet_names()))\n",
    "\n",
    "#spécialiste\n",
    "sh = book.sheet_by_index(2)\n",
    "print(\"{0} {1} {2}\".format(sh.name, sh.nrows, sh.ncols))\n",
    " \n",
    "#for rx in range(sh.nrows):\n",
    "#     print(sh.row(rx))\n",
    "#    L.append(sh.row(rx))  "
   ]
  },
  {
   "cell_type": "markdown",
   "metadata": {},
   "source": [
    "# depassement d'honoraires"
   ]
  },
  {
   "cell_type": "markdown",
   "metadata": {},
   "source": [
    "Dans quelles régions y a-t-il le plus de dépassements?"
   ]
  },
  {
   "cell_type": "code",
   "execution_count": 661,
   "metadata": {
    "collapsed": false
   },
   "outputs": [
    {
     "data": {
      "text/plain": [
       "{'DEPASSEMENTS (Euros)': 941463049.0,\n",
       " 'DEPASSEMENTS /APE (Euros)': 54691.70727314976,\n",
       " 'FRAIS DE DEPLACEMENTS (Euros)': 1221394.0,\n",
       " 'FRAIS DE DEPLACEMENTS /APE (Euros)': 70.95352619960498,\n",
       " 'HONORAIRES /APE (Euros)': 222727.63181131636,\n",
       " 'HONORAIRES SANS DEPASSEMENT (Euros)': 2891349011.0,\n",
       " 'HONORAIRES SANS DEPASSEMENT /APE (Euros)': 167964.971011967,\n",
       " \"NOMBRE D'APE\": 17214.0,\n",
       " 'REGION INSEE': '11- Ile-de-France',\n",
       " 'Spécialistes': 'TOTAL MEDECINS',\n",
       " 'TOTAL DES HONORAIRES (Euros)': 3834033454.0}"
      ]
     },
     "execution_count": 661,
     "metadata": {},
     "output_type": "execute_result"
    }
   ],
   "source": [
    "from xlrd import open_workbook\n",
    "\n",
    "book = open_workbook(depassement)\n",
    "sheet = book.sheet_by_index(2)\n",
    "\n",
    "# read header values into the list    \n",
    "keys = [sheet.cell(0, col_index).value for col_index in range(sheet.ncols)]\n",
    " \n",
    "dict_list = []\n",
    "for row_index in range(1, sheet.nrows):\n",
    "    d = {keys[col_index]: sheet.cell(row_index, col_index).value \n",
    "         for col_index in range(sheet.ncols)}\n",
    "    dict_list.append(d)\n",
    "\n",
    "dict_list[1508] #exemple de ligne"
   ]
  },
  {
   "cell_type": "code",
   "execution_count": 707,
   "metadata": {
    "collapsed": false
   },
   "outputs": [
    {
     "data": {
      "text/html": [
       "<div>\n",
       "<table border=\"1\" class=\"dataframe\">\n",
       "  <thead>\n",
       "    <tr style=\"text-align: right;\">\n",
       "      <th></th>\n",
       "      <th>DEPASSEMENTS (Euros)</th>\n",
       "      <th>DEPASSEMENTS /APE (Euros)</th>\n",
       "      <th>FRAIS DE DEPLACEMENTS (Euros)</th>\n",
       "      <th>FRAIS DE DEPLACEMENTS /APE (Euros)</th>\n",
       "      <th>HONORAIRES /APE (Euros)</th>\n",
       "      <th>HONORAIRES SANS DEPASSEMENT (Euros)</th>\n",
       "      <th>HONORAIRES SANS DEPASSEMENT /APE (Euros)</th>\n",
       "      <th>NOMBRE D'APE</th>\n",
       "      <th>REGION INSEE</th>\n",
       "      <th>Spécialistes</th>\n",
       "      <th>TOTAL DES HONORAIRES (Euros)</th>\n",
       "      <th>taux de dépassement par ape</th>\n",
       "    </tr>\n",
       "  </thead>\n",
       "  <tbody>\n",
       "    <tr>\n",
       "      <th>1479</th>\n",
       "      <td>843527701.0</td>\n",
       "      <td>88923.434641</td>\n",
       "      <td>35003.0</td>\n",
       "      <td>3.689964</td>\n",
       "      <td>280379.923361</td>\n",
       "      <td>1.816121e+09</td>\n",
       "      <td>191452.798756</td>\n",
       "      <td>9486.0</td>\n",
       "      <td>11- Ile-de-France</td>\n",
       "      <td>TOTAL SPECIALISTES</td>\n",
       "      <td>2.659684e+09</td>\n",
       "      <td>31.716652</td>\n",
       "    </tr>\n",
       "    <tr>\n",
       "      <th>1496</th>\n",
       "      <td>304392522.0</td>\n",
       "      <td>71069.932757</td>\n",
       "      <td>32362.0</td>\n",
       "      <td>7.555919</td>\n",
       "      <td>294274.787532</td>\n",
       "      <td>9.559540e+08</td>\n",
       "      <td>223197.298856</td>\n",
       "      <td>4283.0</td>\n",
       "      <td>82- Rhône-Alpes</td>\n",
       "      <td>TOTAL SPECIALISTES</td>\n",
       "      <td>1.260379e+09</td>\n",
       "      <td>24.153442</td>\n",
       "    </tr>\n",
       "    <tr>\n",
       "      <th>1488</th>\n",
       "      <td>80856500.0</td>\n",
       "      <td>66275.819672</td>\n",
       "      <td>10217.0</td>\n",
       "      <td>8.374590</td>\n",
       "      <td>314584.942623</td>\n",
       "      <td>3.029269e+08</td>\n",
       "      <td>248300.748361</td>\n",
       "      <td>1220.0</td>\n",
       "      <td>42- Alsace</td>\n",
       "      <td>TOTAL SPECIALISTES</td>\n",
       "      <td>3.837936e+08</td>\n",
       "      <td>21.070365</td>\n",
       "    </tr>\n",
       "  </tbody>\n",
       "</table>\n",
       "</div>"
      ],
      "text/plain": [
       "      DEPASSEMENTS (Euros)  DEPASSEMENTS /APE (Euros)  \\\n",
       "1479           843527701.0               88923.434641   \n",
       "1496           304392522.0               71069.932757   \n",
       "1488            80856500.0               66275.819672   \n",
       "\n",
       "      FRAIS DE DEPLACEMENTS (Euros)  FRAIS DE DEPLACEMENTS /APE (Euros)  \\\n",
       "1479                        35003.0                            3.689964   \n",
       "1496                        32362.0                            7.555919   \n",
       "1488                        10217.0                            8.374590   \n",
       "\n",
       "      HONORAIRES /APE (Euros)  HONORAIRES SANS DEPASSEMENT (Euros)  \\\n",
       "1479            280379.923361                         1.816121e+09   \n",
       "1496            294274.787532                         9.559540e+08   \n",
       "1488            314584.942623                         3.029269e+08   \n",
       "\n",
       "      HONORAIRES SANS DEPASSEMENT /APE (Euros)  NOMBRE D'APE  \\\n",
       "1479                             191452.798756        9486.0   \n",
       "1496                             223197.298856        4283.0   \n",
       "1488                             248300.748361        1220.0   \n",
       "\n",
       "           REGION INSEE        Spécialistes  TOTAL DES HONORAIRES (Euros)  \\\n",
       "1479  11- Ile-de-France  TOTAL SPECIALISTES                  2.659684e+09   \n",
       "1496    82- Rhône-Alpes  TOTAL SPECIALISTES                  1.260379e+09   \n",
       "1488         42- Alsace  TOTAL SPECIALISTES                  3.837936e+08   \n",
       "\n",
       "      taux de dépassement par ape  \n",
       "1479                    31.716652  \n",
       "1496                    24.153442  \n",
       "1488                    21.070365  "
      ]
     },
     "execution_count": 707,
     "metadata": {},
     "output_type": "execute_result"
    }
   ],
   "source": [
    "#view of dataframe\n",
    "\n",
    "df =pd.DataFrame(dict_list)\n",
    "df =df.replace('nc',np.NaN) \n",
    "df['taux de dépassement par ape']=(1-df['HONORAIRES SANS DEPASSEMENT (Euros)']/df['TOTAL DES HONORAIRES (Euros)'])*100\n",
    "df['Spécialistes'].str.contains('TOTAL') #matrice de booleans sans les totales dans spécialist\n",
    "\n",
    "df_total_spe=df[df['Spécialistes'].str.contains('TOTAL SPECIALISTES')]\n",
    "df_total_spe_sorted=df_total_spe.sort_values(by='taux de dépassement par ape',ascending=False)\n",
    "df_total_spe_sorted[:3]"
   ]
  },
  {
   "cell_type": "code",
   "execution_count": 702,
   "metadata": {
    "collapsed": false
   },
   "outputs": [
    {
     "data": {
      "image/png": "[encoded data removed]",
      "text/plain": [
       "<matplotlib.figure.Figure at 0x1cae78f8080>"
      ]
     },
     "metadata": {},
     "output_type": "display_data"
    }
   ],
   "source": [
    "#########################################################################################################\n",
    "#                             plot 10 régions avec le plus de dépassement\n",
    "#########################################################################################################\n",
    "df_tmp= df_total_spe_sorted[:11]\n",
    "# x = range(len(df))\n",
    "# y = df['taux de dépassement par ape'].as_matrix()\n",
    "my_yticks = df_tmp['REGION INSEE'].as_matrix() \n",
    "# plt.yticks(x, my_xticks)\n",
    "# plt.plot( y,x)\n",
    "# plt.show() \n",
    "\n",
    "  \n",
    "ind = np.arange(len(df_tmp))\n",
    "width = 0.4\n",
    "\n",
    "fig, ax = plt.subplots()\n",
    "ax.barh(ind, df_tmp['taux de dépassement par ape'].as_matrix(), width, color='b',label='taux' ) \n",
    "\n",
    "ax.set(yticks=ind + width, yticklabels=my_yticks, ylim=[2*width - 1, len(df_tmp)])\n",
    "ax.legend()\n",
    "\n",
    "plt.show()"
   ]
  },
  {
   "cell_type": "code",
   "execution_count": 704,
   "metadata": {
    "collapsed": false
   },
   "outputs": [
    {
     "data": {
      "text/html": [
       "<div>\n",
       "<table border=\"1\" class=\"dataframe\">\n",
       "  <thead>\n",
       "    <tr style=\"text-align: right;\">\n",
       "      <th></th>\n",
       "      <th>REGION INSEE</th>\n",
       "      <th>taux de dépassement par ape</th>\n",
       "    </tr>\n",
       "  </thead>\n",
       "  <tbody>\n",
       "    <tr>\n",
       "      <th>1479</th>\n",
       "      <td>11- Ile-de-France</td>\n",
       "      <td>31.716652</td>\n",
       "    </tr>\n",
       "    <tr>\n",
       "      <th>1496</th>\n",
       "      <td>82- Rhône-Alpes</td>\n",
       "      <td>24.153442</td>\n",
       "    </tr>\n",
       "    <tr>\n",
       "      <th>1488</th>\n",
       "      <td>42- Alsace</td>\n",
       "      <td>21.070365</td>\n",
       "    </tr>\n",
       "    <tr>\n",
       "      <th>1501</th>\n",
       "      <td>TOTAL FRANCE METROPOLITAINE</td>\n",
       "      <td>17.634628</td>\n",
       "    </tr>\n",
       "    <tr>\n",
       "      <th>1485</th>\n",
       "      <td>26- Bourgogne</td>\n",
       "      <td>15.414791</td>\n",
       "    </tr>\n",
       "    <tr>\n",
       "      <th>1493</th>\n",
       "      <td>72- Aquitaine</td>\n",
       "      <td>15.400737</td>\n",
       "    </tr>\n",
       "    <tr>\n",
       "      <th>1499</th>\n",
       "      <td>93- Provence-Alpes-Côte d'Azur</td>\n",
       "      <td>14.607000</td>\n",
       "    </tr>\n",
       "    <tr>\n",
       "      <th>1480</th>\n",
       "      <td>21- Champagne-Ardenne</td>\n",
       "      <td>13.196481</td>\n",
       "    </tr>\n",
       "    <tr>\n",
       "      <th>1481</th>\n",
       "      <td>22- Picardie</td>\n",
       "      <td>12.981608</td>\n",
       "    </tr>\n",
       "    <tr>\n",
       "      <th>1503</th>\n",
       "      <td>02- Martinique</td>\n",
       "      <td>12.968002</td>\n",
       "    </tr>\n",
       "    <tr>\n",
       "      <th>1486</th>\n",
       "      <td>31- Nord-Pas-de-Calais</td>\n",
       "      <td>12.642455</td>\n",
       "    </tr>\n",
       "  </tbody>\n",
       "</table>\n",
       "</div>"
      ],
      "text/plain": [
       "                        REGION INSEE  taux de dépassement par ape\n",
       "1479               11- Ile-de-France                    31.716652\n",
       "1496                 82- Rhône-Alpes                    24.153442\n",
       "1488                      42- Alsace                    21.070365\n",
       "1501     TOTAL FRANCE METROPOLITAINE                    17.634628\n",
       "1485                   26- Bourgogne                    15.414791\n",
       "1493                   72- Aquitaine                    15.400737\n",
       "1499  93- Provence-Alpes-Côte d'Azur                    14.607000\n",
       "1480           21- Champagne-Ardenne                    13.196481\n",
       "1481                    22- Picardie                    12.981608\n",
       "1503                  02- Martinique                    12.968002\n",
       "1486          31- Nord-Pas-de-Calais                    12.642455"
      ]
     },
     "execution_count": 704,
     "metadata": {},
     "output_type": "execute_result"
    }
   ],
   "source": [
    "#df_total_medecin[['REGION INSEE','DEPASSEMENTS (Euros)','Spécialistes'] ]\n",
    "df_top_10=df_total_spe.sort_values('taux de dépassement par ape', ascending=False).nlargest(11, 'taux de dépassement par ape')\n",
    "##\n",
    "df_top_10[['REGION INSEE','taux de dépassement par ape']]"
   ]
  },
  {
   "cell_type": "markdown",
   "metadata": {},
   "source": [
    "Quelles spécialités font le plus de dépassement?"
   ]
  },
  {
   "cell_type": "code",
   "execution_count": 705,
   "metadata": {
    "collapsed": false
   },
   "outputs": [
    {
     "name": "stdout",
     "output_type": "stream",
     "text": [
      "<class 'pandas.core.groupby.DataFrameGroupBy'>\n"
     ]
    },
    {
     "data": {
      "text/html": [
       "<div>\n",
       "<table border=\"1\" class=\"dataframe\">\n",
       "  <thead>\n",
       "    <tr style=\"text-align: right;\">\n",
       "      <th></th>\n",
       "      <th>taux de dépassement par ape</th>\n",
       "    </tr>\n",
       "    <tr>\n",
       "      <th>Spécialistes</th>\n",
       "      <th></th>\n",
       "    </tr>\n",
       "  </thead>\n",
       "  <tbody>\n",
       "    <tr>\n",
       "      <th>TOTAL STOMATOLOGIE  (45, 18)</th>\n",
       "      <td>41.270925</td>\n",
       "    </tr>\n",
       "    <tr>\n",
       "      <th>TOTAL CHIRURGIE y compris 10,16,41  (43, 44, 46, 47, 48, 49, 04, 10, 16, 41)</th>\n",
       "      <td>27.579939</td>\n",
       "    </tr>\n",
       "    <tr>\n",
       "      <th>TOTAL GYNECOLOGIE  (70, 77, 79, 07)</th>\n",
       "      <td>20.492120</td>\n",
       "    </tr>\n",
       "    <tr>\n",
       "      <th>TOTAL ANESTHESIE REANIMATION  (02, 20)</th>\n",
       "      <td>13.131925</td>\n",
       "    </tr>\n",
       "    <tr>\n",
       "      <th>TOTAL SPECIALISTES</th>\n",
       "      <td>12.299390</td>\n",
       "    </tr>\n",
       "    <tr>\n",
       "      <th>TOTAL MEDECINE INTERNE  (71, 73, 09)</th>\n",
       "      <td>10.330296</td>\n",
       "    </tr>\n",
       "    <tr>\n",
       "      <th>TOTAL PSYCHIATRIE  et NEUROPSYCHIATRIE (75, 33, 17)</th>\n",
       "      <td>8.357680</td>\n",
       "    </tr>\n",
       "    <tr>\n",
       "      <th>TOTAL MEDECINS</th>\n",
       "      <td>7.827148</td>\n",
       "    </tr>\n",
       "    <tr>\n",
       "      <th>TOTAL PEDIATRIE  (78, 12)</th>\n",
       "      <td>7.717528</td>\n",
       "    </tr>\n",
       "    <tr>\n",
       "      <th>TOTAL RADIOLOGIE  (72, 74, 76, 06)</th>\n",
       "      <td>2.359934</td>\n",
       "    </tr>\n",
       "  </tbody>\n",
       "</table>\n",
       "</div>"
      ],
      "text/plain": [
       "                                                    taux de dépassement par ape\n",
       "Spécialistes                                                                   \n",
       "TOTAL STOMATOLOGIE  (45, 18)                                          41.270925\n",
       "TOTAL CHIRURGIE y compris 10,16,41  (43, 44, 46...                    27.579939\n",
       "TOTAL GYNECOLOGIE  (70, 77, 79, 07)                                   20.492120\n",
       "TOTAL ANESTHESIE REANIMATION  (02, 20)                                13.131925\n",
       "TOTAL SPECIALISTES                                                    12.299390\n",
       "TOTAL MEDECINE INTERNE  (71, 73, 09)                                  10.330296\n",
       "TOTAL PSYCHIATRIE  et NEUROPSYCHIATRIE (75, 33,...                     8.357680\n",
       "TOTAL MEDECINS                                                         7.827148\n",
       "TOTAL PEDIATRIE  (78, 12)                                              7.717528\n",
       "TOTAL RADIOLOGIE  (72, 74, 76, 06)                                     2.359934"
      ]
     },
     "execution_count": 705,
     "metadata": {},
     "output_type": "execute_result"
    }
   ],
   "source": [
    "#########################################################################################################\n",
    "#                             depassement par spécialité  vu globale\n",
    "#########################################################################################################\n",
    "#omnipraticient + spe \n",
    "#df_depassement=df_total_medecin[['DEPASSEMENTS (Euros)','REGION INSEE','Spécialistes'] ]\n",
    "\n",
    "# #juste spe\n",
    "df['Spécialistes'].str.contains('TOTAL') #matrice de booleans sans les \"TOTAL\" dans spécialistes\n",
    "\n",
    "df_spe =df[df['Spécialistes'].str.contains('TOTAL')]\n",
    "group=df_spe[['Spécialistes','taux de dépassement par ape']].groupby('Spécialistes')\n",
    "\n",
    "by_spe=[]\n",
    "print(type(group))\n",
    "#group.mean().sort_values('taux de dépassement par ape', ascending=False) \n",
    "group_mean_total_spe_depassement = group.mean().sort_values('taux de dépassement par ape', ascending=False) \n",
    "group_mean_total_spe_depassement"
   ]
  },
  {
   "cell_type": "code",
   "execution_count": 708,
   "metadata": {
    "collapsed": false
   },
   "outputs": [
    {
     "data": {
      "text/html": [
       "<div>\n",
       "<table border=\"1\" class=\"dataframe\">\n",
       "  <thead>\n",
       "    <tr style=\"text-align: right;\">\n",
       "      <th></th>\n",
       "      <th>taux de dépassement par ape</th>\n",
       "    </tr>\n",
       "    <tr>\n",
       "      <th>Spécialistes</th>\n",
       "      <th></th>\n",
       "    </tr>\n",
       "  </thead>\n",
       "  <tbody>\n",
       "    <tr>\n",
       "      <th>46- Chirurgie plastique reconstructrice et esthétique</th>\n",
       "      <td>52.514583</td>\n",
       "    </tr>\n",
       "    <tr>\n",
       "      <th>10- Neurochirurgie</th>\n",
       "      <td>44.274902</td>\n",
       "    </tr>\n",
       "    <tr>\n",
       "      <th>18- Stomatologie</th>\n",
       "      <td>42.678993</td>\n",
       "    </tr>\n",
       "    <tr>\n",
       "      <th>43- Chirurgie infantile</th>\n",
       "      <td>42.142320</td>\n",
       "    </tr>\n",
       "    <tr>\n",
       "      <th>45- Chirurgie maxillo-faciale et stomatologie</th>\n",
       "      <td>40.174938</td>\n",
       "    </tr>\n",
       "    <tr>\n",
       "      <th>44- Chirurgie maxillo-faciale</th>\n",
       "      <td>38.467214</td>\n",
       "    </tr>\n",
       "    <tr>\n",
       "      <th>41- Chirurgie orthopédique et traumatologie</th>\n",
       "      <td>30.882197</td>\n",
       "    </tr>\n",
       "    <tr>\n",
       "      <th>49- Chirurgie viscérale et digestive</th>\n",
       "      <td>29.135382</td>\n",
       "    </tr>\n",
       "    <tr>\n",
       "      <th>75- Psychiatrie de l'enfant et de l'adolescent</th>\n",
       "      <td>28.462235</td>\n",
       "    </tr>\n",
       "    <tr>\n",
       "      <th>04- Chirurgie générale</th>\n",
       "      <td>26.588876</td>\n",
       "    </tr>\n",
       "  </tbody>\n",
       "</table>\n",
       "</div>"
      ],
      "text/plain": [
       "                                                    taux de dépassement par ape\n",
       "Spécialistes                                                                   \n",
       "46- Chirurgie plastique reconstructrice et esth...                    52.514583\n",
       "10- Neurochirurgie                                                    44.274902\n",
       "18- Stomatologie                                                      42.678993\n",
       "43- Chirurgie infantile                                               42.142320\n",
       "45- Chirurgie maxillo-faciale et stomatologie                         40.174938\n",
       "44- Chirurgie maxillo-faciale                                         38.467214\n",
       "41- Chirurgie orthopédique et traumatologie                           30.882197\n",
       "49- Chirurgie viscérale et digestive                                  29.135382\n",
       "75- Psychiatrie de l'enfant et de l'adolescent                        28.462235\n",
       "04- Chirurgie générale                                                26.588876"
      ]
     },
     "execution_count": 708,
     "metadata": {},
     "output_type": "execute_result"
    }
   ],
   "source": [
    "#########################################################################################################\n",
    "#                             depassement par spécialité  vu detaillée top10\n",
    "#########################################################################################################\n",
    " \n",
    "~df['Spécialistes'].str.contains('TOTAL') #matrice de booleans sans les totales dans spécialist\n",
    "\n",
    "df_not_total_spe =df[~df['Spécialistes'].str.contains('TOTAL')]\n",
    "\n",
    "grouped = df_not_total_spe[['Spécialistes','taux de dépassement par ape']].groupby('Spécialistes')\n",
    "grouped_depassement_mean = grouped.mean().sort_values('taux de dépassement par ape', ascending=False)\n",
    "grouped_depassement_mean[:10]\n",
    "#(grouped_depassement_mean.index.values)\n",
    "# df_not_total_spe['Spécialistes'].unique().shape "
   ]
  },
  {
   "cell_type": "markdown",
   "metadata": {},
   "source": [
    "# répartition des medecins"
   ]
  },
  {
   "cell_type": "code",
   "execution_count": 709,
   "metadata": {
    "collapsed": false
   },
   "outputs": [
    {
     "data": {
      "text/plain": [
       "{'DENSITE /100 000 hab.': 0.3370234025680509,\n",
       " 'EFFECTIF': 10.0,\n",
       " 'POPULATION FRANCAISE': 2967153.0,\n",
       " 'REGION INSEE': '73- Midi-Pyrénées',\n",
       " 'Spécialistes': '74- Oncologie radiothérapique'}"
      ]
     },
     "execution_count": 709,
     "metadata": {},
     "output_type": "execute_result"
    }
   ],
   "source": [
    "#########################################################################################################\n",
    "#                             repartition des medecins par region\n",
    "#########################################################################################################\n",
    "\n",
    "from xlrd import open_workbook\n",
    "region=\"hack\\info_doc\\demographie\\Effectif_et_densite_par_region_en_2014.xls\"\n",
    "book = open_workbook(region)\n",
    "sheet = book.sheet_by_index(2)\n",
    "\n",
    "# read header values into the list    \n",
    "keys = [sheet.cell(0, col_index).value for col_index in range(sheet.ncols)]\n",
    " \n",
    "dict_list_demo = []\n",
    "for row_index in range(1, sheet.nrows):\n",
    "    d = {keys[col_index]: sheet.cell(row_index, col_index).value \n",
    "         for col_index in range(sheet.ncols)}\n",
    "    dict_list_demo.append(d)\n",
    "\n",
    "dict_list_demo[508] #exemple of row\n"
   ]
  },
  {
   "cell_type": "code",
   "execution_count": 710,
   "metadata": {
    "collapsed": false
   },
   "outputs": [
    {
     "data": {
      "text/html": [
       "<div>\n",
       "<table border=\"1\" class=\"dataframe\">\n",
       "  <thead>\n",
       "    <tr style=\"text-align: right;\">\n",
       "      <th></th>\n",
       "      <th>DENSITE /100 000 hab.</th>\n",
       "      <th>EFFECTIF</th>\n",
       "      <th>POPULATION FRANCAISE</th>\n",
       "      <th>REGION INSEE</th>\n",
       "      <th>Spécialistes</th>\n",
       "    </tr>\n",
       "  </thead>\n",
       "  <tbody>\n",
       "    <tr>\n",
       "      <th>0</th>\n",
       "      <td>5.281099</td>\n",
       "      <td>634.0</td>\n",
       "      <td>12005077.0</td>\n",
       "      <td>11- Ile-de-France</td>\n",
       "      <td>02- Anesthésie-réanimation chirurgicale</td>\n",
       "    </tr>\n",
       "    <tr>\n",
       "      <th>1</th>\n",
       "      <td>4.932286</td>\n",
       "      <td>66.0</td>\n",
       "      <td>1338122.0</td>\n",
       "      <td>21- Champagne-Ardenne</td>\n",
       "      <td>02- Anesthésie-réanimation chirurgicale</td>\n",
       "    </tr>\n",
       "    <tr>\n",
       "      <th>2</th>\n",
       "      <td>3.631860</td>\n",
       "      <td>70.0</td>\n",
       "      <td>1927387.0</td>\n",
       "      <td>22- Picardie</td>\n",
       "      <td>02- Anesthésie-réanimation chirurgicale</td>\n",
       "    </tr>\n",
       "    <tr>\n",
       "      <th>3</th>\n",
       "      <td>4.481862</td>\n",
       "      <td>83.0</td>\n",
       "      <td>1851909.0</td>\n",
       "      <td>23- Haute-Normandie</td>\n",
       "      <td>02- Anesthésie-réanimation chirurgicale</td>\n",
       "    </tr>\n",
       "    <tr>\n",
       "      <th>4</th>\n",
       "      <td>3.530588</td>\n",
       "      <td>91.0</td>\n",
       "      <td>2577474.0</td>\n",
       "      <td>24- Centre</td>\n",
       "      <td>02- Anesthésie-réanimation chirurgicale</td>\n",
       "    </tr>\n",
       "  </tbody>\n",
       "</table>\n",
       "</div>"
      ],
      "text/plain": [
       "   DENSITE /100 000 hab.  EFFECTIF  POPULATION FRANCAISE  \\\n",
       "0               5.281099     634.0            12005077.0   \n",
       "1               4.932286      66.0             1338122.0   \n",
       "2               3.631860      70.0             1927387.0   \n",
       "3               4.481862      83.0             1851909.0   \n",
       "4               3.530588      91.0             2577474.0   \n",
       "\n",
       "            REGION INSEE                             Spécialistes  \n",
       "0      11- Ile-de-France  02- Anesthésie-réanimation chirurgicale  \n",
       "1  21- Champagne-Ardenne  02- Anesthésie-réanimation chirurgicale  \n",
       "2           22- Picardie  02- Anesthésie-réanimation chirurgicale  \n",
       "3    23- Haute-Normandie  02- Anesthésie-réanimation chirurgicale  \n",
       "4             24- Centre  02- Anesthésie-réanimation chirurgicale  "
      ]
     },
     "execution_count": 710,
     "metadata": {},
     "output_type": "execute_result"
    }
   ],
   "source": [
    "#depassement \n",
    "\n",
    "df_depassement=pd.DataFrame(dict_list_demo)\n",
    "df_depassement=df_depassement.replace('nc',np.NaN) \n",
    "#show 5 first row\n",
    "df_depassement[:5]\n",
    "#df_depassement['Spécialistes'].unique()"
   ]
  },
  {
   "cell_type": "code",
   "execution_count": 681,
   "metadata": {
    "collapsed": false
   },
   "outputs": [
    {
     "data": {
      "text/html": [
       "<div>\n",
       "<table border=\"1\" class=\"dataframe\">\n",
       "  <thead>\n",
       "    <tr style=\"text-align: right;\">\n",
       "      <th></th>\n",
       "      <th>DENSITE /100 000 hab.</th>\n",
       "    </tr>\n",
       "    <tr>\n",
       "      <th>REGION INSEE</th>\n",
       "      <th></th>\n",
       "    </tr>\n",
       "  </thead>\n",
       "  <tbody>\n",
       "    <tr>\n",
       "      <th>93- Provence-Alpes-Côte d'Azur</th>\n",
       "      <td>44.277189</td>\n",
       "    </tr>\n",
       "    <tr>\n",
       "      <th>72- Aquitaine</th>\n",
       "      <td>35.974567</td>\n",
       "    </tr>\n",
       "    <tr>\n",
       "      <th>11- Ile-de-France</th>\n",
       "      <td>35.928133</td>\n",
       "    </tr>\n",
       "    <tr>\n",
       "      <th>91- Languedoc-Roussillon</th>\n",
       "      <td>35.745395</td>\n",
       "    </tr>\n",
       "    <tr>\n",
       "      <th>42- Alsace</th>\n",
       "      <td>34.006270</td>\n",
       "    </tr>\n",
       "    <tr>\n",
       "      <th>73- Midi-Pyrénées</th>\n",
       "      <td>33.665268</td>\n",
       "    </tr>\n",
       "    <tr>\n",
       "      <th>94- Corse</th>\n",
       "      <td>32.281827</td>\n",
       "    </tr>\n",
       "    <tr>\n",
       "      <th>TOTAL FRANCE METROPOLITAINE</th>\n",
       "      <td>31.183077</td>\n",
       "    </tr>\n",
       "    <tr>\n",
       "      <th>82- Rhône-Alpes</th>\n",
       "      <td>31.171106</td>\n",
       "    </tr>\n",
       "    <tr>\n",
       "      <th>74- Limousin</th>\n",
       "      <td>28.007284</td>\n",
       "    </tr>\n",
       "  </tbody>\n",
       "</table>\n",
       "</div>"
      ],
      "text/plain": [
       "                                DENSITE /100 000 hab.\n",
       "REGION INSEE                                         \n",
       "93- Provence-Alpes-Côte d'Azur              44.277189\n",
       "72- Aquitaine                               35.974567\n",
       "11- Ile-de-France                           35.928133\n",
       "91- Languedoc-Roussillon                    35.745395\n",
       "42- Alsace                                  34.006270\n",
       "73- Midi-Pyrénées                           33.665268\n",
       "94- Corse                                   32.281827\n",
       "TOTAL FRANCE METROPOLITAINE                 31.183077\n",
       "82- Rhône-Alpes                             31.171106\n",
       "74- Limousin                                28.007284"
      ]
     },
     "execution_count": 681,
     "metadata": {},
     "output_type": "execute_result"
    }
   ],
   "source": [
    "#########################################################################################################\n",
    "#                             spécialité en fonction des régions\n",
    "#########################################################################################################\n",
    "\n",
    "\n",
    "#juste spe total\n",
    "df_depassement['Spécialistes'].str.contains('TOTAL') #matrice de booleans sans les totales dans spécialist\n",
    "\n",
    "df_total_spe =df_depassement[df_depassement['Spécialistes'].str.contains('TOTAL')  ]\n",
    "\n",
    "df_total_spe[['DENSITE /100 000 hab.','REGION INSEE','Spécialistes']]\n",
    "\n",
    "grouped = df_total_spe[['REGION INSEE','DENSITE /100 000 hab.']].groupby('REGION INSEE')\n",
    "grouped_densite_region = grouped.mean().sort_values('DENSITE /100 000 hab.', ascending=False)\n",
    "grouped_densite_region [:10]\n",
    "# grouped.mean().sort_values('taux de dépassement par ape', ascending=False)[:10]"
   ]
  },
  {
   "cell_type": "code",
   "execution_count": 711,
   "metadata": {
    "collapsed": false
   },
   "outputs": [
    {
     "data": {
      "text/html": [
       "<div>\n",
       "<table border=\"1\" class=\"dataframe\">\n",
       "  <thead>\n",
       "    <tr style=\"text-align: right;\">\n",
       "      <th></th>\n",
       "      <th>DENSITE /100 000 hab.</th>\n",
       "    </tr>\n",
       "    <tr>\n",
       "      <th>Spécialistes</th>\n",
       "      <th></th>\n",
       "    </tr>\n",
       "  </thead>\n",
       "  <tbody>\n",
       "    <tr>\n",
       "      <th>06- Radiodiagnostic et imagerie médicale</th>\n",
       "      <td>7.069917</td>\n",
       "    </tr>\n",
       "    <tr>\n",
       "      <th>33- Psychiatrie</th>\n",
       "      <td>6.364184</td>\n",
       "    </tr>\n",
       "    <tr>\n",
       "      <th>15- Ophtalmologie</th>\n",
       "      <td>6.256228</td>\n",
       "    </tr>\n",
       "    <tr>\n",
       "      <th>03- Pathologie cardio-vasculaire</th>\n",
       "      <td>6.001521</td>\n",
       "    </tr>\n",
       "    <tr>\n",
       "      <th>07- Gynécologie obstétrique</th>\n",
       "      <td>5.038347</td>\n",
       "    </tr>\n",
       "  </tbody>\n",
       "</table>\n",
       "</div>"
      ],
      "text/plain": [
       "                                          DENSITE /100 000 hab.\n",
       "Spécialistes                                                   \n",
       "06- Radiodiagnostic et imagerie médicale               7.069917\n",
       "33- Psychiatrie                                        6.364184\n",
       "15- Ophtalmologie                                      6.256228\n",
       "03- Pathologie cardio-vasculaire                       6.001521\n",
       "07- Gynécologie obstétrique                            5.038347"
      ]
     },
     "execution_count": 711,
     "metadata": {},
     "output_type": "execute_result"
    }
   ],
   "source": [
    "#########################################################################################################\n",
    "#                             spécialité où il y a le plus de medecins\n",
    "#########################################################################################################\n",
    "\n",
    "~df_depassement['Spécialistes'].str.contains('TOTAL')  #matrice de booleans sans les totales dans spécialist\n",
    "df_not_total_spe =df_depassement[~df_depassement['Spécialistes'].str.contains('TOTAL')] #44 specialiste\n",
    "\n",
    "grouped_spe_densite = df_not_total_spe[['Spécialistes','DENSITE /100 000 hab.']].groupby('Spécialistes')\n",
    "grouped_spe_densite_mean = grouped_spe_densite.mean().sort_values('DENSITE /100 000 hab.', ascending=False)\n",
    "grouped_spe_densite_mean[:5]\n",
    "# #juste spe\n",
    "# ~df['Spécialistes'].str.contains('TOTAL') #matrice de booleans sans les totales dans spécialist\n",
    "\n",
    "# df_not_total_spe =df[~df['Spécialistes'].str.contains('TOTAL')]\n",
    "\n",
    "# grouped = df_not_total_spe[['Spécialistes','taux de dépassement par ape']].groupby('Spécialistes')\n",
    "# grouped.mean().sort_values('taux de dépassement par ape', ascending=False)[:10]"
   ]
  },
  {
   "cell_type": "code",
   "execution_count": 676,
   "metadata": {
    "collapsed": false
   },
   "outputs": [
    {
     "name": "stdout",
     "output_type": "stream",
     "text": [
      "43\n",
      "44\n"
     ]
    }
   ],
   "source": [
    "#plot spécialités en fonction du dépassement d'honoraire et densite\n",
    "\n",
    "#merge\n",
    "print(len(grouped_depassement_mean))\n",
    "print(len(grouped_spe_densite_mean))#il a la spe 38 en plus"
   ]
  },
  {
   "cell_type": "code",
   "execution_count": 713,
   "metadata": {
    "collapsed": false
   },
   "outputs": [
    {
     "data": {
      "text/html": [
       "<div>\n",
       "<table border=\"1\" class=\"dataframe\">\n",
       "  <thead>\n",
       "    <tr style=\"text-align: right;\">\n",
       "      <th></th>\n",
       "      <th>DENSITE /100 000 hab.</th>\n",
       "      <th>taux de dépassement par ape</th>\n",
       "    </tr>\n",
       "    <tr>\n",
       "      <th>Spécialistes</th>\n",
       "      <th></th>\n",
       "      <th></th>\n",
       "    </tr>\n",
       "  </thead>\n",
       "  <tbody>\n",
       "    <tr>\n",
       "      <th>02- Anesthésie-réanimation chirurgicale</th>\n",
       "      <td>4.611316</td>\n",
       "      <td>13.179333</td>\n",
       "    </tr>\n",
       "    <tr>\n",
       "      <th>03- Pathologie cardio-vasculaire</th>\n",
       "      <td>6.001521</td>\n",
       "      <td>2.337124</td>\n",
       "    </tr>\n",
       "    <tr>\n",
       "      <th>04- Chirurgie générale</th>\n",
       "      <td>1.819924</td>\n",
       "      <td>26.588876</td>\n",
       "    </tr>\n",
       "  </tbody>\n",
       "</table>\n",
       "</div>"
      ],
      "text/plain": [
       "                                         DENSITE /100 000 hab.  \\\n",
       "Spécialistes                                                     \n",
       "02- Anesthésie-réanimation chirurgicale               4.611316   \n",
       "03- Pathologie cardio-vasculaire                      6.001521   \n",
       "04- Chirurgie générale                                1.819924   \n",
       "\n",
       "                                         taux de dépassement par ape  \n",
       "Spécialistes                                                          \n",
       "02- Anesthésie-réanimation chirurgicale                    13.179333  \n",
       "03- Pathologie cardio-vasculaire                            2.337124  \n",
       "04- Chirurgie générale                                     26.588876  "
      ]
     },
     "execution_count": 713,
     "metadata": {},
     "output_type": "execute_result"
    }
   ],
   "source": [
    "#########################################################################################################\n",
    "#                             densité de medecins par rapport depassement (par spé vu detaillée)\n",
    "#########################################################################################################\n",
    "result = grouped_spe_densite_mean.join(grouped_depassement_mean, how='outer')\n",
    "result[:3]"
   ]
  },
  {
   "cell_type": "code",
   "execution_count": 717,
   "metadata": {
    "collapsed": false
   },
   "outputs": [
    {
     "data": {
      "text/plain": [
       "<matplotlib.text.Text at 0x1caeac9d630>"
      ]
     },
     "execution_count": 717,
     "metadata": {},
     "output_type": "execute_result"
    },
    {
     "data": {
      "image/png": "[encoded data removed]",
      "text/plain": [
       "<matplotlib.figure.Figure at 0x1cae6b88c88>"
      ]
     },
     "metadata": {},
     "output_type": "display_data"
    }
   ],
   "source": [
    "#plot de la densité et depassement=> pas de conclusion\n",
    "plt.plot(result['DENSITE /100 000 hab.'],result['taux de dépassement par ape'],'.')\n",
    "plt.xlabel('DENSITE /100 000 hab.')\n",
    "plt.ylabel('taux de dépassement par ape')\n",
    "plt.title('densité et depassement par spé')"
   ]
  },
  {
   "cell_type": "code",
   "execution_count": 724,
   "metadata": {
    "collapsed": false
   },
   "outputs": [
    {
     "name": "stdout",
     "output_type": "stream",
     "text": [
      "                                                    DENSITE /100 000 hab.\n",
      "Spécialistes                                                             \n",
      "TOTAL MEDECINS                                                 157.437383\n",
      "TOTAL SPECIALISTES                                              69.754434\n",
      "TOTAL CHIRURGIE y compris 10,16,41  (43, 44, 46...               8.808089\n"
     ]
    },
    {
     "data": {
      "text/html": [
       "<div>\n",
       "<table border=\"1\" class=\"dataframe\">\n",
       "  <thead>\n",
       "    <tr style=\"text-align: right;\">\n",
       "      <th></th>\n",
       "      <th>DENSITE /100 000 hab.</th>\n",
       "      <th>taux de dépassement par ape</th>\n",
       "    </tr>\n",
       "    <tr>\n",
       "      <th>Spécialistes</th>\n",
       "      <th></th>\n",
       "      <th></th>\n",
       "    </tr>\n",
       "  </thead>\n",
       "  <tbody>\n",
       "    <tr>\n",
       "      <th>TOTAL ANESTHESIE REANIMATION  (02, 20)</th>\n",
       "      <td>4.627922</td>\n",
       "      <td>13.131925</td>\n",
       "    </tr>\n",
       "    <tr>\n",
       "      <th>TOTAL CHIRURGIE y compris 10,16,41  (43, 44, 46, 47, 48, 49, 04, 10, 16, 41)</th>\n",
       "      <td>8.808089</td>\n",
       "      <td>27.579939</td>\n",
       "    </tr>\n",
       "    <tr>\n",
       "      <th>TOTAL GYNECOLOGIE  (70, 77, 79, 07)</th>\n",
       "      <td>6.870637</td>\n",
       "      <td>20.492120</td>\n",
       "    </tr>\n",
       "    <tr>\n",
       "      <th>TOTAL MEDECINE INTERNE  (71, 73, 09)</th>\n",
       "      <td>0.578829</td>\n",
       "      <td>10.330296</td>\n",
       "    </tr>\n",
       "    <tr>\n",
       "      <th>TOTAL MEDECINS</th>\n",
       "      <td>157.437383</td>\n",
       "      <td>7.827148</td>\n",
       "    </tr>\n",
       "    <tr>\n",
       "      <th>TOTAL PEDIATRIE  (78, 12)</th>\n",
       "      <td>3.373053</td>\n",
       "      <td>7.717528</td>\n",
       "    </tr>\n",
       "    <tr>\n",
       "      <th>TOTAL PSYCHIATRIE  et NEUROPSYCHIATRIE (75, 33, 17)</th>\n",
       "      <td>6.623157</td>\n",
       "      <td>8.357680</td>\n",
       "    </tr>\n",
       "    <tr>\n",
       "      <th>TOTAL RADIOLOGIE  (72, 74, 76, 06)</th>\n",
       "      <td>8.012354</td>\n",
       "      <td>2.359934</td>\n",
       "    </tr>\n",
       "    <tr>\n",
       "      <th>TOTAL SPECIALISTES</th>\n",
       "      <td>69.754434</td>\n",
       "      <td>12.299390</td>\n",
       "    </tr>\n",
       "    <tr>\n",
       "      <th>TOTAL STOMATOLOGIE  (45, 18)</th>\n",
       "      <td>1.135276</td>\n",
       "      <td>41.270925</td>\n",
       "    </tr>\n",
       "  </tbody>\n",
       "</table>\n",
       "</div>"
      ],
      "text/plain": [
       "                                                    DENSITE /100 000 hab.  \\\n",
       "Spécialistes                                                                \n",
       "TOTAL ANESTHESIE REANIMATION  (02, 20)                           4.627922   \n",
       "TOTAL CHIRURGIE y compris 10,16,41  (43, 44, 46...               8.808089   \n",
       "TOTAL GYNECOLOGIE  (70, 77, 79, 07)                              6.870637   \n",
       "TOTAL MEDECINE INTERNE  (71, 73, 09)                             0.578829   \n",
       "TOTAL MEDECINS                                                 157.437383   \n",
       "TOTAL PEDIATRIE  (78, 12)                                        3.373053   \n",
       "TOTAL PSYCHIATRIE  et NEUROPSYCHIATRIE (75, 33,...               6.623157   \n",
       "TOTAL RADIOLOGIE  (72, 74, 76, 06)                               8.012354   \n",
       "TOTAL SPECIALISTES                                              69.754434   \n",
       "TOTAL STOMATOLOGIE  (45, 18)                                     1.135276   \n",
       "\n",
       "                                                    taux de dépassement par ape  \n",
       "Spécialistes                                                                     \n",
       "TOTAL ANESTHESIE REANIMATION  (02, 20)                                13.131925  \n",
       "TOTAL CHIRURGIE y compris 10,16,41  (43, 44, 46...                    27.579939  \n",
       "TOTAL GYNECOLOGIE  (70, 77, 79, 07)                                   20.492120  \n",
       "TOTAL MEDECINE INTERNE  (71, 73, 09)                                  10.330296  \n",
       "TOTAL MEDECINS                                                         7.827148  \n",
       "TOTAL PEDIATRIE  (78, 12)                                              7.717528  \n",
       "TOTAL PSYCHIATRIE  et NEUROPSYCHIATRIE (75, 33,...                     8.357680  \n",
       "TOTAL RADIOLOGIE  (72, 74, 76, 06)                                     2.359934  \n",
       "TOTAL SPECIALISTES                                                    12.299390  \n",
       "TOTAL STOMATOLOGIE  (45, 18)                                          41.270925  "
      ]
     },
     "execution_count": 724,
     "metadata": {},
     "output_type": "execute_result"
    }
   ],
   "source": [
    "\n",
    "df_depassement['Spécialistes'].str.contains('TOTAL')  #matrice de booleans sans les totales dans spécialist\n",
    "df_total_spe_dens =df_depassement[df_depassement['Spécialistes'].str.contains('TOTAL')] #44 specialiste\n",
    "\n",
    "grouped_total_spe_densite = df_total_spe_dens[['Spécialistes','DENSITE /100 000 hab.']].groupby('Spécialistes')\n",
    "grouped_total_spe_densite_mean = grouped_total_spe_densite.mean().sort_values('DENSITE /100 000 hab.', ascending=False)\n",
    "print(grouped_total_spe_densite_mean[:3]) \n",
    "\n",
    "result_tot = grouped_total_spe_densite_mean.join(group_mean_total_spe_depassement, how='outer')\n",
    "result_tot[]"
   ]
  },
  {
   "cell_type": "code",
   "execution_count": 728,
   "metadata": {
    "collapsed": false
   },
   "outputs": [
    {
     "data": {
      "text/plain": [
       "(0, 20)"
      ]
     },
     "execution_count": 728,
     "metadata": {},
     "output_type": "execute_result"
    },
    {
     "data": {
      "image/png": "[encoded data removed]",
      "text/plain": [
       "<matplotlib.figure.Figure at 0x1cae8117978>"
      ]
     },
     "metadata": {},
     "output_type": "display_data"
    }
   ],
   "source": [
    "plt.plot(result_tot['DENSITE /100 000 hab.'],result_tot['taux de dépassement par ape'],'.')\n",
    "plt.xlabel('DENSITE /100 000 hab.')\n",
    "plt.ylabel('taux de dépassement par ape')\n",
    "plt.title('densité et depassement par spé')\n",
    "#ne pas tenir compte des points eloigné qui sont les totaux globaux\n",
    "plt.xlim([0,20])\n",
    "\n",
    "#point atypique=> chirurgie\n",
    "#point forte densite + faible depassement=> radiologie + psychiatrie\n",
    " "
   ]
  },
  {
   "cell_type": "code",
   "execution_count": 3,
   "metadata": {
    "collapsed": false
   },
   "outputs": [
    {
     "ename": "NameError",
     "evalue": "name 'NomFichier' is not defined",
     "output_type": "error",
     "traceback": [
      "\u001b[1;31m---------------------------------------------------------------------------\u001b[0m",
      "\u001b[1;31mNameError\u001b[0m                                 Traceback (most recent call last)",
      "\u001b[1;32m<ipython-input-3-a6d7f912b1c7>\u001b[0m in \u001b[0;36m<module>\u001b[1;34m()\u001b[0m\n\u001b[0;32m      1\u001b[0m \u001b[1;32mimport\u001b[0m \u001b[0mcsv\u001b[0m\u001b[1;33m\u001b[0m\u001b[0m\n\u001b[1;32m----> 2\u001b[1;33m \u001b[0mFile\u001b[0m \u001b[1;33m=\u001b[0m \u001b[0mopen\u001b[0m\u001b[1;33m(\u001b[0m\u001b[0mNomFichier\u001b[0m\u001b[1;33m,\u001b[0m\u001b[1;34m'r'\u001b[0m\u001b[1;33m)\u001b[0m\u001b[1;33m\u001b[0m\u001b[0m\n\u001b[0m\u001b[0;32m      3\u001b[0m \u001b[0mReader\u001b[0m \u001b[1;33m=\u001b[0m \u001b[0mcsv\u001b[0m\u001b[1;33m.\u001b[0m\u001b[0mreader\u001b[0m\u001b[1;33m(\u001b[0m\u001b[0mFile\u001b[0m\u001b[1;33m)\u001b[0m\u001b[1;33m\u001b[0m\u001b[0m\n\u001b[0;32m      4\u001b[0m \u001b[0mData\u001b[0m \u001b[1;33m=\u001b[0m \u001b[0mlist\u001b[0m\u001b[1;33m(\u001b[0m\u001b[0mReader\u001b[0m\u001b[1;33m)\u001b[0m\u001b[1;33m\u001b[0m\u001b[0m\n\u001b[0;32m      5\u001b[0m \u001b[1;31m#len(Data)=28\u001b[0m\u001b[1;33m\u001b[0m\u001b[1;33m\u001b[0m\u001b[0m\n",
      "\u001b[1;31mNameError\u001b[0m: name 'NomFichier' is not defined"
     ]
    }
   ],
   "source": [
    "import csv\n",
    "File = open(NomFichier,'r')\n",
    "Reader = csv.reader(File)\n",
    "Data = list(Reader)\n",
    "#len(Data)=28\n",
    "\n",
    "#list de spécialité\n",
    "list_spe_raw = Data[5]\n",
    "list_spe = list_spe_raw[0].split(\";\") \n",
    "print(\"numero de spécialité:\",len(list_spe))\n",
    "#print(list_spe[1:])\n",
    "\n",
    "#.replace(\"\\'\",\"\")\n",
    "list_spe_clean=[]\n",
    "for i in list_spe[1:]: \n",
    "    list_spe_clean.append(i.replace(\"\\\"\",\"\"))\n",
    "#print(list_spe_clean[1:])\n",
    "    \n",
    "#list d'une region à partir de 7\n",
    "list_region_raw = Data[7]\n",
    "list_region_clean = list_region_raw [0].split(\";\")  \n",
    "#len(list_region_clean)\n",
    "#print(list_region_clean)"
   ]
  },
  {
   "cell_type": "code",
   "execution_count": 4,
   "metadata": {
    "collapsed": false
   },
   "outputs": [
    {
     "ename": "NameError",
     "evalue": "name 'Data' is not defined",
     "output_type": "error",
     "traceback": [
      "\u001b[1;31m---------------------------------------------------------------------------\u001b[0m",
      "\u001b[1;31mNameError\u001b[0m                                 Traceback (most recent call last)",
      "\u001b[1;32m<ipython-input-4-616356a8d4fc>\u001b[0m in \u001b[0;36m<module>\u001b[1;34m()\u001b[0m\n\u001b[0;32m      2\u001b[0m \u001b[0mlist_region_name\u001b[0m\u001b[1;33m=\u001b[0m\u001b[1;33m[\u001b[0m\u001b[1;33m]\u001b[0m\u001b[1;33m\u001b[0m\u001b[0m\n\u001b[0;32m      3\u001b[0m \u001b[1;32mfor\u001b[0m \u001b[0mi\u001b[0m \u001b[1;32min\u001b[0m \u001b[0mrange\u001b[0m\u001b[1;33m(\u001b[0m\u001b[1;36m7\u001b[0m\u001b[1;33m,\u001b[0m\u001b[1;36m28\u001b[0m\u001b[1;33m)\u001b[0m\u001b[1;33m:\u001b[0m\u001b[1;33m\u001b[0m\u001b[0m\n\u001b[1;32m----> 4\u001b[1;33m     \u001b[0ml\u001b[0m\u001b[1;33m=\u001b[0m\u001b[0mData\u001b[0m\u001b[1;33m[\u001b[0m\u001b[0mi\u001b[0m\u001b[1;33m]\u001b[0m\u001b[1;33m\u001b[0m\u001b[0m\n\u001b[0m\u001b[0;32m      5\u001b[0m     \u001b[0ml_bis\u001b[0m\u001b[1;33m=\u001b[0m\u001b[0ml\u001b[0m\u001b[1;33m[\u001b[0m\u001b[1;36m0\u001b[0m\u001b[1;33m]\u001b[0m\u001b[1;33m.\u001b[0m\u001b[0msplit\u001b[0m\u001b[1;33m(\u001b[0m\u001b[1;34m\";\"\u001b[0m\u001b[1;33m)\u001b[0m\u001b[1;33m\u001b[0m\u001b[0m\n\u001b[0;32m      6\u001b[0m     \u001b[0mlist_region_name\u001b[0m\u001b[1;33m.\u001b[0m\u001b[0mappend\u001b[0m\u001b[1;33m(\u001b[0m\u001b[0ml_bis\u001b[0m\u001b[1;33m[\u001b[0m\u001b[1;36m0\u001b[0m\u001b[1;33m]\u001b[0m\u001b[1;33m)\u001b[0m\u001b[1;33m\u001b[0m\u001b[0m\n",
      "\u001b[1;31mNameError\u001b[0m: name 'Data' is not defined"
     ]
    }
   ],
   "source": [
    "#get the reh=gion name\n",
    "list_region_name=[] \n",
    "for i in range(7,28):\n",
    "    l=Data[i]\n",
    "    l_bis=l[0].split(\";\")  \n",
    "    list_region_name.append(l_bis[0])\n",
    "print((list_region_name))"
   ]
  },
  {
   "cell_type": "code",
   "execution_count": 1,
   "metadata": {
    "collapsed": false
   },
   "outputs": [
    {
     "ename": "NameError",
     "evalue": "name 'pd' is not defined",
     "output_type": "error",
     "traceback": [
      "\u001b[1;31m---------------------------------------------------------------------------\u001b[0m",
      "\u001b[1;31mNameError\u001b[0m                                 Traceback (most recent call last)",
      "\u001b[1;32m<ipython-input-1-5a3036e464ac>\u001b[0m in \u001b[0;36m<module>\u001b[1;34m()\u001b[0m\n\u001b[0;32m      1\u001b[0m \u001b[1;31m#data frame des densité de medecin par spe sans les region\u001b[0m\u001b[1;33m\u001b[0m\u001b[1;33m\u001b[0m\u001b[0m\n\u001b[1;32m----> 2\u001b[1;33m \u001b[0mdf\u001b[0m \u001b[1;33m=\u001b[0m \u001b[0mpd\u001b[0m\u001b[1;33m.\u001b[0m\u001b[0mDataFrame\u001b[0m\u001b[1;33m(\u001b[0m\u001b[0mlist_clean\u001b[0m\u001b[1;33m)\u001b[0m\u001b[1;33m\u001b[0m\u001b[0m\n\u001b[0m\u001b[0;32m      3\u001b[0m \u001b[0mdf\u001b[0m\u001b[1;33m.\u001b[0m\u001b[0mcolumns\u001b[0m \u001b[1;33m=\u001b[0m \u001b[0mlist_spe_clean\u001b[0m\u001b[1;33m\u001b[0m\u001b[0m\n\u001b[0;32m      4\u001b[0m \u001b[0mdata_not_empty\u001b[0m\u001b[1;33m=\u001b[0m\u001b[0mdf\u001b[0m\u001b[1;33m[\u001b[0m\u001b[0mdf\u001b[0m\u001b[1;33m.\u001b[0m\u001b[0mSpécialistes\u001b[0m \u001b[1;33m!=\u001b[0m\u001b[1;36m0.0\u001b[0m\u001b[1;33m]\u001b[0m \u001b[1;31m#data without empty field\u001b[0m\u001b[1;33m\u001b[0m\u001b[0m\n\u001b[0;32m      5\u001b[0m \u001b[1;31m#copy\u001b[0m\u001b[1;33m\u001b[0m\u001b[1;33m\u001b[0m\u001b[0m\n",
      "\u001b[1;31mNameError\u001b[0m: name 'pd' is not defined"
     ]
    }
   ],
   "source": [
    "#data frame des densité de medecin par spe sans les region\n",
    "df = pd.DataFrame(list_clean)\n",
    "df.columns = list_spe_clean\n",
    "data_not_empty=df[df.Spécialistes !=0.0] #data without empty field\n",
    "#copy\n",
    "test = data_not_empty.copy()\n",
    "test['region']=list_region_name \n",
    "#data_not_empty['region']= (list_region_name)"
   ]
  },
  {
   "cell_type": "code",
   "execution_count": null,
   "metadata": {
    "collapsed": true
   },
   "outputs": [],
   "source": []
  }
 ],
 "metadata": {
  "anaconda-cloud": {},
  "kernelspec": {
   "display_name": "Python [conda root]",
   "language": "python",
   "name": "conda-root-py"
  },
  "language_info": {
   "codemirror_mode": {
    "name": "ipython",
    "version": 3
   },
   "file_extension": ".py",
   "mimetype": "text/x-python",
   "name": "python",
   "nbconvert_exporter": "python",
   "pygments_lexer": "ipython3",
   "version": "3.5.2"
  }
 },
 "nbformat": 4,
 "nbformat_minor": 0
}
