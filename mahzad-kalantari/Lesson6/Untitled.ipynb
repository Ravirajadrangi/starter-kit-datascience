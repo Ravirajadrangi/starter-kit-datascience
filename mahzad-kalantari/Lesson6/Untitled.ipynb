{
 "cells": [
  {
   "cell_type": "code",
   "execution_count": 4,
   "metadata": {
    "collapsed": false
   },
   "outputs": [
    {
     "name": "stdout",
     "output_type": "stream",
     "text": [
      "Populating the interactive namespace from numpy and matplotlib\n"
     ]
    }
   ],
   "source": [
    "%pylab inline\n",
    "\n",
    "import pandas as pd\n",
    "import numpy as np\n",
    "import re\n",
    "import matplotlib.pyplot as plt\n",
    "from matplotlib.collections import LineCollection\n",
    "from matplotlib import cm\n",
    "import seaborn as sns\n",
    "%matplotlib inline\n"
   ]
  },
  {
   "cell_type": "code",
   "execution_count": 81,
   "metadata": {
    "collapsed": false
   },
   "outputs": [
    {
     "name": "stderr",
     "output_type": "stream",
     "text": [
      "/Users/mahzad.kalantari/Applications/anaconda/lib/python3.5/site-packages/IPython/core/interactiveshell.py:2723: DtypeWarning: Columns (0,3,5) have mixed types. Specify dtype option on import or set low_memory=False.\n",
      "  interactivity=interactivity, compiler=compiler, result=result)\n"
     ]
    }
   ],
   "source": [
    "path = \"aliments.csv\"\n",
    "data = pd.read_csv(path, sep = '\\t', skiprows=[1,2,3,4,5,6,7,8,9,10,11,12,13,14,15,16,17,18,19,20,21])\n",
    "\n",
    "\n",
    "\n",
    "\n",
    "\n"
   ]
  },
  {
   "cell_type": "code",
   "execution_count": 82,
   "metadata": {
    "collapsed": false
   },
   "outputs": [],
   "source": [
    "productName = data['product_name']\n",
    "Quantity = data['quantity']\n",
    "Vitamine= data['vitamin-c_100g']"
   ]
  },
  {
   "cell_type": "code",
   "execution_count": 105,
   "metadata": {
    "collapsed": false
   },
   "outputs": [
    {
     "name": "stderr",
     "output_type": "stream",
     "text": [
      "/Users/mahzad.kalantari/Applications/anaconda/lib/python3.5/site-packages/numpy/lib/function_base.py:3834: RuntimeWarning: Invalid value encountered in percentile\n",
      "  RuntimeWarning)\n"
     ]
    },
    {
     "data": {
      "text/plain": [
       "count    444.000000\n",
       "mean       0.299096\n",
       "std        4.819258\n",
       "min        0.000000\n",
       "25%             NaN\n",
       "50%             NaN\n",
       "75%             NaN\n",
       "max      100.000000\n",
       "Name: vitamin-c_100g, dtype: float64"
      ]
     },
     "execution_count": 105,
     "metadata": {},
     "output_type": "execute_result"
    }
   ],
   "source": [
    "data['vitamin-c_100g'].describe()"
   ]
  },
  {
   "cell_type": "code",
   "execution_count": 115,
   "metadata": {
    "collapsed": false
   },
   "outputs": [],
   "source": [
    "df_vitamin_c  = data.dropna(subset=['vitamin-c_100g'])"
   ]
  },
  {
   "cell_type": "code",
   "execution_count": 138,
   "metadata": {
    "collapsed": false
   },
   "outputs": [
    {
     "name": "stderr",
     "output_type": "stream",
     "text": [
      "/Users/mahzad.kalantari/Applications/anaconda/lib/python3.5/site-packages/ipykernel/__main__.py:1: FutureWarning: sort(columns=....) is deprecated, use sort_values(by=.....)\n",
      "  if __name__ == '__main__':\n"
     ]
    },
    {
     "data": {
      "text/plain": [
       "743                                       Kippered fillets\n",
       "18660    Pur jus de 3 fruits pressés poire, pomme & pêc...\n",
       "18662    Pur jus de fruits pressés Pomme & Framboise In...\n",
       "18661                     Innocent Jus d'orange sans pulpe\n",
       "18664    Pur jus de fruits pressés Pomme & Mangue Innocent\n",
       "18659    Orange avec pulpe pur jus de fruits pressés In...\n",
       "18663    Pur jus de 5 fruits pressés Ananas & Fruit de ...\n",
       "18658    Pur jus de cinq fruits pressés orange et framb...\n",
       "11688                                 Milumel Bio 2ème âge\n",
       "12985                              Gallia Dès la naissance\n",
       "17447                                          prémichèvre\n",
       "8332      Chabrior Maxi Pack Crica Choc' Chocolat Noisette\n",
       "18029                 HiPP Biologique Lait de croissance 3\n",
       "11692                                           Croissance\n",
       "23754    Puré de fruta monodosis &quot;Hacendado&quot; ...\n",
       "11704                    Cool Fruits Pomme Fraise Myrtille\n",
       "19246                                   Actimel strawberry\n",
       "22113                                        BOPS barbecue\n",
       "19276                    Orange avec pulpe 85 cl Tropicana\n",
       "23679    Berenjenas encurtidas aliñadas &quot;Conservas...\n",
       "2200                               Vitamin C Lemon Flavour\n",
       "22531    Berenjenas encurtidas aliñadas &quot;La Plaza&...\n",
       "20640                                Lait Guigoz confort 2\n",
       "20598                                        Nidal Natéa 2\n",
       "20522                                  Milupa Aptamil HA 3\n",
       "11743                             100% pur jus clémentines\n",
       "8876                               Pur jus orange pressée \n",
       "18622                                   Cloudy Apple Juice\n",
       "783       Yogourt biologique certifié vanille sans gras 0%\n",
       "13061                                 Chocapic Maxi Format\n",
       "                               ...                        \n",
       "8772           100% pur jus Orange Clémentine Raisin Blanc\n",
       "8494               Superfruits Grenade sans sucres ajoutés\n",
       "8491                                   Superfruits Grenade\n",
       "21413                               Sú Fresh Nectar de Uva\n",
       "15993                                       Orange pur jus\n",
       "16755                   Jus d'orange 100% pur fruit pressé\n",
       "4381                   tropicana Essentiels Multivitamines\n",
       "4380                                           Sanguinello\n",
       "16589                     Jus d'orange à base de concentré\n",
       "4379                       Orange sans pulpe 1 L Tropicana\n",
       "4378                           Ruby Breafast 1 L Tropicana\n",
       "14562                    Boisson au soja allégée Carrefour\n",
       "6918         Pommes de terre entières Légumes vapeur Lunor\n",
       "23583                      Zanahorias &quot;VegaTajo&quot;\n",
       "17593                             Dattes Deglet Nour Haïfa\n",
       "23057            Zanahorias &quot;V Agrícola Villena&quot;\n",
       "23159                        Cebollas &quot;Alipende&quot;\n",
       "23247            Tomates &quot;Alipende&quot; Tipo Canario\n",
       "2534                                             Pineapple\n",
       "15                                             Cauliflower\n",
       "25079                                          Pago A.C.E.\n",
       "25081                            Pago Citron - Citron vert\n",
       "2199                                              Vitalift\n",
       "4130             Blédine croissance saveur choco-biscuitée\n",
       "4242                                           Pomme poire\n",
       "11703                       Cool Fruits Pomme pêche abrico\n",
       "11711         Cool Fruits Acerola, pomme, mangue et ananas\n",
       "13069                                              Fitness\n",
       "15401                                 Jus d'orange Leclerc\n",
       "18682                                    Special K Classic\n",
       "Name: product_name, dtype: object"
      ]
     },
     "execution_count": 138,
     "metadata": {},
     "output_type": "execute_result"
    }
   ],
   "source": [
    "df_vitamin_c.sort('quantity',ascending=False)['product_name']"
   ]
  },
  {
   "cell_type": "code",
   "execution_count": 135,
   "metadata": {
    "collapsed": false
   },
   "outputs": [
    {
     "data": {
      "text/plain": [
       "<pandas.core.groupby.SeriesGroupBy object at 0x1191b78d0>"
      ]
     },
     "execution_count": 135,
     "metadata": {},
     "output_type": "execute_result"
    }
   ],
   "source": [
    "res"
   ]
  },
  {
   "cell_type": "code",
   "execution_count": 145,
   "metadata": {
    "collapsed": false
   },
   "outputs": [],
   "source": [
    "dataV = data['vitamin-c_100g'].value_counts()"
   ]
  },
  {
   "cell_type": "code",
   "execution_count": 146,
   "metadata": {
    "collapsed": false
   },
   "outputs": [
    {
     "data": {
      "text/plain": [
       "0.012000    59\n",
       "0.020000    43\n",
       "0.030000    33\n",
       "0.024000    24\n",
       "0.025000    19\n",
       "0.000000    18\n",
       "0.032000     9\n",
       "0.015000     9\n",
       "0.009000     8\n",
       "0.068000     8\n",
       "0.040000     8\n",
       "0.010000     7\n",
       "0.033000     6\n",
       "0.018000     6\n",
       "0.065000     5\n",
       "0.022000     5\n",
       "0.045000     5\n",
       "0.050000     4\n",
       "0.021000     4\n",
       "0.017000     4\n",
       "0.019000     4\n",
       "0.015300     4\n",
       "0.060000     3\n",
       "0.023000     3\n",
       "0.034000     3\n",
       "0.007000     3\n",
       "0.038000     3\n",
       "0.018400     3\n",
       "0.001000     3\n",
       "0.026000     2\n",
       "            ..\n",
       "0.038200     1\n",
       "0.000831     1\n",
       "0.027500     1\n",
       "0.093000     1\n",
       "0.132000     1\n",
       "0.004000     1\n",
       "0.120000     1\n",
       "0.043000     1\n",
       "0.068500     1\n",
       "0.052000     1\n",
       "0.200000     1\n",
       "0.090400     1\n",
       "0.000925     1\n",
       "0.028100     1\n",
       "0.000700     1\n",
       "0.106000     1\n",
       "0.028500     1\n",
       "0.025500     1\n",
       "0.004950     1\n",
       "0.010500     1\n",
       "0.180000     1\n",
       "0.002620     1\n",
       "0.007500     1\n",
       "0.070000     1\n",
       "0.004500     1\n",
       "0.067000     1\n",
       "0.015200     1\n",
       "0.000121     1\n",
       "0.058000     1\n",
       "0.015700     1\n",
       "Name: vitamin-c_100g, dtype: int64"
      ]
     },
     "execution_count": 146,
     "metadata": {},
     "output_type": "execute_result"
    }
   ],
   "source": []
  },
  {
   "cell_type": "code",
   "execution_count": null,
   "metadata": {
    "collapsed": true
   },
   "outputs": [],
   "source": []
  }
 ],
 "metadata": {
  "anaconda-cloud": {},
  "kernelspec": {
   "display_name": "Python [Root]",
   "language": "python",
   "name": "Python [Root]"
  },
  "language_info": {
   "codemirror_mode": {
    "name": "ipython",
    "version": 3
   },
   "file_extension": ".py",
   "mimetype": "text/x-python",
   "name": "python",
   "nbconvert_exporter": "python",
   "pygments_lexer": "ipython3",
   "version": "3.5.2"
  }
 },
 "nbformat": 4,
 "nbformat_minor": 0
}
