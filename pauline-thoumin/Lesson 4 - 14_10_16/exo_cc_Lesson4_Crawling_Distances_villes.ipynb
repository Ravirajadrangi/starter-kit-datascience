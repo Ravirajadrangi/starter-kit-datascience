
{
 "cells": [
  {
   "cell_type": "code",
   "execution_count": 1,
   "metadata": {
    "collapsed": false
   },
   "outputs": [
    {
     "name": "stdout",
     "output_type": "stream",
     "text": [
      "              Paris Marseille    Lyon Toulouse      Nice    Nantes Strasbourg  \\\n",
      "Paris           1 m    775 km  466 km   679 km    932 km    385 km     492 km   \n",
      "Marseille    775 km       1 m  314 km   403 km    199 km    985 km     798 km   \n",
      "Lyon         466 km    314 km     1 m   537 km    471 km    685 km     488 km   \n",
      "Toulouse     679 km    403 km  538 km      1 m    560 km    585 km     969 km   \n",
      "Nice         932 km    205 km  471 km   560 km       1 m  1,143 km     785 km   \n",
      "Nantes       385 km    986 km  685 km   586 km  1,143 km       1 m     866 km   \n",
      "Strasbourg   490 km    800 km  493 km   971 km    784 km    866 km        1 m   \n",
      "Montpellier  748 km    169 km  303 km   242 km    326 km    825 km     788 km   \n",
      "Bordeaux     590 km    645 km  556 km   246 km    803 km    353 km     968 km   \n",
      "Lille        225 km  1,001 km  692 km   895 km  1,158 km    601 km     525 km   \n",
      "\n",
      "            Montpellier Bordeaux     Lille  \n",
      "Paris            748 km   585 km    219 km  \n",
      "Marseille        170 km   645 km  1,000 km  \n",
      "Lyon             305 km   556 km    691 km  \n",
      "Toulouse         243 km   245 km    894 km  \n",
      "Nice             328 km   803 km  1,157 km  \n",
      "Nantes           825 km   347 km    600 km  \n",
      "Strasbourg       790 km   969 km    525 km  \n",
      "Montpellier         1 m   485 km    964 km  \n",
      "Bordeaux         485 km      1 m    806 km  \n",
      "Lille            963 km   800 km       1 m  \n"
     ]
    }
   ],
   "source": [
    "# Scraping Google maps\n",
    "\n",
    "# pour les 30 plus grandes villes de France, calculer les distances des unes aux autres\n",
    "import requests\n",
    "import bs4\n",
    "import os\n",
    "from pandas import *\n",
    " \n",
    "url2='http://lespoir.jimdo.com/2015/03/05/classement-des-plus-grandes-villes-de-france-source-insee'\n",
    "result = requests.get(url2)\n",
    "soup = bs4.BeautifulSoup(result.content, 'html.parser')\n",
    "a = soup.find_all(class_='xl65')\n",
    "\n",
    "villes=[]\n",
    "for i in range(1, 30, 3) :\n",
    "    villes.append(str(a[i].text.split(' ')[12]).replace('u\\'','').replace('\\n',''))\n",
    "#print villes\n",
    "\n",
    "\n",
    "YOUR_API_KEY =  ''\n",
    "\n",
    "def Distance(ville1, ville2) : \n",
    "    url = 'https://maps.googleapis.com/maps/api/distancematrix/xml?origins='+ville1+'&destinations='+ville2+'&key='+YOUR_API_KEY\n",
    "    result = requests.get(url)\n",
    "    soup = bs4.BeautifulSoup(result.content, 'html.parser')\n",
    "    a = soup.find_all('text')\n",
    "    d= a[1].text.replace('<text>', '').replace('</text>','')\n",
    "    t=[]\n",
    "    t.append(ville1)\n",
    "    t.append(ville2)\n",
    "    t.append(d)\n",
    "    return t\n",
    "\n",
    "#print Distance('Paris', 'Villemomble')\n",
    "#print Distance('Paris', 'Lille')\n",
    "#print Distance('Paris', 'Montlucon')\n",
    "tab=[]\n",
    "for v1 in villes :\n",
    "    d_v1=[]\n",
    "    for v2 in villes : \n",
    "        d_v1.append(Distance(v1,v2)[2])\n",
    "    tab.append(d_v1)\n",
    "D=DataFrame(tab, index = villes, columns=villes)\n",
    "\n",
    "print D\n"
   ]
  },
  {
   "cell_type": "code",
   "execution_count": null,
   "metadata": {
    "collapsed": true
   },
   "outputs": [],
   "source": []
  }
 ],
 "metadata": {
  "anaconda-cloud": {},
  "kernelspec": {
   "display_name": "Python [Root]",
   "language": "python",
   "name": "Python [Root]"
  },
  "language_info": {
   "codemirror_mode": {
    "name": "ipython",
    "version": 2
   },
   "file_extension": ".py",
   "mimetype": "text/x-python",
   "name": "python",
   "nbconvert_exporter": "python",
   "pygments_lexer": "ipython2",
   "version": "2.7.12"
  }
 },
 "nbformat": 4,
 "nbformat_minor": 0
}
