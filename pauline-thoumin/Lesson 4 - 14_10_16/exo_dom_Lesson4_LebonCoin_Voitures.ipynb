{
 "cells": [
  {
   "cell_type": "code",
   "execution_count": 44,
   "metadata": {
    "collapsed": false
   },
   "outputs": [
    {
     "ename": "IndexError",
     "evalue": "list index out of range",
     "output_type": "error",
     "traceback": [
      "\u001b[0;31m---------------------------------------------------------------------------\u001b[0m",
      "\u001b[0;31mIndexError\u001b[0m                                Traceback (most recent call last)",
      "\u001b[0;32m<ipython-input-44-1c8dcd70a10b>\u001b[0m in \u001b[0;36m<module>\u001b[0;34m()\u001b[0m\n\u001b[1;32m     32\u001b[0m     \u001b[0;31m### on ajoute le titre\u001b[0m\u001b[0;34m\u001b[0m\u001b[0;34m\u001b[0m\u001b[0m\n\u001b[1;32m     33\u001b[0m     \u001b[0mtitre\u001b[0m \u001b[0;34m=\u001b[0m \u001b[0mannonce\u001b[0m\u001b[0;34m.\u001b[0m\u001b[0mfind_all\u001b[0m\u001b[0;34m(\u001b[0m\u001b[0mclass_\u001b[0m \u001b[0;34m=\u001b[0m \u001b[0;34m'item_title'\u001b[0m\u001b[0;34m)\u001b[0m\u001b[0;34m\u001b[0m\u001b[0m\n\u001b[0;32m---> 34\u001b[0;31m     \u001b[0mT\u001b[0m\u001b[0;34m.\u001b[0m\u001b[0mappend\u001b[0m\u001b[0;34m(\u001b[0m\u001b[0mtitre\u001b[0m\u001b[0;34m[\u001b[0m\u001b[0mi\u001b[0m\u001b[0;34m]\u001b[0m\u001b[0;34m.\u001b[0m\u001b[0mtext\u001b[0m\u001b[0;34m.\u001b[0m\u001b[0msplit\u001b[0m\u001b[0;34m(\u001b[0m\u001b[0;34m'\\n'\u001b[0m\u001b[0;34m)\u001b[0m\u001b[0;34m[\u001b[0m\u001b[0;36m1\u001b[0m\u001b[0;34m]\u001b[0m\u001b[0;34m.\u001b[0m\u001b[0mreplace\u001b[0m\u001b[0;34m(\u001b[0m\u001b[0;34m'  '\u001b[0m\u001b[0;34m,\u001b[0m\u001b[0;34m''\u001b[0m\u001b[0;34m)\u001b[0m\u001b[0;34m.\u001b[0m\u001b[0mreplace\u001b[0m\u001b[0;34m(\u001b[0m\u001b[0;34m'\\t'\u001b[0m\u001b[0;34m,\u001b[0m \u001b[0;34m''\u001b[0m\u001b[0;34m)\u001b[0m\u001b[0;34m)\u001b[0m\u001b[0;34m\u001b[0m\u001b[0m\n\u001b[0m\u001b[1;32m     35\u001b[0m \u001b[0;34m\u001b[0m\u001b[0m\n\u001b[1;32m     36\u001b[0m     \u001b[0;31m### on ajoute le prix de l'annonce en INT\u001b[0m\u001b[0;34m\u001b[0m\u001b[0;34m\u001b[0m\u001b[0m\n",
      "\u001b[0;31mIndexError\u001b[0m: list index out of range"
     ]
    }
   ],
   "source": [
    "###### CRAWLING voitures \n",
    "\n",
    "import re\n",
    "import requests\n",
    "import bs4\n",
    "import os\n",
    "from pandas import *\n",
    "\n",
    "# professionnels : \n",
    "# https://www.leboncoin.fr/voitures/offres/ile_de_france/?q=Renault%20Zoe&f=c\n",
    "\n",
    "# particuliers : \n",
    "# https://www.leboncoin.fr/voitures/offres/ile_de_france/?th=1&f=p&q=Renault%20Zoe&parrot=0\n",
    "\n",
    "# 3 types de Renault : Life, Intens et Zen\n",
    "\n",
    "# particuliers\n",
    "url_part = 'https://www.leboncoin.fr/voitures/offres/ile_de_france/?th=1&f=p&q=Renault%20Zoe&parrot=0'\n",
    "result = requests.get(url_part)\n",
    "soup = bs4.BeautifulSoup(result.content, 'html.parser')\n",
    "\n",
    "# item_infos\n",
    "infos = soup.find(class_ = 'item_infos')\n",
    "titre = soup.find_all(class_ = 'item_title')\n",
    "prix = soup.find_all(class_ = 'item_price')\n",
    "a = soup.find_all('a', class_='list_item clearfix trackable')\n",
    "\n",
    "## recup du titre\n",
    "U = []\n",
    "for i in range(2) : \n",
    "    annonce = a[i]\n",
    "    T = []\n",
    "    ### on ajoute le titre\n",
    "    titre = annonce.find_all(class_ = 'item_title')\n",
    "    T.append(titre[i].text.split('\\n')[1].replace('  ','').replace('\\t', ''))\n",
    "    \n",
    "    ### on ajoute le prix de l'annonce en INT\n",
    "    prix = annonce.find_all(class_ = 'item_price')\n",
    "    T.append(int(prix[i].text.split('\\n')[1].replace('  ','').replace('\\t', '').replace(' ','')[:-2]))\n",
    "    ### on garde l'url\n",
    "    \n",
    "    ### on ajoute l'année dans l'url\n",
    "    \n",
    "    ### on ajoute les km en INT \n",
    "    \n",
    "    ### on ajoute le tel du proprio \n",
    "    \n",
    "    ### on ajoute prof ou particulier\n",
    "U.append(T)\n",
    "\n",
    "#print int(prix[1].text.split('\\n')[1].replace('  ','').replace('\\t', '').replace(' ','')[:-2])\n",
    "print U\n",
    "\n",
    "#print T.append(titre[2].text.split('\\n')[1].replace('  ','').replace('\\t', ''))\n",
    "#print a[0]\n",
    "\n",
    "#print '###############', a[1]\n",
    "\n",
    "### Bon, je vais voir autre chose... "
   ]
  },
  {
   "cell_type": "code",
   "execution_count": 46,
   "metadata": {
    "collapsed": false
   },
   "outputs": [
    {
     "name": "stdout",
     "output_type": "stream",
     "text": [
      "Saisissez un numéro de téléphone (valide) :0123456789\n"
     ]
    },
    {
     "ename": "SyntaxError",
     "evalue": "invalid token (<string>, line 1)",
     "output_type": "error",
     "traceback": [
      "\u001b[0;36m  File \u001b[0;32m\"<string>\"\u001b[0;36m, line \u001b[0;32m1\u001b[0m\n\u001b[0;31m    0123456789\u001b[0m\n\u001b[0m             ^\u001b[0m\n\u001b[0;31mSyntaxError\u001b[0m\u001b[0;31m:\u001b[0m invalid token\n"
     ]
    }
   ],
   "source": [
    "chaine = \"\"\n",
    "\n",
    "expression = r\"^0[0-9]([ .-]?[0-9]{2}){4}$\"\n",
    "\n",
    "while re.search(expression, chaine) is None:\n",
    "\n",
    "    chaine = input(\"Saisissez un numéro de téléphone (valide) :\")"
   ]
  },
  {
   "cell_type": "code",
   "execution_count": 61,
   "metadata": {
    "collapsed": false
   },
   "outputs": [
    {
     "name": "stdout",
     "output_type": "stream",
     "text": [
      "None\n"
     ]
    }
   ],
   "source": [
    "#### Inspiré du code de Pierre-Edouard, travail non terminé ###\n",
    "\n",
    "### NE RUN PAS ###\n",
    "\n",
    "\n",
    "import requests\n",
    "import bs4\n",
    "import os\n",
    "import pandas as pd\n",
    "import json\n",
    "import numpy as np\n",
    "from unidecode import unidecode\n",
    "import re\n",
    "import pdb\n",
    "\n",
    "regexphone = '((0|\\\\+33|0033)[1-9][0-9]{8})|((0|\\\\+33|0033)[1-9] [0-9]{2} [0-9]{2} [0-9]{2} [0-9]{2})|((0|\\\\+33|0033)[1-9].[0-9]{2}.[0-9]{2}.[0-9]{2}.[0-9]{2})'\n",
    "regexversion = 'ZOE(.)*(INTENS|ZEN|LIFE)'\n",
    "regextype2 = 'TYPE(\\s)?2'\n",
    "base_url = \"https://www.leboncoin.fr/annonces/offres/\"\n",
    "param_zoe = {}\n",
    "param_zoe[\"q\"] = \"renault zoe\"\n",
    "maxpage = 20\n",
    "\n",
    "#param_zoe[\"o\"] = page\n",
    "r = requests.get('https://www.leboncoin.fr/voitures/offres/ile_de_france/?q=Renault%20Zoe&f=c')\n",
    "soup = bs4.BeautifulSoup(r.content, 'html.parser')\n",
    "\n",
    "annonces = soup.find(\"section\", class_=\"tabsContent\").find_all(\"a\")\n",
    "res = []\n",
    "\n",
    "\n",
    "#for i in range(0, len(annonces)):\n",
    "\n",
    "\n",
    "# Récupération du lien de l'annonce et du flag professionnel/particulier\n",
    "lien_annonce = annonces[0][\"href\"][2:]\n",
    "info_annonce = annonces[0][\"data-info\"]\n",
    "if(info_annonce.split(\",\")[6][16:-2] == \"pro\"): \n",
    "    propart = \"professionnel\"\n",
    "else: propart = \"particulier\"\n",
    "\n",
    "# Seules les annonces de voitures doivent être parcourues\n",
    "#if(annonces[0].find(\"p\", class_=\"item_supp\").text.split(\"\\n\")[3].strip() == \"Voitures\"):\n",
    "    #r2 = requests.get(\"https://\"+lien_annonce)\n",
    "    # test avec une autre url\n",
    "r2 = requests.get(\"https://www.leboncoin.fr/voitures/1034575248.htm?ca=12_s\")\n",
    "soup2 = bs4.BeautifulSoup(r2.content, 'html.parser')    \n",
    "    \n",
    "    \n",
    "#### fonction find_property\n",
    "def find_property(soup2, property):\n",
    "    div = soup2.find_all(\"div\")\n",
    "    property_encoded = unidecode(property.decode(\"utf8\"))\n",
    "    for i in range(0, len(div)):\n",
    "        try:\n",
    "            if unidecode(div[i].find(\"span\", class_ = \"property\").text) == property_encoded:\n",
    "                return div[i].find(\"span\", class_ = \"value\").text\n",
    "        except AttributeError, IndexError:\n",
    "            continue\n",
    "            \n",
    "            \n",
    "# Récupération de la marque\n",
    "item_marque = str(find_property(soup2, \"Marque\"))\n",
    "# Récupération du prix\n",
    "item_price = float(soup2.find(\"h2\", class_=\"item_price\")[\"content\"])\n",
    "# Récupération du kilométrage\n",
    "item_kilometrage = int(find_property(soup2, \"Kilométrage\").replace(\"KM\",\"\").replace(\" \",\"\"))\n",
    "# Récupération de l'année\n",
    "item_annee = int(find_property(soup2, \"Année-modèle\"))\n",
    "\n",
    "def find_description(soup2):\n",
    "    div = soup2.find_all(\"div\")\n",
    "    description = \"\"\n",
    "    for i in range(0, len(div)):\n",
    "        try:\n",
    "            description = div[i].find(\"p\", itemprop = \"description\").text.replace(u'\\xe9',\"e\")\n",
    "        except AttributeError:\n",
    "            continue\n",
    "    return description.encode(\"utf8\")\n",
    "\n",
    "# Récupération de la description et dun titre\n",
    "item_description = find_description(soup2)\n",
    "item_title = unidecode(soup2.find(\"section\", class_ = \"adview block-white flex-item-first\").find(\"h1\").text.strip().replace(u'\\xe9',\"e\"))\n",
    "#*******************\n",
    "item_modele_split_fromtitle = re.search(regexversion,str.upper(item_title)).group().split(\" \")\n",
    "#*******************\n",
    "item_modele = \"ZOE \"+item_modele_split_fromtitle[len(item_modele_split_fromtitle) - 1].replace(\"ZOE\",\"\")\n",
    "\n",
    "item_type2_fromtitle = re.search(regextype2,str.upper(item_title)).group().split(\" \")\n",
    "#flag_type2 = True\n",
    "\n",
    "print item_type2_fromtitle\n",
    "\n",
    "    #lien_annonce = annonces[i][\"href\"][2:]\n",
    "    #info_annonce = annonces[i][\"data-info\"]\n",
    "    #if(info_annonce.split(\",\")[6][16:-2] == \"pro\"): propart = \"professionnel\"\n",
    "    #else: propart = \"particulier\"\n",
    "\n",
    "    # Seules les annonces de voitures doivent être parcourures\n",
    "    #if(annonces[i].find(\"p\", class_=\"item_supp\").text.split(\"\\n\")[3].strip() == \"Voitures\"):\n",
    "        #r2 = requests.get(\"https://\"+lien_annonce)\n",
    "        #soup2 = bs4.BeautifulSoup(r2.content, 'html.parser')\n",
    "\n",
    "        # Récupération de la marque\n",
    "        #item_marque = str(find_property(soup2, \"Marque\"))\n",
    "\n",
    "            #if(item_marque != \"Renault\"): continue\n",
    "\n",
    "            # Récupération du prix\n",
    "            #item_price = float(soup2.find(\"h2\", class_=\"item_price\")[\"content\"])\n",
    "\n",
    "            # Récupération du kilométrage\n",
    "            #item_kilometrage = int(find_property(soup2, \"Kilométrage\").replace(\"KM\",\"\").replace(\" \",\"\"))\n",
    "\n",
    "            # Récupération de l'année\n",
    "            #item_annee = int(find_property(soup2, \"Année-modèle\"))\n",
    "\n",
    "            # Récupération de la description et dun titre\n",
    "            #item_description = find_description(soup2)\n",
    "            #item_title = unidecode(soup2.find(\"section\", class_ = \"adview block-white flex-item-first\").find(\"h1\").text.strip().replace(u'\\xe9',\"e\"))\n",
    "\n",
    "            # Récupération du modèle\n",
    "            #try:\n",
    "                # On teste d'abord le titre\n",
    "                #item_modele_split_fromtitle = re.search(regexversion,str.upper(item_title)).group().split(\" \")\n",
    "                #item_modele = \"ZOE \"+item_modele_split_fromtitle[len(item_modele_split_fromtitle) - 1].replace(\"ZOE\",\"\")\n",
    "            #except AttributeError:\n",
    "                #item_modele = \"\"\n",
    "                #try:\n",
    "                    #item_modele_split = re.search(regexversion,str.upper(item_description)).group().split(\" \")\n",
    "                    #item_modele = \"ZOE \"+item_modele_split[len(item_modele_split) - 1].replace(\"ZOE\",\"\")\n",
    "                #except AttributeError:\n",
    "                    #item_modele = \"\"\n",
    "\n",
    "            ## Récupération de type 2 ou non\n",
    "            #try:\n",
    "                # On teste d'abord le titre\n",
    "                #item_type2_fromtitle = re.search(regextype2,str.upper(item_title)).group().split(\" \")\n",
    "                #flag_type2 = True\n",
    "            #except AttributeError:\n",
    "                #try:\n",
    "                    #item_type2 = re.search(regextype2,str.upper(item_description)).group().split(\" \")\n",
    "                    #flag_type2 = True\n",
    "                #except AttributeError:\n",
    "                    #flag_type2 = False\n",
    "\n",
    "            # 2016 : pas de cote zen, intens, life charge rapide sans type 2\n",
    "            #if(item_annee == 2016): flag_type2 = True\n",
    "\n",
    "            # Récupération du numéro de téléphone\n",
    "            #try:\n",
    "                #ip = re.search(regexphone,item_description).group().replace(\" \",\"\").replace(\".\",\"\")\n",
    "                #item_phone = ip[:-8]+\".\"+ip[-8:-6]+\".\"+ip[-6:-4]+\".\"+ip[-4:-2]+\".\"+ip[-2:] # Mise sous la forme 01.23.45.67.89 (pour garder le 0 initial)\n",
    "            #except AttributeError:\n",
    "                #item_phone = \"\"\n",
    "\n",
    "            #print item_modele, item_annee, item_kilometrage, item_price, item_phone, propart, lien_annonce\n",
    "\n",
    "            #if(item_modele != \"\"):\n",
    "                #cote = find_cote(item_modele.split(\" \")[1], flag_type2, item_annee)\n",
    "            #else:\n",
    "                #cote = -9999\n",
    "\n",
    "            #res.append([region, item_modele, flag_type2, item_annee, item_kilometrage, item_price, item_phone, propart, lien_annonce, cote, item_price > cote])\n",
    "            # else:\n",
    "                # print \"Il ne s'agit pas d'une voiture\"\n",
    "    #return res"
   ]
  },
  {
   "cell_type": "code",
   "execution_count": 62,
   "metadata": {
    "collapsed": false
   },
   "outputs": [
    {
     "name": "stdout",
     "output_type": "stream",
     "text": [
      "Annee\n"
     ]
    }
   ],
   "source": [
    "property_encoded = unidecode(\"Année\".decode(\"utf8\")) \n",
    "print property_encoded"
   ]
  },
  {
   "cell_type": "code",
   "execution_count": 63,
   "metadata": {
    "collapsed": false
   },
   "outputs": [
    {
     "name": "stdout",
     "output_type": "stream",
     "text": [
      "3\n"
     ]
    }
   ],
   "source": [
    "print str(3)"
   ]
  },
  {
   "cell_type": "code",
   "execution_count": null,
   "metadata": {
    "collapsed": true
   },
   "outputs": [],
   "source": []
  }
 ],
 "metadata": {
  "anaconda-cloud": {},
  "kernelspec": {
   "display_name": "Python [Root]",
   "language": "python",
   "name": "Python [Root]"
  },
  "language_info": {
   "codemirror_mode": {
    "name": "ipython",
    "version": 2
   },
   "file_extension": ".py",
   "mimetype": "text/x-python",
   "name": "python",
   "nbconvert_exporter": "python",
   "pygments_lexer": "ipython2",
   "version": "2.7.12"
  }
 },
 "nbformat": 4,
 "nbformat_minor": 0
}
