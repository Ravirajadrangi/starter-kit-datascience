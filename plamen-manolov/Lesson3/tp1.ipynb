{
 "cells": [
  {
   "cell_type": "code",
   "execution_count": 3,
   "metadata": {
    "collapsed": true
   },
   "outputs": [],
   "source": [
    "import math # importe un package\n",
    "import numpy as np # importe un package sous un nom particulier\n",
    "from sklearn import linear_model # importe tout un module\n",
    "from os import mkdir # importe une fonction"
   ]
  },
  {
   "cell_type": "code",
   "execution_count": 4,
   "metadata": {
    "collapsed": false
   },
   "outputs": [
    {
     "name": "stdout",
     "output_type": "stream",
     "text": [
      "Help on built-in function mkdir in module posix:\n",
      "\n",
      "mkdir(...)\n",
      "    mkdir(path [, mode=0777])\n",
      "    \n",
      "    Create a directory.\n",
      "\n"
     ]
    }
   ],
   "source": [
    "help(mkdir)"
   ]
  },
  {
   "cell_type": "code",
   "execution_count": 5,
   "metadata": {
    "collapsed": true
   },
   "outputs": [],
   "source": [
    "linear_model.LinearRegression?"
   ]
  },
  {
   "cell_type": "code",
   "execution_count": 6,
   "metadata": {
    "collapsed": false
   },
   "outputs": [
    {
     "name": "stdout",
     "output_type": "stream",
     "text": [
      "1.11.1\n"
     ]
    },
    {
     "data": {
      "text/plain": [
       "(['class LinearRegression(LinearModel, RegressorMixin):\\n',\n",
       "  '    \"\"\"\\n',\n",
       "  '    Ordinary least squares Linear Regression.\\n',\n",
       "  '\\n',\n",
       "  '    Parameters\\n',\n",
       "  '    ----------\\n',\n",
       "  '    fit_intercept : boolean, optional\\n',\n",
       "  '        whether to calculate the intercept for this model. If set\\n',\n",
       "  '        to false, no intercept will be used in calculations\\n',\n",
       "  '        (e.g. data is expected to be already centered).\\n',\n",
       "  '\\n',\n",
       "  '    normalize : boolean, optional, default False\\n',\n",
       "  '        If True, the regressors X will be normalized before regression.\\n',\n",
       "  '\\n',\n",
       "  '    copy_X : boolean, optional, default True\\n',\n",
       "  '        If True, X will be copied; else, it may be overwritten.\\n',\n",
       "  '\\n',\n",
       "  '    n_jobs : int, optional, default 1\\n',\n",
       "  '        The number of jobs to use for the computation.\\n',\n",
       "  '        If -1 all CPUs are used. This will only provide speedup for\\n',\n",
       "  '        n_targets > 1 and sufficient large problems.\\n',\n",
       "  '\\n',\n",
       "  '    Attributes\\n',\n",
       "  '    ----------\\n',\n",
       "  '    coef_ : array, shape (n_features, ) or (n_targets, n_features)\\n',\n",
       "  '        Estimated coefficients for the linear regression problem.\\n',\n",
       "  '        If multiple targets are passed during the fit (y 2D), this\\n',\n",
       "  '        is a 2D array of shape (n_targets, n_features), while if only\\n',\n",
       "  '        one target is passed, this is a 1D array of length n_features.\\n',\n",
       "  '\\n',\n",
       "  '    intercept_ : array\\n',\n",
       "  '        Independent term in the linear model.\\n',\n",
       "  '\\n',\n",
       "  '    Notes\\n',\n",
       "  '    -----\\n',\n",
       "  '    From the implementation point of view, this is just plain Ordinary\\n',\n",
       "  '    Least Squares (scipy.linalg.lstsq) wrapped as a predictor object.\\n',\n",
       "  '\\n',\n",
       "  '    \"\"\"\\n',\n",
       "  '\\n',\n",
       "  '    def __init__(self, fit_intercept=True, normalize=False, copy_X=True,\\n',\n",
       "  '                 n_jobs=1):\\n',\n",
       "  '        self.fit_intercept = fit_intercept\\n',\n",
       "  '        self.normalize = normalize\\n',\n",
       "  '        self.copy_X = copy_X\\n',\n",
       "  '        self.n_jobs = n_jobs\\n',\n",
       "  '\\n',\n",
       "  '    @property\\n',\n",
       "  '    @deprecated(\"``residues_`` is deprecated and will be removed in 0.19\")\\n',\n",
       "  '    def residues_(self):\\n',\n",
       "  '        \"\"\"Get the residues of the fitted model.\"\"\"\\n',\n",
       "  '        return self._residues\\n',\n",
       "  '\\n',\n",
       "  '    def fit(self, X, y, sample_weight=None):\\n',\n",
       "  '        \"\"\"\\n',\n",
       "  '        Fit linear model.\\n',\n",
       "  '\\n',\n",
       "  '        Parameters\\n',\n",
       "  '        ----------\\n',\n",
       "  '        X : numpy array or sparse matrix of shape [n_samples,n_features]\\n',\n",
       "  '            Training data\\n',\n",
       "  '\\n',\n",
       "  '        y : numpy array of shape [n_samples, n_targets]\\n',\n",
       "  '            Target values\\n',\n",
       "  '\\n',\n",
       "  '        sample_weight : numpy array of shape [n_samples]\\n',\n",
       "  '            Individual weights for each sample\\n',\n",
       "  '\\n',\n",
       "  '            .. versionadded:: 0.17\\n',\n",
       "  '               parameter *sample_weight* support to LinearRegression.\\n',\n",
       "  '\\n',\n",
       "  '        Returns\\n',\n",
       "  '        -------\\n',\n",
       "  '        self : returns an instance of self.\\n',\n",
       "  '        \"\"\"\\n',\n",
       "  '\\n',\n",
       "  '        n_jobs_ = self.n_jobs\\n',\n",
       "  \"        X, y = check_X_y(X, y, accept_sparse=['csr', 'csc', 'coo'],\\n\",\n",
       "  '                         y_numeric=True, multi_output=True)\\n',\n",
       "  '\\n',\n",
       "  '        if ((sample_weight is not None) and np.atleast_1d(sample_weight).ndim > 1):\\n',\n",
       "  '            sample_weight = column_or_1d(sample_weight, warn=True)\\n',\n",
       "  '\\n',\n",
       "  '        X, y, X_mean, y_mean, X_std = self._center_data(\\n',\n",
       "  '            X, y, self.fit_intercept, self.normalize, self.copy_X,\\n',\n",
       "  '            sample_weight=sample_weight)\\n',\n",
       "  '\\n',\n",
       "  '        if sample_weight is not None:\\n',\n",
       "  '            # Sample weight can be implemented via a simple rescaling.\\n',\n",
       "  '            X, y = _rescale_data(X, y, sample_weight)\\n',\n",
       "  '\\n',\n",
       "  '        if sp.issparse(X):\\n',\n",
       "  '            if y.ndim < 2:\\n',\n",
       "  '                out = sparse_lsqr(X, y)\\n',\n",
       "  '                self.coef_ = out[0]\\n',\n",
       "  '                self._residues = out[3]\\n',\n",
       "  '            else:\\n',\n",
       "  '                # sparse_lstsq cannot handle y with shape (M, K)\\n',\n",
       "  '                outs = Parallel(n_jobs=n_jobs_)(\\n',\n",
       "  '                    delayed(sparse_lsqr)(X, y[:, j].ravel())\\n',\n",
       "  '                    for j in range(y.shape[1]))\\n',\n",
       "  '                self.coef_ = np.vstack(out[0] for out in outs)\\n',\n",
       "  '                self._residues = np.vstack(out[3] for out in outs)\\n',\n",
       "  '        else:\\n',\n",
       "  '            self.coef_, self._residues, self.rank_, self.singular_ = \\\\\\n',\n",
       "  '                linalg.lstsq(X, y)\\n',\n",
       "  '            self.coef_ = self.coef_.T\\n',\n",
       "  '\\n',\n",
       "  '        if y.ndim == 1:\\n',\n",
       "  '            self.coef_ = np.ravel(self.coef_)\\n',\n",
       "  '        self._set_intercept(X_mean, y_mean, X_std)\\n',\n",
       "  '        return self\\n'],\n",
       " 349)"
      ]
     },
     "execution_count": 6,
     "metadata": {},
     "output_type": "execute_result"
    }
   ],
   "source": [
    "print(np.__version__) # obtenir la version d'un package\n",
    "from inspect import getsourcelines # obtenir le code source de fonctions\n",
    "getsourcelines(linear_model.LinearRegression)"
   ]
  },
  {
   "cell_type": "code",
   "execution_count": 52,
   "metadata": {
    "collapsed": false
   },
   "outputs": [],
   "source": [
    "def nextpower (n):\n",
    "    result=1\n",
    "    i=0\n",
    "    while 2**i <= n:\n",
    "        i=i+1\n",
    "        #print i\n",
    "    return i-1"
   ]
  },
  {
   "cell_type": "code",
   "execution_count": 124,
   "metadata": {
    "collapsed": false
   },
   "outputs": [
    {
     "data": {
      "text/plain": [
       "6"
      ]
     },
     "execution_count": 124,
     "metadata": {},
     "output_type": "execute_result"
    }
   ],
   "source": [
    "nextpower (100)"
   ]
  },
  {
   "cell_type": "code",
   "execution_count": 102,
   "metadata": {
    "collapsed": false
   },
   "outputs": [],
   "source": [
    "def mots():\n",
    "    import string\n",
    "    chaine=string.ascii_lowercase\n",
    "    print chaine\n",
    "    print chaine[2::3]\n",
    "    print chaine[-5::2]\n",
    "    print chaine[21]+chaine[23]+chaine[25]"
   ]
  },
  {
   "cell_type": "code",
   "execution_count": 103,
   "metadata": {
    "collapsed": false
   },
   "outputs": [
    {
     "name": "stdout",
     "output_type": "stream",
     "text": [
      "abcdefghijklmnopqrstuvwxyz\n",
      "cfilorux\n",
      "vxz\n",
      "vxz\n"
     ]
    }
   ],
   "source": [
    "mots()"
   ]
  },
  {
   "cell_type": "code",
   "execution_count": 107,
   "metadata": {
    "collapsed": false
   },
   "outputs": [
    {
     "data": {
      "text/plain": [
       "'zyxwvutsrqponmlkjihgfedcba'"
      ]
     },
     "execution_count": 107,
     "metadata": {},
     "output_type": "execute_result"
    }
   ],
   "source": [
    "tmp[-1::-1]"
   ]
  },
  {
   "cell_type": "code",
   "execution_count": 108,
   "metadata": {
    "collapsed": false
   },
   "outputs": [
    {
     "name": "stdout",
     "output_type": "stream",
     "text": [
      "Help on built-in function range in module __builtin__:\n",
      "\n",
      "range(...)\n",
      "    range(stop) -> list of integers\n",
      "    range(start, stop[, step]) -> list of integers\n",
      "    \n",
      "    Return a list containing an arithmetic progression of integers.\n",
      "    range(i, j) returns [i, i+1, i+2, ..., j-1]; start (!) defaults to 0.\n",
      "    When step is given, it specifies the increment (or decrement).\n",
      "    For example, range(4) returns [0, 1, 2, 3].  The end point is omitted!\n",
      "    These are exactly the valid indices for a list of 4 elements.\n",
      "\n"
     ]
    }
   ],
   "source": [
    "help(range)"
   ]
  },
  {
   "cell_type": "code",
   "execution_count": 110,
   "metadata": {
    "collapsed": false
   },
   "outputs": [
    {
     "data": {
      "text/plain": [
       "[-5, -3, -1]"
      ]
     },
     "execution_count": 110,
     "metadata": {},
     "output_type": "execute_result"
    }
   ],
   "source": [
    "range(-5,0, 2)"
   ]
  },
  {
   "cell_type": "code",
   "execution_count": 122,
   "metadata": {
    "collapsed": false
   },
   "outputs": [
    {
     "name": "stdout",
     "output_type": "stream",
     "text": [
      "3.141592654\n"
     ]
    }
   ],
   "source": [
    "print round(math.pi,9)"
   ]
  },
  {
   "cell_type": "code",
   "execution_count": 133,
   "metadata": {
    "collapsed": false
   },
   "outputs": [
    {
     "name": "stdout",
     "output_type": "stream",
     "text": [
      "3.141592654\n"
     ]
    }
   ],
   "source": [
    "print \"%.9f\" % (math.pi)"
   ]
  },
  {
   "cell_type": "code",
   "execution_count": 196,
   "metadata": {
    "collapsed": false
   },
   "outputs": [],
   "source": [
    "def occur():\n",
    "    s=\"HelLo WorLd!!!\"\n",
    "    dico={}\n",
    "    for l in s:\n",
    "        if l not in dico:\n",
    "            dico[l] = 1\n",
    "        else: \n",
    "            dico[l] += 1\n",
    "    print dico"
   ]
  },
  {
   "cell_type": "code",
   "execution_count": 195,
   "metadata": {
    "collapsed": false
   },
   "outputs": [
    {
     "name": "stdout",
     "output_type": "stream",
     "text": [
      "{'!': 3, ' ': 1, 'e': 1, 'd': 1, 'H': 1, 'l': 1, 'o': 2, 'L': 2, 'r': 1, 'W': 1}\n"
     ]
    }
   ],
   "source": [
    "occur()"
   ]
  },
  {
   "cell_type": "code",
   "execution_count": 6,
   "metadata": {
    "collapsed": false
   },
   "outputs": [
    {
     "ename": "SyntaxError",
     "evalue": "Missing parentheses in call to 'print' (<ipython-input-6-8af20c70f33a>, line 15)",
     "output_type": "error",
     "traceback": [
      "\u001b[0;36m  File \u001b[0;32m\"<ipython-input-6-8af20c70f33a>\"\u001b[0;36m, line \u001b[0;32m15\u001b[0m\n\u001b[0;31m    print encodage\u001b[0m\n\u001b[0m                 ^\u001b[0m\n\u001b[0;31mSyntaxError\u001b[0m\u001b[0;31m:\u001b[0m Missing parentheses in call to 'print'\n"
     ]
    }
   ],
   "source": [
    "def codage(expression):\n",
    "    import string\n",
    "    import random\n",
    "    encodage={}\n",
    "    chaine=string.ascii_lowercase\n",
    "    #print chaine\n",
    "    for l in chaine:\n",
    "        #print l\n",
    "        if (l not in encodage):\n",
    "            lakey=random.choice(chaine)\n",
    "            #lakey=random.choice(len(chaine))\n",
    "            encodage(l)=lakey\n",
    "            #chaine[lakey].drop\n",
    "            #print encodage[l]\n",
    "    print encodage\n",
    "    for l in expression:\n",
    "        #print expression[l] \n",
    "        print encodage[l]"
   ]
  },
  {
   "cell_type": "code",
   "execution_count": 298,
   "metadata": {
    "collapsed": false
   },
   "outputs": [
    {
     "name": "stdout",
     "output_type": "stream",
     "text": [
      "{'a': 'q', 'c': 'o', 'b': 'd', 'e': 'k', 'd': 'm', 'g': 'e', 'f': 'r', 'i': 'm', 'h': 'd', 'k': 'n', 'j': 'q', 'm': 'p', 'l': 'j', 'o': 'j', 'n': 'y', 'q': 'h', 'p': 'k', 's': 'c', 'r': 'n', 'u': 'q', 't': 's', 'w': 'p', 'v': 'u', 'y': 'w', 'x': 'y', 'z': 'm'}\n",
      "s\n",
      "j\n",
      "s\n",
      "j\n"
     ]
    }
   ],
   "source": [
    "codage('toto')"
   ]
  },
  {
   "cell_type": "code",
   "execution_count": 292,
   "metadata": {
    "collapsed": false
   },
   "outputs": [
    {
     "ename": "TypeError",
     "evalue": "shuffle() takes at most 3 arguments (4 given)",
     "output_type": "error",
     "traceback": [
      "\u001b[1;31m---------------------------------------------------------------------------\u001b[0m",
      "\u001b[1;31mTypeError\u001b[0m                                 Traceback (most recent call last)",
      "\u001b[1;32m<ipython-input-292-c1cc6ba3b155>\u001b[0m in \u001b[0;36m<module>\u001b[1;34m()\u001b[0m\n\u001b[0;32m      3\u001b[0m \u001b[0mchaine\u001b[0m\u001b[1;33m=\u001b[0m\u001b[0mstring\u001b[0m\u001b[1;33m.\u001b[0m\u001b[0mascii_lowercase\u001b[0m\u001b[1;33m\u001b[0m\u001b[0m\n\u001b[0;32m      4\u001b[0m \u001b[0mtoto\u001b[0m\u001b[1;33m=\u001b[0m\u001b[1;34m\"\"\u001b[0m\u001b[1;33m\u001b[0m\u001b[0m\n\u001b[1;32m----> 5\u001b[1;33m \u001b[1;32mprint\u001b[0m \u001b[0mrandom\u001b[0m\u001b[1;33m.\u001b[0m\u001b[0mshuffle\u001b[0m\u001b[1;33m(\u001b[0m\u001b[0mchaine\u001b[0m\u001b[1;33m,\u001b[0m\u001b[0mtoto\u001b[0m\u001b[1;33m,\u001b[0m\u001b[0mrandom\u001b[0m\u001b[1;33m)\u001b[0m\u001b[1;33m\u001b[0m\u001b[0m\n\u001b[0m",
      "\u001b[1;31mTypeError\u001b[0m: shuffle() takes at most 3 arguments (4 given)"
     ]
    }
   ],
   "source": [
    "import random \n",
    "import string\n",
    "chaine=string.ascii_lowercase\n",
    "toto=\"\"\n",
    "print random.shuffle(chaine,toto,random)"
   ]
  },
  {
   "cell_type": "code",
   "execution_count": 550,
   "metadata": {
    "collapsed": false
   },
   "outputs": [],
   "source": [
    "def codage(expression):\n",
    "    import string\n",
    "    import random\n",
    "    encodage={}\n",
    "    maChaineEnc = \"\"\n",
    "    maChaineDecod = \"\"\n",
    "    chaine=string.ascii_lowercase\n",
    "    idx_codage=range(len(chaine))\n",
    "    print chaine.split()\n",
    "    print chaine\n",
    "    print idx_codage\n",
    "    random.shuffle(idx_codage)\n",
    "    print idx_codage\n",
    "    print \"encodage de \" + expression\n",
    "    for i in range(len(chaine)):\n",
    "        maChaineEnc[i]=idx_codage[i]\n",
    "    for l in (expression):\n",
    "        maChaine=maChaine + (chaine[idx_codage[(chaine.index(l))]])\n",
    "        #print l + \"=\" + chaine[idx_codage[(chaine.index(l))]]\n",
    "        #idx = chaine.index(l) \n",
    "        #print \"idx=\" + str(idx) \n",
    "        #print \"codage=\" +str(idx_codage[(chaine.index(l))])\n",
    "        #idx_dec = idx_codage[(chaine.index(l))]\n",
    "        #print chaine[idx_dec]\n",
    "        #chaine[idx_codage[1]]\n",
    "    print maChaine\n",
    "    print \"decocodage de \" + maChaine\n",
    "    for l in (maChaine):\n",
    "        print idx_codage[chaine.index(l)]\n",
    "    #        print (idx_codage[chaine[(idx_codage.index(l))]])\n",
    "    #maChaineDecod= maChaineDecod + (chaine[idx_codage[(chaine.index(l))]])"
   ]
  },
  {
   "cell_type": "code",
   "execution_count": 551,
   "metadata": {
    "collapsed": false
   },
   "outputs": [
    {
     "name": "stdout",
     "output_type": "stream",
     "text": [
      "['abcdefghijklmnopqrstuvwxyz']\n",
      "abcdefghijklmnopqrstuvwxyz\n",
      "[0, 1, 2, 3, 4, 5, 6, 7, 8, 9, 10, 11, 12, 13, 14, 15, 16, 17, 18, 19, 20, 21, 22, 23, 24, 25]\n",
      "[25, 17, 5, 12, 22, 24, 19, 14, 8, 13, 6, 10, 2, 18, 1, 16, 4, 15, 11, 21, 9, 23, 0, 3, 20, 7]\n",
      "encodage de toto\n",
      "vbvb\n",
      "decocodage de vbvb\n",
      "23\n",
      "17\n",
      "23\n",
      "17\n"
     ]
    }
   ],
   "source": [
    "codage('toto')"
   ]
  },
  {
   "cell_type": "code",
   "execution_count": 472,
   "metadata": {
    "collapsed": false
   },
   "outputs": [
    {
     "name": "stdout",
     "output_type": "stream",
     "text": [
      "Reshuffled list :  [5, 20, 10, 16]\n",
      "Reshuffled list :  [5, 20, 16, 10]\n"
     ]
    }
   ],
   "source": [
    "list = [20, 16, 10, 5];\n",
    "random.shuffle(list)\n",
    "print \"Reshuffled list : \",  list\n",
    "\n",
    "random.shuffle(list)\n",
    "print \"Reshuffled list : \",  list"
   ]
  },
  {
   "cell_type": "code",
   "execution_count": 22,
   "metadata": {
    "collapsed": false
   },
   "outputs": [
    {
     "name": "stdout",
     "output_type": "stream",
     "text": [
      "1.3333333333333333\n",
      "1.422222222222222\n",
      "1.4628571428571426\n",
      "1.4860770975056685\n",
      "1.5010879772784531\n",
      "1.5115850960006803\n",
      "1.5193368144417094\n",
      "1.5252949980277553\n",
      "1.530017273563445\n",
      "apres  100000 iterations = 1.5707923998286235\n"
     ]
    }
   ],
   "source": [
    "r=1\n",
    "for i in range(1,100001):\n",
    "    r=r*(4*i**2/(4*i**2-1))\n",
    "    if (i < 10 ):\n",
    "        print (r)\n",
    "print (\"apres \" ,i, \"iterations =\", r)"
   ]
  },
  {
   "cell_type": "code",
   "execution_count": null,
   "metadata": {
    "collapsed": true
   },
   "outputs": [],
   "source": []
  }
 ],
 "metadata": {
  "kernelspec": {
   "display_name": "Python 3",
   "language": "python",
   "name": "python3"
  },
  "language_info": {
   "codemirror_mode": {
    "name": "ipython",
    "version": 3
   },
   "file_extension": ".py",
   "mimetype": "text/x-python",
   "name": "python",
   "nbconvert_exporter": "python",
   "pygments_lexer": "ipython3",
   "version": "3.5.2"
  }
 },
 "nbformat": 4,
 "nbformat_minor": 0
}
