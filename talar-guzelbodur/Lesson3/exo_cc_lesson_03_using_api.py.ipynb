{
 "cells": [
  {
   "cell_type": "code",
   "execution_count": null,
   "metadata": {
    "collapsed": true
   },
   "outputs": [],
   "source": [
    "import requests\n",
    "import json\n",
    "from pprint import pprint\n",
    "\n",
    "##############\n",
    "# CONSTANTES #\n",
    "##############\n",
    "base_url_api = \"https://api.cdiscount.com/OpenApi/json/Search\"\n",
    "\n",
    "#############\n",
    "# FONCTIONS #\n",
    "#############\n",
    "def getDiscountPricesAPI(brand):\n",
    "    json_template = open('api_params.json')\n",
    "    json_req = json.load(json_template)\n",
    "    json_req['SearchRequest']['Filters']['Brands'] = [brand]\n",
    "\n",
    "    step = 100\n",
    "    p_max = 2000\n",
    "    for min_price in range(0, p_max, step):\n",
    "        json_req['SearchRequest']['Filters']['Price']['Min'] = min_price\n",
    "        json_req['SearchRequest']['Filters']['Price']['Max'] = min_price + step\n",
    "\n",
    "        # Had to use json.dumps because calling str on json_req leaves ' characters\n",
    "        pprint(json_req['SearchRequest']['Filters']['Price'])\n",
    "        resp = requests.post(base_url_api, data=json.dumps(json_req))\n",
    "        offers = json.loads(resp.text)['Products']\n",
    "        for offer in offers:\n",
    "            pprint(offer['BestOffer']['SalePrice'])\n",
    "\n",
    "########\n",
    "# MAIN #\n",
    "########\n",
    "def main():\n",
    "    acer_discounts = getDiscountPricesAPI(\"acer\")\n",
    "    # dell_prices = getCDiscountPrices(\"dell\")\n",
    "\n",
    "\n",
    "if __name__ == '__main__':\n",
    "    main()"
   ]
  }
 ],
 "metadata": {
  "kernelspec": {
   "display_name": "Python 3",
   "language": "python",
   "name": "python3"
  },
  "language_info": {
   "codemirror_mode": {
    "name": "ipython",
    "version": 3
   },
   "file_extension": ".py",
   "mimetype": "text/x-python",
   "name": "python",
   "nbconvert_exporter": "python",
   "pygments_lexer": "ipython3",
   "version": "3.5.2"
  }
 },
 "nbformat": 4,
 "nbformat_minor": 0
}
